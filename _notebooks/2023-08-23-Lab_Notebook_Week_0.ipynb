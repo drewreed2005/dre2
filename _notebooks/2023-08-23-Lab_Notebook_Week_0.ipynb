{
 "cells": [
  {
   "cell_type": "markdown",
   "metadata": {},
   "source": [
    "---\n",
    "toc: true\n",
    "comments: true\n",
    "layout: post\n",
    "title: Lab Notebook Week 0\n",
    "description: A comprehensive collection of my Week 0 hacks and work.\n",
    "courses: { csa: {week: 0} }\n",
    "---"
   ]
  },
  {
   "cell_type": "markdown",
   "metadata": {},
   "source": [
    "# Tools Installation and Loving my Tools\n",
    "\n",
    "## Learning to Accept It\n",
    "\n",
    "Considering that the main hurdle I had to surpass before I could get to work on CSA work was related to tools, I wasn't very inclined to say I love my tools during the first few days. I couldn't get my local server up and, since I had forked the repository without creating a separate repo to host the GitHub Pages domain through, I basically had a nonexistent page. When I went on the search for solutions, though, I began to see the light.\n",
    "\n",
    "`bundler: command not found: 'jekyll'`\n",
    "\n",
    "My personal experience with the errors was most often related to my system's attempts to track down locations of gems in different places at the same time. After searching around on the internet, I found that I could get started using rbenv.\n",
    "\n",
    "### Finding Success\n",
    "\n",
    "I researched how to use rbenv to manage my Ruby environment. Since jekyll was having a bundler problem because it somehow ended up in Ruby 2.7.0, I tried shifting to Ruby 2.7.0 locally with `rbenv local 2.7.0`. Most often, however, even after once again running `ruby -v`, it would still say I was in the wrong environment. At some point, running `rbenv rehash` and reopening the terminal did the trick, but that wasn't the end.\n",
    "\n",
    "I ended up using `bundle list` to see which files I had. After running `bundle install`, I was repeatedly told that I was missing `commonmarker`, `racc` and something else, so it claimed to download it before saying the task was finished. I figured that they must not be downloading properly for some reason so I tried installing them individually, which revealed that the problem may have been with my Bundler version.\n",
    "\n",
    "Long story short, by learning to understand the versions and locations of the various tools we used for setup, I came to love them. Now, here's a whole section dedicated to why I loved all of these different tools."
   ]
  },
  {
   "cell_type": "markdown",
   "metadata": {},
   "source": [
    "## Love Stories\n",
    "\n",
    "I discuss the many things I've worked with so far and why I love them so dearly below.\n",
    "\n",
    "### GitHub\n",
    "\n",
    "GitHub is arguably the best thing that ever happened to coders. Not specifically to computer science, but to the people behind it. I can't imagine how difficult it would be to work together with people on shared projects or store my progress on a bulky, complicated repository without the extremely easy-to-use and effective systems of GitHub. Collaboration has been the cornerstone of each trimester, and without GitHub, we would really be at a loss.\n",
    "\n",
    "#### GitHub Pages\n",
    "\n",
    "This is sort of a subset of GitHub itself, but GitHub pages has been such a boon because, the moment I create the repository, there's a runtime link ready for me to look at. It coming styled and everything made the idea of creating things on it more inviting, since you have things to work with, but also a framework that could be drastically altered for your own personal interests. That's basically what I'm in the process of doing with this site now.\n",
    "\n",
    "### Homebrew\n",
    "\n",
    "Homebrew is the MVP G.O.A.T. of MacOS package and software installation. I've hardly ever had a problem with `brew` installations aside from the occasional `brew update` or `brew uninstall -> reinstall [thing]`. It also lets me actively manage packages and environments without much hassle, too.\n",
    "\n",
    "### Docker\n",
    "\n",
    "When I was having trouble with Ruby last week, I kept thinking about how I could figure out how to make a Dockerfile and just run it through Docker. It makes deployment so much more manageable, and messing with the Dockerfile when we were working with AWS made solving errors so much more efficient. And speaking of AWS...\n",
    "\n",
    "#### AWS\n",
    "\n",
    "I won't go on a whole rant about it, but we couldn't have deployed without it. AWS was the backbone of all of my previous projects.\n",
    "\n",
    "### Python\n",
    "\n",
    "Python was the perfect start to learning code for me. Lacking the syntactical asks of even easy languages like JavaScript, it was super easy to jump right into and made me eager to learn more. For a class dedicated to teaching the principles of computer science, it certainly help illustrate the foundations of what carries over between languages.\n",
    "\n",
    "### Ruby, Bundler and Jekyll\n",
    "\n",
    "These have worked hand-in-hand, especially just in the last week, to put together and run sites like this. I struggled at first, but I soon came to realize that, as long as I properly managed my versions and environments, all of the errors that came up were manageable. Bundler is such an incredible help in that it installs all of the gems you could need in just one command, no confusion or anything. I've also found myself using `--verbose` with `bundle install` to solve problems I was having with Jekyll. And speaking of Jekyll, it's been pretty much inseparable from all of the projects I've done in computer science here.\n",
    "\n",
    "### rbenv\n",
    "\n",
    "I think I owe rbenv money. It saved my site (and my grades, if you think about it) by making it so easy to manage my horribly messy web of Ruby versions and environments. It let me change the local and global ruby environments to those that will make my life a whole lot easier in the future, and even when they continue to give me trouble (which they did recently), rbenv is so easy to use.\n",
    "\n",
    "### Honorable Mention: Postman\n",
    "\n",
    "I see Postman whenever I restart my computer and it always reminds me of how helpful it was when I was first dealing with APIs and backend databases. I look forward to making more use of it this year."
   ]
  },
  {
   "cell_type": "markdown",
   "metadata": {},
   "source": [
    "## Installation Hacks\n",
    "\n",
    "I answered the Installation Hacks questions below.\n",
    "\n",
    "- Take note and describe the type of shell commands that you are using through Terminal in this installation procedure.\n",
    "    - wsl, cd, git, apt, brew, …\n",
    "\n",
    "See Bash Kernel work for all sorts of stuff like that, below this in the Week 0 notebook or on the separate lesson notes.\n",
    "\n",
    "- In the Development process, developers use Version control. Annotate in notes what you have learned about Version Control while doing this setup process.\n",
    "\n",
    "Version control is tracking changes to code and documents over time. This is how coders (like us :D) avoid losing data or writing over each others' work. Dependency management is a cornerstone of version control that is very present throughout the tools setup process.\n",
    "\n",
    "- Where are the files from GitHub placed on your local machine? How do you navigate to those files?\n",
    "\n",
    "GitHub files are stored in my VSCode directory under their own subdirectories. I'm able to navigate those files by looking at what I have in my VSCode directory and selecting (by name) which GitHub project I'd like to work on with `code [name]`. I could use `ls` to list out all of the repositories in the VSCode directory.\n",
    "\n",
    "- Where are the files placed in the GitHub Cloud? How do you navigate to those files?\n",
    "\n",
    "On the GitHub servers, you can find files by searching for them if you have their name of the username of the person who created it (assuming it isn't a private project). You can navigate these files by clicking through the repository's file tree or by searching for individual files using the site's build-in search features.\n",
    "\n",
    "- Put into words the difference between viewing GitHub Pages running on localhost machine versus running on a deployed server.\n",
    "    - What is the localhost URL for your distribution? Can anyone else see it?\n",
    "    - What is the GitHub Pages URL for your distribution? Can anyone else see it?\n",
    "\n",
    "When you're viewing GitHub Pages on a localhost machine, you're seeing the present, working state of the site as it is reflected in VSCode. Only you can see it, since it's local only to your device (0.0.0.0:4200/drewtwo/). The GitHub Pages URL, on the other hand, specifically sees what has been committed and synced to the GitHub Pages repository on the GitHub servers (drewreed2005.github.io/drewtwo)."
   ]
  },
  {
   "cell_type": "markdown",
   "metadata": {},
   "source": [
    "# Linux Shell and Bash\n",
    "\n",
    "Access the full lesson interactions [here]({{site.baseurl}}/2023/08/22/linux_shell_IPYNB_2_.html). Below are just my hacks.\n",
    "\n",
    "## Hacks\n",
    "\n",
    "- Come up with your own student view of this procedure to show your tools are installed.\n",
    "\n",
    "I created a bash script that will check where various important tools are installed and show their versions."
   ]
  },
  {
   "cell_type": "code",
   "execution_count": 2,
   "metadata": {
    "vscode": {
     "languageId": "shellscript"
    }
   },
   "outputs": [
    {
     "name": "stdout",
     "output_type": "stream",
     "text": [
      "WHO ARE YOU (according to GitHub)?\n",
      "Drew Reed\n",
      "WHERE CAN YOU BE REACHED?\n"
     ]
    },
    {
     "name": "stdout",
     "output_type": "stream",
     "text": [
      "drewdafox@gmail.com\n",
      "\n",
      "WHERE IS HOMEBREW?\n",
      "/usr/local/bin/brew\n",
      "WHICH VERSION(S) OF HOMEBREW?\n",
      "Homebrew 4.1.6-16-g3c8b494\n",
      "Homebrew/homebrew-core (git revision f1cc1840f65; last commit 2023-08-17)\n",
      "Homebrew/homebrew-cask (git revision 1a4702d1d4; last commit 2023-08-17)\n",
      "\n",
      "WHERE IS RUBY?\n",
      "/Users/mister_dew/.rbenv/shims/ruby\n",
      "WHICH VERSION OF RUBY?\n",
      "ruby 2.7.0p0 (2019-12-25 revision 647ee6f091) [x86_64-darwin21]\n",
      "\n",
      "WHERE IS RBENV?\n",
      "/usr/local/bin/rbenv\n",
      "WHICH VERSION OF RBENV?\n",
      "rbenv 1.2.0\n",
      "\n",
      "WHERE IS PYTHON?\n",
      "/Users/mister_dew/opt/anaconda3/bin/python\n",
      "WHICH VERSION OF PYTHON?\n",
      "Python 3.9.12\n",
      "\n",
      "WHERE IS JUPYTER?\n",
      "/Users/mister_dew/opt/anaconda3/bin/jupyter\n",
      "LET'S SEE SOME VERSIONS...\n",
      "Selected Jupyter core packages...\n",
      "IPython          : 8.7.0\n",
      "ipykernel        : 6.19.2\n",
      "ipywidgets       : 7.6.5\n",
      "jupyter_client   : 6.1.12\n",
      "jupyter_core     : 5.1.1\n",
      "jupyter_server   : 1.13.5\n",
      "jupyterlab       : 3.3.2\n",
      "nbclient         : 0.5.13\n",
      "nbconvert        : 6.4.4\n",
      "nbformat         : 5.7.0\n",
      "notebook         : 6.4.8\n",
      "qtconsole        : 5.3.2\n",
      "traitlets        : 5.7.1\n",
      "LET'S SEE SOME PACKAGES...\n",
      "Available kernels:\n",
      "  bash          /Users/mister_dew/Library/Jupyter/kernels/bash\n",
      "  java          /Users/mister_dew/Library/Jupyter/kernels/java\n",
      "  javascript    /Users/mister_dew/Library/Jupyter/kernels/javascript\n",
      "  python3       /Users/mister_dew/opt/anaconda3/share/jupyter/kernels/python3\n",
      "\n",
      "WHERE IS BUNDLER?\n",
      "/Users/mister_dew/.rbenv/shims/bundler\n",
      "WHICH VERSION OF BUNDLER?\n",
      "Bundler version 2.4.19\n",
      "\n",
      "WHERE IS JAVA?\n",
      "/usr/bin/java\n",
      "WHICH VERSION OF JAVA?\n"
     ]
    },
    {
     "name": "stderr",
     "output_type": "stream",
     "text": [
      "java version \"1.8.0_301\"\n",
      "Java(TM) SE Runtime Environment (build 1.8.0_301-b09)\n",
      "Java HotSpot(TM) 64-Bit Server VM (build 25.301-b09, mixed mode)\n"
     ]
    }
   ],
   "source": [
    "%%script bash\n",
    "\n",
    "# checking github info\n",
    "echo \"WHO ARE YOU (according to GitHub)?\";\n",
    "git config --global --get user.name;\n",
    "echo \"WHERE CAN YOU BE REACHED?\";\n",
    "git config --global --get user.email;\n",
    "echo;\n",
    "\n",
    "# checking homebrew info\n",
    "echo \"WHERE IS HOMEBREW?\";\n",
    "which brew;\n",
    "echo \"WHICH VERSION(S) OF HOMEBREW?\";\n",
    "brew -v;\n",
    "echo;\n",
    "\n",
    "# checking ruby info\n",
    "eval \"$(rbenv init -)\"\n",
    "echo \"WHERE IS RUBY?\";\n",
    "which ruby;\n",
    "echo \"WHICH VERSION OF RUBY?\";\n",
    "ruby -v;\n",
    "echo;\n",
    "\n",
    "# checking rbenv info\n",
    "echo \"WHERE IS RBENV?\";\n",
    "which rbenv;\n",
    "echo \"WHICH VERSION OF RBENV?\";\n",
    "rbenv -v;\n",
    "echo;\n",
    "\n",
    "# checking python info\n",
    "echo \"WHERE IS PYTHON?\";\n",
    "which python;\n",
    "echo \"WHICH VERSION OF PYTHON?\"\n",
    "python3 --version\n",
    "echo;\n",
    "\n",
    "# checking jupyter\n",
    "echo \"WHERE IS JUPYTER?\";\n",
    "which jupyter;\n",
    "echo \"LET'S SEE SOME VERSIONS...\";\n",
    "jupyter --version;\n",
    "echo \"LET'S SEE SOME PACKAGES...\"\n",
    "jupyter kernelspec list;\n",
    "echo;\n",
    "\n",
    "# checking for bundler\n",
    "echo \"WHERE IS BUNDLER?\";\n",
    "which bundler;\n",
    "echo \"WHICH VERSION OF BUNDLER?\";\n",
    "bundle -v;\n",
    "echo\n",
    "\n",
    "# checking java\n",
    "echo \"WHERE IS JAVA?\";\n",
    "which java;\n",
    "echo \"WHICH VERSION OF JAVA?\";\n",
    "java -version;"
   ]
  },
  {
   "cell_type": "markdown",
   "metadata": {},
   "source": [
    "- Name and create notes on some Linux commands you will use frequently.\n",
    "\n",
    "Frequently-used commands:\n",
    "> Directory and file commands\n",
    "- mkdir [directory name]: make a new directory\n",
    "- touch [file name]: make a new file\n",
    "- rm [file/directory]: delete a file/directory\n",
    "- mv [original location] [new location]: move a file/directory\n",
    "- cp [original location] [new location]: copy a file/directory to another file/directory\n",
    "\n",
    "> Listing and searching files\n",
    "- ls: lists files and directories in the current directory\n",
    "- ls -l: lists files and directories in long format (includes permissions, owner)\n",
    "- ls -a: lists all files and directories, including hidden ones\n",
    "- find [directory] -name [file name]: Search for files within a directory\n",
    "- grep [search term] [file name]: Search for text within a file\n",
    "\n",
    "> Others\n",
    "- cat [file]: shows the contents of a given file\n",
    "- ps: lists running processes\n",
    "- kill [process ID]: kill a running process\n",
    "- echo $[variable name]: display the value of an environment variable\n",
    "- export [variable name]=[value]: set an environment variable to a given value\n",
    "\n",
    "There are many more, but these are some that I've used before.\n",
    "\n",
    "- Is there anything we use to verify tools we install? Review versions checks.\n",
    "\n",
    "There are tons, and I showed them in the shell that checks for everything.\n",
    "\n",
    "- Is there anything we could verify with Anaconda? or WSL?\n",
    "\n",
    "There's plenty. I'll show some Anaconda possibilities below."
   ]
  },
  {
   "cell_type": "code",
   "execution_count": 3,
   "metadata": {
    "vscode": {
     "languageId": "shellscript"
    }
   },
   "outputs": [
    {
     "name": "stdout",
     "output_type": "stream",
     "text": [
      "PYTHON CONTENTS\n",
      "# packages in environment at /Users/mister_dew/opt/anaconda3:\n",
      "#\n",
      "# Name                    Version                   Build  Channel\n",
      "ipython                   8.7.0            py39hecd8cb5_0  \n",
      "ipython_genutils          0.2.0              pyhd3eb1b0_1  \n",
      "msgpack-python            1.0.3            py39haf03e11_0  \n",
      "python                    3.9.12               hdfd78df_0  \n",
      "python-dateutil           2.8.2              pyhd3eb1b0_0  \n",
      "python-fastjsonschema     2.16.2           py39hecd8cb5_0  \n",
      "python-libarchive-c       2.9                pyhd3eb1b0_1  \n",
      "python-lsp-black          1.0.0              pyhd3eb1b0_0  \n",
      "python-lsp-jsonrpc        1.0.0              pyhd3eb1b0_0  \n",
      "python-lsp-server         1.2.4              pyhd3eb1b0_0  \n",
      "python-slugify            5.0.2              pyhd3eb1b0_0  \n",
      "python-snappy             0.6.1            py39hcec6c5f_0  \n",
      "python-vlc                3.0.16120                pypi_0    pypi\n",
      "python.app                3                py39hca72f7f_0  \n",
      "\n",
      "NumPY CONTENTS\n",
      "# packages in environment at /Users/mister_dew/opt/anaconda3:\n",
      "#\n",
      "# Name                    Version                   Build  Channel\n",
      "numpy                     1.21.5           py39h2e5f0a9_3  \n",
      "numpy-base                1.21.5           py39h3b1a694_3  \n",
      "numpydoc                  1.2                pyhd3eb1b0_0  \n",
      "\n",
      "ANACONDA ENVIRONMENTS\n",
      "# conda environments:\n",
      "#\n",
      "base                  *  /Users/mister_dew/opt/anaconda3\n",
      "\n"
     ]
    }
   ],
   "source": [
    "%%script bash\n",
    "\n",
    "# using conda list\n",
    "# conda list lets you varify certain package installation (see examples in output)\n",
    "echo \"PYTHON CONTENTS\";\n",
    "conda list python;\n",
    "echo;\n",
    "echo \"NumPY CONTENTS\";\n",
    "conda list NumPy;\n",
    "echo;\n",
    "\n",
    "# you can also create isolated Python environments and get info on them\n",
    "echo \"ANACONDA ENVIRONMENTS\";\n",
    "conda info --envs;\n",
    "# conda activate [environment name] would activate a new environment\n",
    "\n",
    "# update packages in the format below:\n",
    "# conda update [package_name]"
   ]
  },
  {
   "cell_type": "markdown",
   "metadata": {},
   "source": [
    "- How would you update a repository?  Could you do that in script above?\n",
    "\n",
    "I can do it in the script below."
   ]
  },
  {
   "cell_type": "code",
   "execution_count": null,
   "metadata": {
    "vscode": {
     "languageId": "shellscript"
    }
   },
   "outputs": [],
   "source": [
    "%%script bash\n",
    "\n",
    "# navigate to the repo\n",
    "cd /path/to/repo\n",
    "\n",
    "# use git fetch command to retrieve updates from the remote repository\n",
    "git fetch origin #(or replace \"origin\" with the remote repo's name)\n",
    "\n",
    "# you can then review the changes with git log\n",
    "git log\n",
    "\n",
    "# pull changes\n",
    "git pull origin main #main is an example; it can be another branch"
   ]
  },
  {
   "cell_type": "markdown",
   "metadata": {},
   "source": [
    "# Pixel Art Canvas\n",
    "\n",
    "I've made plenty of games and I feel like a calculator would be pretty basic, so I wanted to challenge myself to make something I've never really made before in JavaScript. So I decided to make a pixel art canvas, which you can find [here]({{site.baseurl}}/2023/08/20/Pixel_Canvas.html).\n",
    "\n",
    "I added extra features like being able to drag the mouse and draw fluidly (which took a lot of research and problem-solving with event listeners) and undoing the last move.\n",
    "\n",
    "# Running Java\n",
    "\n",
    "We saw earlier that I have the Java kernel installed, but we didn't look at the Java on its own."
   ]
  },
  {
   "cell_type": "code",
   "execution_count": 1,
   "metadata": {},
   "outputs": [
    {
     "name": "stdout",
     "output_type": "stream",
     "text": [
      "Hello World!\n"
     ]
    }
   ],
   "source": [
    "// Define Static Method within a Class\n",
    "public class HelloStatic {\n",
    "    // Java standard runtime entry point\n",
    "    public static void main(String[] args) {    \n",
    "        System.out.println(\"Hello World!\");\n",
    "    }\n",
    "}\n",
    "// A method call allows us to execute code that is wrapped in Class\n",
    "HelloStatic.main(null);   // Class prefix allows reference of Static Method"
   ]
  },
  {
   "cell_type": "markdown",
   "metadata": {},
   "source": [
    "You can see the full Java Hello notebook [here]({{site.baseurl}}/2023/08/22/java-hello_IPYNB_2_.html)."
   ]
  }
 ],
 "metadata": {
  "kernelspec": {
   "display_name": "base",
   "language": "python",
   "name": "python3"
  },
  "language_info": {
   "codemirror_mode": {
    "name": "ipython",
    "version": 3
   },
   "file_extension": ".py",
   "mimetype": "text/x-python",
   "name": "python",
   "nbconvert_exporter": "python",
   "pygments_lexer": "ipython3",
   "version": "3.9.12"
  },
  "orig_nbformat": 4
 },
 "nbformat": 4,
 "nbformat_minor": 2
}
