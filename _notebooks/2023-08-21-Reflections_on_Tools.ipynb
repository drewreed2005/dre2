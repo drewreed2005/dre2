{
 "cells": [
  {
   "cell_type": "markdown",
   "metadata": {},
   "source": [
    "---\n",
    "toc: true\n",
    "comments: true\n",
    "layout: post\n",
    "title: Reflections on Tools and Versions \n",
    "description: Chronicling my Week 0 installation and Ruby troubles and discussing what I learned by solving these problems.\n",
    "---"
   ]
  },
  {
   "cell_type": "markdown",
   "metadata": {},
   "source": [
    "## Problems\n",
    "\n",
    "The main problem that kept me from getting a quick start at the beginning of this year was problems getting this server to run using Ruby.\n",
    "\n",
    "As I would learn more and more during the debugging process, I had a lot to learn and remember from last year "
   ]
  },
  {
   "cell_type": "markdown",
   "metadata": {},
   "source": [
    "## Successes"
   ]
  }
 ],
 "metadata": {
  "language_info": {
   "name": "python"
  },
  "orig_nbformat": 4
 },
 "nbformat": 4,
 "nbformat_minor": 2
}
