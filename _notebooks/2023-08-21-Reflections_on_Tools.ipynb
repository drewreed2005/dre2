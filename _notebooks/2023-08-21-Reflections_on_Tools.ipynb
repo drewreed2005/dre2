{
 "cells": [
  {
   "cell_type": "markdown",
   "metadata": {},
   "source": [
    "---\n",
    "toc: true\n",
    "comments: true\n",
    "layout: post\n",
    "title: Learning to Love My Tools\n",
    "description: Chronicling my Week 0 installation and Ruby troubles and discussing what I learned by solving these problems.\n",
    "---"
   ]
  },
  {
   "cell_type": "markdown",
   "metadata": {},
   "source": [
    "## Learning to Accept It\n",
    "\n",
    "Considering that the main hurdle I had to surpass before I could get to work on CSA work was related to tools, I wasn't very inclined to say I love my tools during the first few days. I couldn't get my local server up and, since I had forked the repository without creating a separate repo to host the GitHub Pages domain through, I basically had a nonexistent page. When I went on the search for solutions, though, I began to see the light.\n",
    "\n",
    "`bundler: command not found: 'jekyll'`\n",
    "\n",
    "My personal experience with the errors was most often related to my system's attempts to track down locations of gems in different places at the same time. After searching around on the internet, I found that I could get started using rbenv.\n",
    "\n",
    "### Finding Success\n",
    "\n",
    "I researched how to use rbenv to manage my Ruby environment. Since jekyll was having a bundler problem because it somehow ended up in Ruby 2.7.0, I tried shifting to Ruby 2.7.0 locally with `rbenv local 2.7.0`. Most often, however, even after once again running `ruby -v`, it would still say I was in the wrong environment. At some point, running `rbenv rehash` and reopening the terminal did the trick, but that wasn't the end.\n",
    "\n",
    "I ended up using `bundle list` to see which files I had. After running `bundle install`, I was repeatedly told that I was missing `commonmarker`, `racc` and something else, so it claimed to download it before saying the task was finished. I figured that they must not be downloading properly for some reason so I tried installing them individually, which revealed that the problem may have been with my Bundler version.\n",
    "\n",
    "Long story short, by learning to understand the versions and locations of the various tools we used for setup, I came to love them. Now, here's a whole section dedicated to why I loved all of these different tools."
   ]
  }
 ],
 "metadata": {
  "language_info": {
   "name": "python"
  },
  "orig_nbformat": 4
 },
 "nbformat": 4,
 "nbformat_minor": 2
}
