{
 "cells": [
  {
   "attachments": {},
   "cell_type": "markdown",
   "metadata": {},
   "source": [
    "---\n",
    "layout: post\n",
    "title: Linux Shell and Bash Notes\n",
    "description: Notes on the Tech Talk on Linux and the Bash shell.\n",
    "toc: true\n",
    "comments: true\n",
    "---"
   ]
  },
  {
   "attachments": {},
   "cell_type": "markdown",
   "metadata": {},
   "source": [
    "## Bash Tutorial\n",
    "> A brief overview of Bash, on your way to becoming a Linux expert.  When a computer boots up, a kernel (MacOS, Windows, Linux) is started.  This kernel provides a shell that allows user to interact with a most basic set of commands.  Typically, the casual user will not interact with the shell as a Desktop User Interface is started by the computer boot up process.  To activate a shell directly, users will run a \"terminal\" through the Desktop. VS Code provides ability to activate \"terminal\" while in the IDE."
   ]
  },
  {
   "attachments": {},
   "cell_type": "markdown",
   "metadata": {},
   "source": [
    "## Custom Variables\n",
    "\n",
    "I set up bash shell dependency variables for this page.\n",
    "\n",
    "**Hack**: I changed the variables for my own project."
   ]
  },
  {
   "cell_type": "code",
   "execution_count": 2,
   "metadata": {
    "vscode": {
     "languageId": "shellscript"
    }
   },
   "outputs": [],
   "source": [
    "%%script bash\n",
    "\n",
    "# Dependency Variables, set to match your project directories\n",
    "\n",
    "cat <<EOF > /tmp/variables.sh\n",
    "export project_dir=$HOME/vscode  # change vscode to different name to test git clone\n",
    "export project=\\$project_dir/drewtwo  # change teacher to name of project from git clone\n",
    "export project_repo=\"https://github.com/drewreed2005/drewtwo.git\"  # change to project of choice\n",
    "EOF"
   ]
  },
  {
   "cell_type": "code",
   "execution_count": 3,
   "metadata": {
    "vscode": {
     "languageId": "shellscript"
    }
   },
   "outputs": [
    {
     "name": "stdout",
     "output_type": "stream",
     "text": [
      "Project dir: /Users/mister_dew/vscode\n",
      "Project: /Users/mister_dew/vscode/drewtwo\n",
      "Repo: https://github.com/drewreed2005/drewtwo.git\n"
     ]
    }
   ],
   "source": [
    "%%script bash\n",
    "\n",
    "# Extract saved variables\n",
    "source /tmp/variables.sh\n",
    "\n",
    "# Access the variables\n",
    "echo \"Project dir: $project_dir\"\n",
    "echo \"Project: $project\"\n",
    "echo \"Repo: $project_repo\""
   ]
  },
  {
   "attachments": {},
   "cell_type": "markdown",
   "metadata": {},
   "source": [
    "## Setup Project\n",
    "I pulled code from GitHub to your machine. This script didn't need to create a project directory and add \"project\" from GitHub to the vscode directory, since there is conditional logic to make sure that clone only happen if it does not exist."
   ]
  },
  {
   "cell_type": "code",
   "execution_count": 4,
   "metadata": {
    "vscode": {
     "languageId": "shellscript"
    }
   },
   "outputs": [
    {
     "name": "stdout",
     "output_type": "stream",
     "text": [
      "Using conditional statement to create a project directory and project\n",
      "Directory /Users/mister_dew/vscode exists.\n",
      "Directory /Users/mister_dew/vscode/drewtwo exists.\n"
     ]
    }
   ],
   "source": [
    "%%script bash\n",
    "\n",
    "# Extract saved variables\n",
    "source /tmp/variables.sh\n",
    "\n",
    "echo \"Using conditional statement to create a project directory and project\"\n",
    "\n",
    "cd ~    # start in home directory\n",
    "\n",
    "# Conditional block to make a project directory\n",
    "if [ ! -d $project_dir ]\n",
    "then \n",
    "    echo \"Directory $project_dir does not exists... makinng directory $project_dir\"\n",
    "    mkdir -p $project_dir\n",
    "fi\n",
    "echo \"Directory $project_dir exists.\" \n",
    "\n",
    "# Conditional block to git clone a project from project_repo\n",
    "if [ ! -d $project ]\n",
    "then\n",
    "    echo \"Directory $project does not exists... cloning $project_repo\"\n",
    "    cd $project_dir\n",
    "    git clone $project_repo\n",
    "    cd ~\n",
    "fi\n",
    "echo \"Directory $project exists.\" "
   ]
  },
  {
   "attachments": {},
   "cell_type": "markdown",
   "metadata": {},
   "source": [
    "### Look at files Github project\n",
    "> All computers contain files and directories.  The clone brought more files from cloud to your machine.  Review the bash shell script observe the commands that show and interact with files and directories.\n",
    "\n",
    "- \"ls\" lists computer files in Unix and Unix-like operating systems\n",
    "- \"cd\" offers way to navigate and change working directory\n",
    "- \"pwd\" print working directory\n",
    "- \"echo\" used to display line of text/string that are passed as an argument"
   ]
  },
  {
   "cell_type": "code",
   "execution_count": 5,
   "metadata": {
    "vscode": {
     "languageId": "shellscript"
    }
   },
   "outputs": [
    {
     "name": "stdout",
     "output_type": "stream",
     "text": [
      "Navigate to project, then navigate to area wwhere files were cloned\n",
      "/Users/mister_dew/vscode/drewtwo\n",
      "\n",
      "list top level or root of files with project pulled from github\n",
      "Gemfile\n",
      "Gemfile.lock\n",
      "LICENSE\n",
      "Makefile\n",
      "README.md\n",
      "_config.yml\n",
      "\u001b[34m_data\u001b[m\u001b[m\n",
      "\u001b[34m_includes\u001b[m\u001b[m\n",
      "\u001b[34m_layouts\u001b[m\u001b[m\n",
      "\u001b[34m_notebooks\u001b[m\u001b[m\n",
      "\u001b[34m_posts\u001b[m\u001b[m\n",
      "\u001b[34m_site\u001b[m\u001b[m\n",
      "\u001b[31mactivate.sh\u001b[m\u001b[m\n",
      "csa.md\n",
      "csp.md\n",
      "csse.md\n",
      "\u001b[34mimages\u001b[m\u001b[m\n",
      "index.md\n",
      "indexBlogs.md\n",
      "\u001b[34mscripts\u001b[m\u001b[m\n"
     ]
    }
   ],
   "source": [
    "%%script bash\n",
    "\n",
    "# Extract saved variables\n",
    "source /tmp/variables.sh\n",
    "\n",
    "echo \"Navigate to project, then navigate to area wwhere files were cloned\"\n",
    "cd $project\n",
    "pwd\n",
    "\n",
    "echo \"\"\n",
    "echo \"list top level or root of files with project pulled from github\"\n",
    "ls\n"
   ]
  },
  {
   "attachments": {},
   "cell_type": "markdown",
   "metadata": {},
   "source": [
    "### Look at file list with hidden and long attributes\n",
    "\n",
    "I just ran the thing below."
   ]
  },
  {
   "cell_type": "code",
   "execution_count": 6,
   "metadata": {
    "vscode": {
     "languageId": "shellscript"
    }
   },
   "outputs": [
    {
     "name": "stdout",
     "output_type": "stream",
     "text": [
      "Navigate to project, then navigate to area wwhere files were cloned\n",
      "/Users/mister_dew/vscode/drewtwo\n",
      "\n",
      "list all files in long format\n",
      "total 128\n",
      "drwxr-xr-x  26 mister_dew  staff   832 Aug 22 08:39 \u001b[34m.\u001b[m\u001b[m\n",
      "drwxr-xr-x@ 31 mister_dew  staff   992 Aug 22 08:48 \u001b[34m..\u001b[m\u001b[m\n",
      "drwxr-xr-x  15 mister_dew  staff   480 Aug 22 08:36 \u001b[34m.git\u001b[m\u001b[m\n",
      "drwxr-xr-x   3 mister_dew  staff    96 Aug 17 09:15 \u001b[34m.github\u001b[m\u001b[m\n",
      "-rw-r--r--   1 mister_dew  staff   104 Aug 17 09:15 .gitignore\n",
      "-rw-r--r--   1 mister_dew  staff     6 Aug 19 20:49 .ruby-version\n",
      "-rw-r--r--   1 mister_dew  staff   143 Aug 19 16:11 Gemfile\n",
      "-rw-r--r--   1 mister_dew  staff  7335 Aug 19 20:50 Gemfile.lock\n",
      "-rw-r--r--   1 mister_dew  staff  1081 Aug 17 09:15 LICENSE\n",
      "-rw-r--r--   1 mister_dew  staff  3154 Aug 19 21:41 Makefile\n",
      "-rw-r--r--   1 mister_dew  staff  5798 Aug 17 09:15 README.md\n",
      "-rw-r--r--   1 mister_dew  staff   451 Aug 17 09:15 _config.yml\n",
      "drwxr-xr-x   6 mister_dew  staff   192 Aug 17 09:15 \u001b[34m_data\u001b[m\u001b[m\n",
      "drwxr-xr-x   9 mister_dew  staff   288 Aug 17 09:15 \u001b[34m_includes\u001b[m\u001b[m\n",
      "drwxr-xr-x   6 mister_dew  staff   192 Aug 17 09:15 \u001b[34m_layouts\u001b[m\u001b[m\n",
      "drwxr-xr-x   6 mister_dew  staff   192 Aug 22 08:56 \u001b[34m_notebooks\u001b[m\u001b[m\n",
      "drwxr-xr-x  10 mister_dew  staff   320 Aug 22 08:56 \u001b[34m_posts\u001b[m\u001b[m\n",
      "drwxr-xr-x  17 mister_dew  staff   544 Aug 22 08:56 \u001b[34m_site\u001b[m\u001b[m\n",
      "-rwxr-xr-x   1 mister_dew  staff  1291 Aug 17 09:15 \u001b[31mactivate.sh\u001b[m\u001b[m\n",
      "-rw-r--r--   1 mister_dew  staff    92 Aug 17 09:15 csa.md\n",
      "-rw-r--r--   1 mister_dew  staff    98 Aug 17 09:15 csp.md\n",
      "-rw-r--r--   1 mister_dew  staff   108 Aug 17 09:15 csse.md\n",
      "drwxr-xr-x   7 mister_dew  staff   224 Aug 17 09:15 \u001b[34mimages\u001b[m\u001b[m\n",
      "-rw-r--r--   1 mister_dew  staff   788 Aug 17 09:15 index.md\n",
      "-rw-r--r--   1 mister_dew  staff    53 Aug 17 09:15 indexBlogs.md\n",
      "drwxr-xr-x   4 mister_dew  staff   128 Aug 17 22:19 \u001b[34mscripts\u001b[m\u001b[m\n"
     ]
    }
   ],
   "source": [
    "%%script bash\n",
    "\n",
    "# Extract saved variables\n",
    "source /tmp/variables.sh\n",
    "\n",
    "echo \"Navigate to project, then navigate to area wwhere files were cloned\"\n",
    "cd $project\n",
    "pwd\n",
    "\n",
    "echo \"\"\n",
    "echo \"list all files in long format\"\n",
    "ls -al   # all files -a (hidden) in -l long listing"
   ]
  },
  {
   "cell_type": "code",
   "execution_count": 7,
   "metadata": {
    "vscode": {
     "languageId": "shellscript"
    }
   },
   "outputs": [
    {
     "name": "stdout",
     "output_type": "stream",
     "text": [
      "Look for posts\n"
     ]
    },
    {
     "name": "stdout",
     "output_type": "stream",
     "text": [
      "/Users/mister_dew/vscode/drewtwo/_posts\n",
      "total 128\n",
      "-rw-r--r--  1 mister_dew  staff   1812 Aug 17 09:15 2023-08-15-Tools_Sprint.md\n",
      "-rw-r--r--  1 mister_dew  staff   4397 Aug 17 09:15 2023-08-16-Tools_Equipment.md\n",
      "-rw-r--r--  1 mister_dew  staff  22661 Aug 22 09:05 2023-08-16-linux_shell_IPYNB_2_.md\n",
      "-rw-r--r--  1 mister_dew  staff   3752 Aug 22 08:39 2023-08-17-AP-pseudo-vs-python_IPYNB_2_.md\n",
      "-rw-r--r--  1 mister_dew  staff   4991 Aug 22 00:21 2023-08-20-Pixel_Canvas.md\n",
      "-rw-r--r--  1 mister_dew  staff    468 Aug 17 09:15 2023-08-21-GitHub_Pages.md\n",
      "-rw-r--r--  1 mister_dew  staff    211 Aug 22 09:02 2023-08-21-Reflections_on_Tools_IPYNB_2_.md\n",
      "-rw-r--r--  1 mister_dew  staff   6059 Aug 22 08:39 2023-08-21-VSCode-GitHub_Pages_IPYNB_2_.md\n"
     ]
    }
   ],
   "source": [
    "%%script bash\n",
    "\n",
    "# Extract saved variables\n",
    "source /tmp/variables.sh\n",
    "\n",
    "echo \"Look for posts\"\n",
    "export posts=$project/_posts  # _posts inside project\n",
    "cd $posts  # this should exist per fastpages\n",
    "pwd  # present working directory\n",
    "ls -l  # list posts"
   ]
  },
  {
   "cell_type": "code",
   "execution_count": 8,
   "metadata": {
    "vscode": {
     "languageId": "shellscript"
    }
   },
   "outputs": [
    {
     "name": "stdout",
     "output_type": "stream",
     "text": [
      "Look for notebooks\n",
      "/Users/mister_dew/vscode/drewtwo/_notebooks\n"
     ]
    },
    {
     "name": "stdout",
     "output_type": "stream",
     "text": [
      "total 112\n",
      "-rw-r--r--  1 mister_dew  staff  31961 Aug 22 09:04 2023-08-16-linux_shell.ipynb\n",
      "-rw-r--r--  1 mister_dew  staff   5415 Aug 17 09:15 2023-08-17-AP-pseudo-vs-python.ipynb\n",
      "-rw-r--r--  1 mister_dew  staff    561 Aug 22 09:02 2023-08-21-Reflections_on_Tools.ipynb\n",
      "-rw-r--r--  1 mister_dew  staff   8615 Aug 17 09:15 2023-08-21-VSCode-GitHub_Pages.ipynb\n"
     ]
    }
   ],
   "source": [
    "%%script bash\n",
    "\n",
    "# Extract saved variables\n",
    "source /tmp/variables.sh\n",
    "\n",
    "echo \"Look for notebooks\"\n",
    "export notebooks=$project/_notebooks  # _notebooks is inside project\n",
    "cd $notebooks   # this should exist per fastpages\n",
    "pwd  # present working directory\n",
    "ls -l  # list notebooks"
   ]
  },
  {
   "cell_type": "code",
   "execution_count": 11,
   "metadata": {
    "vscode": {
     "languageId": "shellscript"
    }
   },
   "outputs": [
    {
     "name": "stdout",
     "output_type": "stream",
     "text": [
      "Look for images in notebooks, print working directory, list files\n"
     ]
    },
    {
     "name": "stderr",
     "output_type": "stream",
     "text": [
      "bash: line 6: cd: /images: No such file or directory\n"
     ]
    },
    {
     "name": "stdout",
     "output_type": "stream",
     "text": [
      "/Users/mister_dew/vscode/drewtwo/_notebooks\n",
      "total 112\n",
      "-rw-r--r--  1 mister_dew  staff  31096 Aug 22 09:10 2023-08-16-linux_shell.ipynb\n",
      "-rw-r--r--  1 mister_dew  staff   5415 Aug 17 09:15 2023-08-17-AP-pseudo-vs-python.ipynb\n",
      "-rw-r--r--  1 mister_dew  staff    966 Aug 22 09:10 2023-08-21-Reflections_on_Tools.ipynb\n",
      "-rw-r--r--  1 mister_dew  staff   8615 Aug 17 09:15 2023-08-21-VSCode-GitHub_Pages.ipynb\n",
      "drwxr-xr-x  3 mister_dew  staff     96 Aug 22 09:09 \u001b[34mimages\u001b[m\u001b[m\n"
     ]
    }
   ],
   "source": [
    "%%script bash\n",
    "\n",
    "# Extract saved variables\n",
    "source /tmp/variables.sh\n",
    "\n",
    "echo \"Look for images in notebooks, print working directory, list files\"\n",
    "cd $notebooks/images  # this should exist per fastpages\n",
    "pwd\n",
    "ls -l"
   ]
  },
  {
   "attachments": {},
   "cell_type": "markdown",
   "metadata": {},
   "source": [
    "### Look inside a Markdown File\n",
    "> \"cat\" reads data from the file and gives its content as output"
   ]
  },
  {
   "cell_type": "code",
   "execution_count": 12,
   "metadata": {
    "vscode": {
     "languageId": "shellscript"
    }
   },
   "outputs": [
    {
     "name": "stdout",
     "output_type": "stream",
     "text": [
      "Navigate to project, then navigate to area wwhere files were cloned\n",
      "show the contents of README.md\n",
      "\n",
      "## Blog site using GitHub Pages and Jekyll\n",
      "> This site is intended for Students.   This is to record plans, complete hacks, and do work for your learnings.\n",
      "- This can be customized to support computer science as you work through pathway (JavaScript, Python/Flask, Java/Spring)\n",
      "- All tangible artifact work is in a _posts or in a _notebooks.  \n",
      "- Front matter (aka meta data) in ipynb and md files is used to organize information according to week and column in running web site.\n",
      "\n",
      "## GitHub Pages\n",
      "All `GitHub Pages` websites are managed on GitHub infrastructure. GitHub uses `Jekyll` to tranform your content into static websites and blogs. Each time we change files in GitHub it initiates a GitHub Action that rebuilds and publishes the site with Jekyll.  \n",
      "- GitHub Pages is powered by: [Jekyll](https://jekyllrb.com/).\n",
      "- Publised teacher website: [nighthawkcoders.github.io/teacher](https://nighthawkcoders.github.io/teacher/)\n",
      "\n",
      "## Preparing a Preview Site \n",
      "In all development, it is recommended to test your code before deployment.  The GitHub Pages development process is optimized by testing your development on your local machine, prior to files on GitHub\n",
      "\n",
      "Development Cycle. For GitHub pages, the tooling described below will create a development cycle  `make-code-save-preview`.  In the development cycle, it is a requirement to preview work locally, prior to doing a VSCode `commit` to git.\n",
      "\n",
      "Deployment Cycle.  In the deplopyment cycle, `sync-github-action-review`, it is a requirement to complete the development cycle prior to doing a VSCode `sync`.  The sync triggers github repository update.  The action starts the jekyll build to publish the website.  Any step can have errors and will require you to do a review.\n",
      "\n",
      "### WSL and/or Ubuntu installation requirements\n",
      "- The result of these step is Ubuntu tools to run preview server.  These procedures were created using [jekyllrb.com](https://jekyllrb.com/docs/installation/ubuntu/)\n",
      "- Run scripts in scripts directory of teacher repo: setup_ubuntu.sh and activate.sh.  Or, follow commands below.\n",
      "```bash\n",
      "## WSL/Ubuntu commands\n",
      "# sudo apt install, installs packages for Ubuntu\n",
      "echo \"=== Ugrade Packages ===\"\n",
      "sudo apt update\n",
      "sudo apt upgrade -y\n",
      "#\n",
      "echo \"=== Install Ruby ===\"\n",
      "sudo apt install -y ruby-full build-essential zlib1g-dev\n",
      "# \n",
      "echo \"=== Install Python ===\"\n",
      "sudo apt-get install -y python3 python3-pip python-is-python3\n",
      "#    \n",
      "echo \"=== Install Jupyter Notebook ===\"\n",
      "sudo apt-get install -y jupyter-notebook\n",
      "\n",
      "# bash commands, install user requirements.\n",
      "echo \"=== GitHub pages build tools  ===\"\n",
      "export GEM_HOME=\"$HOME/gems\"\n",
      "export PATH=\"$HOME/gems/bin:$PATH\"\n",
      "echo '# Install Ruby Gems to ~/gems' >> ~/.bashrc\n",
      "echo 'export GEM_HOME=\"$HOME/gems\"' >> ~/.bashrc\n",
      "echo 'export PATH=\"$HOME/gems/bin:$PATH\"' >> ~/.bashrc\n",
      "echo \"=== Gem install starting, thinking... ===\"\n",
      "gem install jekyll bundler\n",
      "head -30 ./teacher/scripts/activate.sh\n",
      "echo \"=== !!!Start a new Terminal!!! ===\"\n",
      "```\n",
      "\n",
      "### MacOs installation requirements \n",
      "- Ihe result of these step are MacOS tools to run preview server.  These procedures were created using [jekyllrb.com](https://jekyllrb.com/docs/installation/macos/). Run scripts in scripts directory of teacher repo: setup_macos.sh and activate_macos.sh.  Or, follow commands below.\n"
     ]
    },
    {
     "name": "stdout",
     "output_type": "stream",
     "text": [
      "```bash\n",
      "# MacOS commands\n",
      "# brew install, installs packages for MacOS\n",
      "echo \"=== Ugrade Packages ===\"\n",
      "brew update\n",
      "brew upgrade\n",
      "#\n",
      "echo \"=== Install Ruby ===\"\n",
      "brew install chruby ruby-install xz\n",
      "ruby-install ruby 3.1.3\n",
      "#\n",
      "echo \"=== Install Python ===\"\n",
      "brew install python\n",
      "#    \n",
      "echo \"=== Install Jupyter Notebook ===\"\n",
      "brew install jupyter\n",
      "\n",
      "# bash commands, install user requirements.\n",
      "export GEM_HOME=\"$HOME/gems\"\n",
      "export PATH=\"$HOME/gems/bin:$PATH\"\n",
      "echo '# Install Ruby Gems to ~/gems' >> ~/.zshrc\n",
      "echo 'export GEM_HOME=\"$HOME/gems\"' >> ~/.zshrc\n",
      "echo 'export PATH=\"$HOME/gems/bin:$PATH\"' >> ~/.zshrc\n",
      "echo \"=== Gem install starting, thinking... ===\"\n",
      "gem install jekyll bundler\n",
      "head -30 ./teacher/scripts/activate.sh\n",
      "echo \"=== !!!Start a new Terminal!!! ===\"\n",
      "```\n",
      "\n",
      "### Preview\n",
      "- The result of these step is server running on: http://0.0.0.0:4100/teacher/.  Regeneration messages will run in terminal on any save.  Press the Enter or Return key in the terminal at any time to enter commands.\n",
      "\n",
      "- Complete installation\n",
      "```bash\n",
      "bundle install\n",
      "```\n",
      "- Run Server.  This requires running terminal commands `make`, `make stop`, `make clean`, or `make convert` to manage the running server.  Logging of details will appear in terminal.   A `Makefile` has been created in project to support commands and start processes.\n",
      "\n",
      "    - Start preview server in terminal\n",
      "    ```bash\n",
      "    cd ~/vscode/teacher  # my project location, adapt as necessary\n",
      "    make\n",
      "    ```\n",
      "\n",
      "    - Terminal output of shows server address. Cmd or Ctl click http location to open preview server in browser. Example Server address message... \n",
      "    ```\n",
      "    Server address: http://0.0.0.0:4100/teacher/\n",
      "    ```\n",
      "\n",
      "    - Save on ipynb or md activiates \"regeneration\". Refresh browser to see updates. Example terminal message...\n",
      "    ```\n",
      "    Regenerating: 1 file(s) changed at 2023-07-31 06:54:32\n",
      "        _notebooks/2024-01-04-cockpit-setup.ipynb\n",
      "    ```\n",
      "\n",
      "    - Terminal message are generated from background processes.  Click return or enter to obtain prompt and use terminal as needed for other tasks.  Alway return to root of project `cd ~/vscode/teacher` for all \"make\" actions. \n",
      "        \n",
      "\n",
      "    - Stop preview server, but leave constructed files in project for your review.\n",
      "    ```bash\n",
      "    make stop\n",
      "    ```\n",
      "\n",
      "    - Stop server and \"clean\" constructed files, best choice when renaming files to eliminate potential duplicates in constructed files.\n",
      "    ```bash\n",
      "    make clean\n",
      "    ```\n",
      "\n",
      "    - Test notebook conversions, best choice to see if IPYNB conversion is acting up.\n",
      "    ```bash\n",
      "    make convert\n",
      "    ```\n",
      "\n",
      "end of README.md\n"
     ]
    }
   ],
   "source": [
    "%%script bash\n",
    "\n",
    "# Extract saved variables\n",
    "source /tmp/variables.sh\n",
    "\n",
    "echo \"Navigate to project, then navigate to area wwhere files were cloned\"\n",
    "\n",
    "cd $project\n",
    "echo \"show the contents of README.md\"\n",
    "echo \"\"\n",
    "\n",
    "cat README.md  # show contents of file, in this case markdown\n",
    "echo \"\"\n",
    "echo \"end of README.md\"\n"
   ]
  },
  {
   "attachments": {},
   "cell_type": "markdown",
   "metadata": {},
   "source": [
    "### Env, Git and GitHub\n",
    "> Env(ironment) is used to capture things like path to Code or Home directory.  Git and GitHub is NOT Only used to exchange code between individuals, it is often used to exchange code through servers, in our case deployment for Website.   All tools we use have a behind the scenes hav relationship with the system they run on (MacOS, Windows, Linus) or a relationship with servers which they are connected to (ie GitHub).  There is an \"env\" command in bash.  There are environment files and setting files (.git/config) for Git.  They both use a key/value concept.\n",
    "\n",
    "- \"env\" show setting for your shell\n",
    "- \"git clone\" sets up a director of files\n",
    "- \"cd $project\" allows user to move inside that directory of files\n",
    "- \".git\" is a hidden directory that is used by git to establish relationship between machine and the git server on GitHub.  "
   ]
  },
  {
   "cell_type": "code",
   "execution_count": 1,
   "metadata": {
    "vscode": {
     "languageId": "shellscript"
    }
   },
   "outputs": [
    {
     "name": "stdout",
     "output_type": "stream",
     "text": [
      "Show the shell environment variables, key on left of equal value on right\n",
      "\n",
      "VSCODE_CLI=1\n",
      "VSCODE_CRASH_REPORTER_PROCESS_TYPE=extensionHost\n",
      "TERM_PROGRAM=Apple_Terminal\n",
      "TERM=xterm-color\n",
      "SHELL=/bin/bash\n",
      "CLICOLOR=1\n",
      "TMPDIR=/var/folders/8g/ys6yf8855vj976vktrkvj_gh0000gn/T/\n",
      "CONDA_SHLVL=1\n",
      "PYTHONUNBUFFERED=1\n",
      "TERM_PROGRAM_VERSION=445\n",
      "CONDA_PROMPT_MODIFIER=(base) \n",
      "ORIGINAL_XDG_CURRENT_DESKTOP=undefined\n",
      "MallocNanoZone=0\n",
      "PYDEVD_USE_FRAME_EVAL=NO\n",
      "TERM_SESSION_ID=C3AEDDE2-A177-42D3-AE3D-5E967DFE3A70\n",
      "PYTHONIOENCODING=utf-8\n",
      "USER=mister_dew\n",
      "COMMAND_MODE=unix2003\n",
      "CONDA_EXE=/Users/mister_dew/opt/anaconda3/bin/conda\n",
      "SSH_AUTH_SOCK=/private/tmp/com.apple.launchd.vJrRfmrsXU/Listeners\n",
      "__CF_USER_TEXT_ENCODING=0x1F5:0x0:0x0\n",
      "PAGER=cat\n",
      "ELECTRON_RUN_AS_NODE=1\n",
      "VSCODE_AMD_ENTRYPOINT=vs/workbench/api/node/extensionHostProcess\n",
      "_CE_CONDA=\n",
      "CONDA_ROOT=/Users/mister_dew/opt/anaconda3\n",
      "PATH=/Users/mister_dew/opt/anaconda3/bin:/Users/mister_dew/opt/anaconda3/bin:/Users/mister_dew/opt/anaconda3/condabin:/Library/Frameworks/Python.framework/Versions/2.7/bin:/usr/local/bin:/usr/bin:/bin:/usr/sbin:/sbin:/opt/X11/bin\n",
      "LaunchInstanceID=86B557C0-5DE9-4532-AFB3-475629FD897E\n",
      "__CFBundleIdentifier=com.microsoft.VSCode\n",
      "CONDA_PREFIX=/Users/mister_dew/opt/anaconda3\n",
      "PWD=/Users/mister_dew/vscode/drewtwo/_notebooks\n",
      "VSCODE_HANDLES_UNCAUGHT_ERRORS=true\n",
      "ELECTRON_NO_ATTACH_CONSOLE=1\n",
      "MPLBACKEND=module://matplotlib_inline.backend_inline\n",
      "LANG=en_US.UTF-8\n",
      "XPC_FLAGS=0x0\n",
      "FORCE_COLOR=1\n",
      "_CE_M=\n",
      "XPC_SERVICE_NAME=0\n",
      "SHLVL=5\n",
      "HOME=/Users/mister_dew\n",
      "APPLICATION_INSIGHTS_NO_DIAGNOSTIC_CHANNEL=1\n",
      "VSCODE_NLS_CONFIG={\"locale\":\"en-us\",\"osLocale\":\"en\",\"availableLanguages\":{},\"_languagePackSupport\":true}\n",
      "PYDEVD_IPYTHON_COMPATIBLE_DEBUGGING=1\n",
      "LOGNAME=mister_dew\n",
      "CONDA_PYTHON_EXE=/Users/mister_dew/opt/anaconda3/bin/python\n",
      "VSCODE_IPC_HOOK=/Users/mister_dew/Library/Application Support/Code/1.81-main.sock\n",
      "VSCODE_CODE_CACHE_PATH=/Users/mister_dew/Library/Application Support/Code/CachedData/6c3e3dba23e8fadc360aed75ce363ba185c49794\n",
      "CLICOLOR_FORCE=1\n",
      "CONDA_DEFAULT_ENV=base\n",
      "VSCODE_PID=3484\n",
      "DISPLAY=/private/tmp/com.apple.launchd.dyzVEHJNca/org.macosforge.xquartz:0\n",
      "GIT_PAGER=cat\n",
      "VSCODE_L10N_BUNDLE_LOCATION=\n",
      "VSCODE_CWD=/Users/mister_dew/vscode\n",
      "SECURITYSESSIONID=186a3\n",
      "_=/usr/bin/env\n"
     ]
    }
   ],
   "source": [
    "%%script bash\n",
    "\n",
    "# This command has no dependencies\n",
    "\n",
    "echo \"Show the shell environment variables, key on left of equal value on right\"\n",
    "echo \"\"\n",
    "\n",
    "env"
   ]
  },
  {
   "cell_type": "code",
   "execution_count": 2,
   "metadata": {
    "vscode": {
     "languageId": "shellscript"
    }
   },
   "outputs": [
    {
     "name": "stdout",
     "output_type": "stream",
     "text": [
      "\n",
      "show the secrets of .git\n",
      "total 64\n",
      "-rw-r--r--   1 mister_dew  staff    42 Aug 22 08:36 COMMIT_EDITMSG\n",
      "-rw-r--r--   1 mister_dew  staff    99 Aug 22 08:36 FETCH_HEAD\n",
      "-rw-r--r--   1 mister_dew  staff    21 Aug 17 09:15 HEAD\n",
      "-rw-r--r--   1 mister_dew  staff    41 Aug 22 08:36 ORIG_HEAD\n",
      "-rw-r--r--   1 mister_dew  staff   309 Aug 17 09:15 config\n",
      "-rw-r--r--   1 mister_dew  staff    73 Aug 17 09:15 description\n",
      "drwxr-xr-x  15 mister_dew  staff   480 Aug 17 09:15 \u001b[34mhooks\u001b[m\u001b[m\n",
      "-rw-r--r--   1 mister_dew  staff  4026 Aug 22 08:36 index\n",
      "drwxr-xr-x   3 mister_dew  staff    96 Aug 17 09:15 \u001b[34minfo\u001b[m\u001b[m\n",
      "drwxr-xr-x   4 mister_dew  staff   128 Aug 17 09:15 \u001b[34mlogs\u001b[m\u001b[m\n",
      "drwxr-xr-x  21 mister_dew  staff   672 Aug 22 08:36 \u001b[34mobjects\u001b[m\u001b[m\n",
      "-rw-r--r--   1 mister_dew  staff   112 Aug 17 09:15 packed-refs\n",
      "drwxr-xr-x   5 mister_dew  staff   160 Aug 17 09:15 \u001b[34mrefs\u001b[m\u001b[m\n",
      "\n",
      "look at config file\n",
      "[core]\n",
      "\trepositoryformatversion = 0\n",
      "\tfilemode = true\n",
      "\tbare = false\n",
      "\tlogallrefupdates = true\n",
      "\tignorecase = true\n",
      "\tprecomposeunicode = true\n",
      "[remote \"origin\"]\n",
      "\turl = https://github.com/drewreed2005/drewtwo.git\n",
      "\tfetch = +refs/heads/*:refs/remotes/origin/*\n",
      "[branch \"main\"]\n",
      "\tremote = origin\n",
      "\tmerge = refs/heads/main\n"
     ]
    }
   ],
   "source": [
    "%%script bash\n",
    "\n",
    "# Extract saved variables\n",
    "source /tmp/variables.sh\n",
    "\n",
    "cd $project\n",
    "\n",
    "echo \"\"\n",
    "echo \"show the secrets of .git\"\n",
    "cd .git\n",
    "ls -l\n",
    "\n",
    "echo \"\"\n",
    "echo \"look at config file\"\n",
    "cat config"
   ]
  },
  {
   "attachments": {},
   "cell_type": "markdown",
   "metadata": {},
   "source": [
    "### Student Request - Make a file in Bash\n",
    "> This example was requested by a student (Jun Lim, CSA). The request was to make jupyer file using bash, I adapted the request to markdown.  This type of thought will have great extrapolation to coding and possibilities of using List, Arrays, or APIs to build user interfaces.  JavaScript is a language where building HTML is very common.\n",
    "\n",
    "> To get more interesting output from terminal, this will require using something like mdless (https://github.com/ttscoff/mdless).  This enables see markdown in rendered format.\n",
    "- On Desktop [Install PKG from MacPorts](https://www.macports.org/install.php)\n",
    "- In Terminal on MacOS\n",
    "    - [Install ncurses](https://ports.macports.org/port/ncurses/)\n",
    "    - ```gem install mdless```\n",
    "    \n",
    "> Output of the example is much nicer in \"jupyter\""
   ]
  },
  {
   "cell_type": "code",
   "execution_count": 1,
   "metadata": {
    "vscode": {
     "languageId": "shellscript"
    }
   },
   "outputs": [
    {
     "name": "stdout",
     "output_type": "stream",
     "text": [
      "\n",
      "File listing and status\n",
      "-rw-r--r--  1 mister_dew  wheel  809 Aug 22 09:33 sample.md\n",
      "      15     132     809 sample.md\n"
     ]
    },
    {
     "name": "stderr",
     "output_type": "stream",
     "text": [
      "bash: line 30: mdless: command not found\n"
     ]
    }
   ],
   "source": [
    "%%script bash\n",
    "\n",
    "# This example has error in VSCode, it run best on Jupyter\n",
    "cd /tmp\n",
    "\n",
    "file=\"sample.md\"\n",
    "if [ -f \"$file\" ]; then\n",
    "    rm $file\n",
    "fi\n",
    "\n",
    "tee -a $file >/dev/null <<EOF\n",
    "# Show Generated Markdown\n",
    "This introductory paragraph and this line and the title above are generated using tee with the standard input (<<) redirection operator.\n",
    "- This bulleted element is still part of the tee body.\n",
    "EOF\n",
    "\n",
    "echo \"- This bulleted element and lines below are generated using echo with standard output (>>) redirection operator.\" >> $file\n",
    "echo \"- The list definition, as is, is using space to seperate lines.  Thus the use of commas and hyphens in output.\" >> $file\n",
    "actions=(\"ls,list-directory\" \"cd,change-directory\" \"pwd,present-working-directory\" \"if-then-fi,test-condition\" \"env,bash-environment-variables\" \"cat,view-file-contents\" \"tee,write-to-output\" \"echo,display-content-of-string\" \"echo_text_>\\$file,write-content-to-file\" \"echo_text_>>\\$file,append-content-to-file\")\n",
    "for action in ${actions[@]}; do  # for loop is very similar to other language, though [@], semi-colon, do are new\n",
    "  action=${action//-/ }  # convert dash to space\n",
    "  action=${action//,/: } # convert comma to colon\n",
    "  action=${action//_text_/ \\\"sample text\\\" } # convert _text_ to sample text, note escape character \\ to avoid \"\" having meaning\n",
    "  echo \"    - ${action//-/ }\" >> $file  # echo is redirected to file with >>\n",
    "done\n",
    "\n",
    "echo \"\"\n",
    "echo \"File listing and status\"\n",
    "ls -l $file # list file\n",
    "wc $file   # show words\n",
    "mdless $file  # this requires installation, but renders markown from terminal\n",
    "\n",
    "rm $file  # clean up termporary file"
   ]
  },
  {
   "attachments": {},
   "cell_type": "markdown",
   "metadata": {},
   "source": [
    "## Hacks\n",
    "\n",
    "- Come up with your own student view of this procedure to show your tools are installed.\n",
    "\n",
    "I created a bash script that will check where various important tools are installed and show their versions."
   ]
  },
  {
   "cell_type": "code",
   "execution_count": 8,
   "metadata": {
    "vscode": {
     "languageId": "shellscript"
    }
   },
   "outputs": [
    {
     "name": "stdout",
     "output_type": "stream",
     "text": [
      "Where is Homebrew?\n",
      "Which version(s) of Homebrew?\n"
     ]
    },
    {
     "name": "stdout",
     "output_type": "stream",
     "text": [
      "Homebrew 4.1.5-55-g3cd7290\n",
      "Homebrew/homebrew-core (git revision f1cc1840f65; last commit 2023-08-17)\n",
      "Homebrew/homebrew-cask (git revision 1a4702d1d4; last commit 2023-08-17)\n",
      "Where is Ruby?\n",
      "/usr/bin/ruby\n",
      "Which version of Ruby?\n",
      "ruby 2.6.10p210 (2022-04-12 revision 67958) [universal.x86_64-darwin21]\n"
     ]
    }
   ],
   "source": [
    "%%script bash\n",
    "\n",
    "echo \"Where is Homebrew?\";\n",
    "which homebrew;\n",
    "echo \"Which version(s) of Homebrew?\";\n",
    "brew -v;\n",
    "\n",
    "echo \"Where is Ruby?\";\n",
    "which ruby;\n",
    "echo \"Which version of Ruby?\";\n",
    "ruby -v;"
   ]
  },
  {
   "cell_type": "markdown",
   "metadata": {},
   "source": [
    "- Name and create notes on some Linux commands you will use frequently.\n",
    "- Is there anything we use to verify tools we install? Review versions checks.\n",
    "- Is there anything we could verify with Anaconda?  or WSL?  \n",
    "- How would you update a repository?  Could you do that in script above?"
   ]
  }
 ],
 "metadata": {
  "kernelspec": {
   "display_name": "base",
   "language": "python",
   "name": "python3"
  },
  "language_info": {
   "codemirror_mode": {
    "name": "ipython",
    "version": 3
   },
   "file_extension": ".py",
   "mimetype": "text/x-python",
   "name": "python",
   "nbconvert_exporter": "python",
   "pygments_lexer": "ipython3",
   "version": "3.9.12"
  }
 },
 "nbformat": 4,
 "nbformat_minor": 2
}
