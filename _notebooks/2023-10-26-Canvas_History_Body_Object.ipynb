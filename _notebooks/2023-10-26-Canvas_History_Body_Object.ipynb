{
 "cells": [
  {
   "cell_type": "markdown",
   "metadata": {},
   "source": [
    "---\n",
    "toc: true\n",
    "comments: true\n",
    "layout: post\n",
    "title: Test for Object Used for Canvas History\n",
    "description:  Test. Don't worry about it\n",
    "courses: { csa: {week: 10} }\n",
    "type: tangibles\n",
    "---"
   ]
  },
  {
   "cell_type": "markdown",
   "metadata": {},
   "source": [
    "## Basis\n",
    "\n",
    "Look at the object made with Alex for the Dijkstra algorithm JSON body. It seems like it may only take a basic constructor.\n",
    "\n",
    "### Differences\n",
    "\n",
    "- Test method in constructor\n",
    "- Test if JSON keys act as parameter argument identifiers"
   ]
  },
  {
   "cell_type": "code",
   "execution_count": null,
   "metadata": {},
   "outputs": [],
   "source": [
    "// imports work\n",
    "import java.util.HashMap;\n",
    "\n",
    "public class GraphRequest {\n",
    "    private int source;\n",
    "    private int target;\n",
    "    private int[][] adjacencyList;\n",
    "    // this complicated data type works; use for coordinates as well\n",
    "    private HashMap<Integer,int[]> coordinates;\n",
    "\n",
    "    public int getSource() {\n",
    "        return source;\n",
    "    }\n",
    "\n",
    "    public void setSource(int source) {\n",
    "        this.source = source;\n",
    "    }\n",
    "\n",
    "    public int getTarget() {\n",
    "        return target;\n",
    "    }\n",
    "\n",
    "    public void setTarget(int target) {\n",
    "        this.target = target;\n",
    "    }\n",
    "\n",
    "    public int[][] getAdjacencyList() {\n",
    "        return adjacencyList;\n",
    "    }\n",
    "\n",
    "    public void setAdjacencyList(int[][] adjacencyList) {\n",
    "        this.adjacencyList = adjacencyList;\n",
    "    }\n",
    "\n",
    "    public HashMap<Integer,int[]> getCoordinates() {\n",
    "        return coordinates;\n",
    "    }\n",
    "\n",
    "    public void setCoordinates(HashMap<Integer,int[]> coordinates) {\n",
    "        this.coordinates = coordinates;\n",
    "    }\n",
    "}"
   ]
  },
  {
   "cell_type": "markdown",
   "metadata": {},
   "source": [
    "## Current Test\n",
    "\n",
    "Test implementation with this. The idea is that most of the body from the graph request can be used simultaneously to save to the user profile. Necessary for the PUT request.\n",
    "\n",
    "NOTE: Email should be provided in JWT cookie after login to the user. If no email cookie is found, the save should return an error that can be read and returned to the user on the frontend\n",
    "- \"You aren't signed in or your authentication token expired! Please log in once again to save canvases.\""
   ]
  },
  {
   "cell_type": "code",
   "execution_count": null,
   "metadata": {},
   "outputs": [],
   "source": [
    "public class CanvasUpdate {\n",
    "    private String email;\n",
    "    private Integer[][] adj;\n",
    "    private HashMap<Integer, Integer[]> coords;\n",
    "\n",
    "    public CanvasUpdate(String email, Integer[][] adj, HashMap<Integer, Integer[]> coords) {\n",
    "        this.email = email;\n",
    "        this.adj = adj;\n",
    "        this.coords = coords;\n",
    "    }\n",
    "\n",
    "    public void setEmail(String email) {\n",
    "        this.email = email;\n",
    "    }\n",
    "    \n",
    "    public void setAdj(Integer[][] adj) {\n",
    "        this.adj = adj;\n",
    "    }\n",
    "\n",
    "    public void setCoords(HashMap<Integer, Integer[]> coords) {\n",
    "        this.coords = coords;\n",
    "    }\n",
    "\n",
    "    // might break it\n",
    "    public void setCoords(Integer[][] coords) {\n",
    "        for (Integer i = 0; i < coords.length; i++) {\n",
    "          Integer coord[] = new Integer[2];\n",
    "          coord[0] = coords[i][0];\n",
    "          coord[1] = coords[i][1];\n",
    "          Integer nodeID = i + 1;\n",
    "          this.coords.put(nodeID, coord);\n",
    "        }  \n",
    "      }\n",
    "\n",
    "    public String getEmail() {\n",
    "        return this.email;\n",
    "    }\n",
    "\n",
    "    public Integer[][] getAdj() {\n",
    "        return this.adj;\n",
    "    }\n",
    "\n",
    "    public HashMap<Integer, Integer[]> getCoords() {\n",
    "        return this.coords;\n",
    "    }\n",
    "}"
   ]
  },
  {
   "cell_type": "markdown",
   "metadata": {},
   "source": [
    "NOTE: idk if implicit constructors with lombok will work but I wouldn't risk it. Might as well be real"
   ]
  },
  {
   "cell_type": "markdown",
   "metadata": {},
   "source": [
    "## Result 1\n",
    "\n",
    "\"JSON failed to map\"\n",
    "\n",
    "This could be related to file location. To be tested\n",
    "\n",
    "## Result 2\n",
    "\n",
    "This fixed the \"JSON failed to map\" error from Postman. It seems like this is how it's intended to work with class objects, where Spring requires some separate file to be created and imported."
   ]
  }
 ],
 "metadata": {
  "kernelspec": {
   "display_name": "Java",
   "language": "java",
   "name": "java"
  },
  "language_info": {
   "name": "java"
  },
  "orig_nbformat": 4
 },
 "nbformat": 4,
 "nbformat_minor": 2
}
