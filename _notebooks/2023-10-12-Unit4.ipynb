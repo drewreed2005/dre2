{
  "cells": [
    {
      "cell_type": "markdown",
      "metadata": {
        "id": "H2owDd1giFbL"
      },
      "source": [
        "---\n",
        "toc: true\n",
        "comments: true\n",
        "layout: post\n",
        "title: U4 | Iteration\n",
        "description: while Loops, for Loops, Developing Algorithms Using Strings, Nested Iteration, Informal code analysis >>> AP Exam Weighting 17.5-22.5%\n",
        "type: plans\n",
        "courses: { csa: {week: 8} }\n",
        "authors: Aliya, Ekam, Emma, Raunak, Luna\n",
        "---"
      ]
    },
    {
      "cell_type": "markdown",
      "metadata": {
        "id": "BZAHKL8giFbO"
      },
      "source": [
        "# U4 | Iteration"
      ]
    },
    {
      "cell_type": "markdown",
      "metadata": {
        "id": "n5DwvzKDiFbO"
      },
      "source": [
        "---"
      ]
    },
    {
      "cell_type": "markdown",
      "metadata": {
        "id": "tz_lOIHhiFbP"
      },
      "source": [
        "# 4.1 while Loops"
      ]
    },
    {
      "cell_type": "markdown",
      "metadata": {
        "id": "WWocj22RiFbP"
      },
      "source": [
        "---"
      ]
    },
    {
      "cell_type": "markdown",
      "metadata": {
        "id": "8LcvRRKgiGt8"
      },
      "source": [
        "- A while loop is a fundamental control structure in programming used for repeated execution of a block of code as long as a condition is true.\n",
        "- The loop starts by evaluating the condition. If the condition is true, the code inside the loop is executed.\n",
        "- After each iteration, the condition is re-evaluated, and if it's still true, the loop continues.\n",
        "If the condition is false initially, the loop code is never executed.\n",
        "- While loops are used when you don't know in advance how many times the loop needs to execute.\n",
        "- There's a risk of infinite loops if the condition never becomes false, so be cautious.\n",
        "You can use variables and complex expressions as loop conditions.\n",
        "- It's essential to update the loop control variable within the loop to prevent infinite loops.\n",
        "- While loops are typically used for tasks such as iterating over collections or waiting for a specific condition to be met.\n",
        "- You can always break out of a while loop prematurely using the break statement."
      ]
    },
    {
      "cell_type": "markdown",
      "metadata": {
        "id": "E8iapCcPija6"
      },
      "source": [
        "## Example of While Loops"
      ]
    },
    {
      "cell_type": "code",
      "execution_count": 1,
      "metadata": {
        "id": "Jq6_6Xz9iQ7T",
        "vscode": {
          "languageId": "java"
        }
      },
      "outputs": [
        {
          "name": "stdout",
          "output_type": "stream",
          "text": [
            "    *\n",
            "   ***\n",
            "  *****\n",
            " *******\n",
            "*********\n"
          ]
        }
      ],
      "source": [
        "public class PyramidPattern {\n",
        "    public static void main(String[] args) {\n",
        "        int height = 5;\n",
        "        int row = 1;\n",
        "\n",
        "        while (row <= height) {\n",
        "            int spaces = height - row;\n",
        "            int stars = 2 * row - 1;\n",
        "\n",
        "            // Print spaces\n",
        "            int spaceCount = spaces;\n",
        "            while (spaceCount > 0) {\n",
        "                System.out.print(\" \");\n",
        "                spaceCount--;\n",
        "            }\n",
        "\n",
        "            // Print stars\n",
        "            int starCount = stars;\n",
        "            while (starCount > 0) {\n",
        "                System.out.print(\"*\");\n",
        "                starCount--;\n",
        "            }\n",
        "\n",
        "            System.out.println(); // Move to the next line for the next row\n",
        "            row++;\n",
        "        }\n",
        "    }\n",
        "}\n",
        "\n",
        "PyramidPattern.main(null);"
      ]
    },
    {
      "cell_type": "markdown",
      "metadata": {
        "id": "PlEcHnmjiFbP"
      },
      "source": [
        "# 4.2 for Loops"
      ]
    },
    {
      "cell_type": "markdown",
      "metadata": {
        "id": "zqeh9EO5iFbP"
      },
      "source": [
        "---"
      ]
    },
    {
      "cell_type": "markdown",
      "metadata": {
        "id": "KE4BIEPriFbQ"
      },
      "source": [
        "- Iterative statement that checks for condition\n",
        "- Repeatedly execute a a block of code as long as the condition is met\n",
        "- Condition specifies amount of times\n",
        "\n",
        "# for Loops vs. while Loops\n",
        "- while Loops: use when number of iterations is unknown\n",
        "- for Loops: use when number of iterations is known"
      ]
    },
    {
      "cell_type": "code",
      "execution_count": null,
      "metadata": {
        "id": "puqpCZjUiFbQ",
        "outputId": "d0b6c4cd-efd4-48bc-94ae-a1a65f07ca7b",
        "vscode": {
          "languageId": "java"
        }
      },
      "outputs": [
        {
          "name": "stdout",
          "output_type": "stream",
          "text": [
            "0\n",
            "1\n",
            "2\n",
            "3\n",
            "4\n"
          ]
        }
      ],
      "source": [
        "int i = 0;\n",
        "while (i < 5) {\n",
        "    System.out.println(i);\n",
        "    i++;\n",
        "}"
      ]
    },
    {
      "cell_type": "code",
      "execution_count": null,
      "metadata": {
        "id": "gZ19jPsGiFbS",
        "outputId": "8b800081-760b-4b06-c86d-c867c9b1c841",
        "vscode": {
          "languageId": "java"
        }
      },
      "outputs": [
        {
          "name": "stdout",
          "output_type": "stream",
          "text": [
            "0\n",
            "1\n",
            "2\n",
            "3\n",
            "4\n"
          ]
        }
      ],
      "source": [
        "for (int i = 0; i < 5; i++) {\n",
        "    System.out.println(i);\n",
        "}"
      ]
    },
    {
      "cell_type": "markdown",
      "metadata": {
        "id": "w9Hb_U8JiFbS"
      },
      "source": [
        "- Three parts in for loop header: variable initialization, Boolean (conditional) expression, and increment/decrement statement\n",
        "\n",
        "Question: Which part is which?\n",
        "\n",
        "<mark>I will used the for loop above as demonstration. The variable initialization is the `int i = 0;` segment. The conditional expression is `i < 5;`. The increment/decrement statement (increment in this case) is that final `i++`.</mark>\n",
        "\n",
        "- variable initialization (int i=0): sets variable before loop starts\n",
        "- Boolean (conditional) expression (i < 5): defines condition for loop to run, in this case, the loop continues as long as i is less than 5, so loops 5 times i 05\n",
        "- increment/decrement statement (i++): increases variable each time code block in the loop is executed, in this case it increases by 1\n",
        "- variable can be used in the code block for other various reasons besides specifying how many times the loop will repeat\n",
        "- Boolean (conditional) expression and increment/decrement statement together determine how many times the loop will repeat\n"
      ]
    },
    {
      "cell_type": "markdown",
      "metadata": {},
      "source": [
        "## Popcorn Hack\n",
        "\n",
        "- Calculate and print the sum of all even numbers from 1 to a given positive integer ‘n’ (user input n)"
      ]
    },
    {
      "cell_type": "code",
      "execution_count": 4,
      "metadata": {
        "vscode": {
          "languageId": "java"
        }
      },
      "outputs": [
        {
          "name": "stdout",
          "output_type": "stream",
          "text": [
            "To which positive integer would you like to get the sum of all even integers?\n"
          ]
        },
        {
          "name": "stdout",
          "output_type": "stream",
          "text": [
            "The sum of all even numbers between 1 and 8 (inclusive) is 20.\n"
          ]
        }
      ],
      "source": [
        "public class InputEvenSums {\n",
        "    public static void main(String[] args) {\n",
        "        // initializing sum\n",
        "        int sum = 0;\n",
        "\n",
        "        Scanner scanner = new Scanner(System.in);\n",
        "        System.out.println(\"To which positive integer would you like to get the sum of all even integers?\");\n",
        "        int upperLimit = scanner.nextInt();\n",
        "\n",
        "        for (int i = 1; i <= upperLimit; i++) {\n",
        "            if (i % 2 == 0) {\n",
        "                sum += i;\n",
        "            }\n",
        "        }\n",
        "\n",
        "        System.out.println(\"The sum of all even numbers between 1 and \" + upperLimit + \" (inclusive) is \" + sum + \".\");\n",
        "        scanner.close();\n",
        "    }\n",
        "}\n",
        "\n",
        "InputEvenSums.main(null);"
      ]
    },
    {
      "cell_type": "markdown",
      "metadata": {
        "id": "2Qsee252iFbT"
      },
      "source": [
        "# 4.3 Developing Algorithms Using Strings"
      ]
    },
    {
      "cell_type": "markdown",
      "metadata": {
        "id": "yx27l9SHiFbT"
      },
      "source": [
        "---"
      ]
    },
    {
      "cell_type": "markdown",
      "metadata": {
        "id": "o7jsDtk6iFbT"
      },
      "source": [
        "LEARNING OBJECTIVES:\n",
        "For algorithms in the context of a particular specification that involves ```String``` objects:\n",
        "- identify standard algorithms\n",
        "- modify standard algorithms\n",
        "- develop an algorithm\n",
        "\n",
        "\n",
        "**Java has many methods that are helpful when working with strings:**\n",
        "\n",
        "* ```String .substring``` --> retrieves portion of a string\n",
        "* ```String .equals``` --> compares two strings\n",
        "* ```String .length``` --> returns length of a string\n",
        "* ```for Loop``` --> iterating through characters of a string\n",
        "\n",
        "<h3> Finding a substring within a string </h3>\n",
        "\n",
        "We can use the \"window\" method:\n",
        "\n",
        "A \"window\" is created the same length as the substring. We then iterate through the main string in sections and compare to the substring\n",
        "\n",
        "For example:\n",
        "\n",
        "<h3> I T E R A T E </h3>with substring \"ERA\""
      ]
    },
    {
      "cell_type": "code",
      "execution_count": 10,
      "metadata": {
        "id": "NdBC9Hr5iFbT",
        "vscode": {
          "languageId": "java"
        }
      },
      "outputs": [
        {
          "name": "stdout",
          "output_type": "stream",
          "text": [
            "substring is found within string!\n"
          ]
        }
      ],
      "source": [
        "public class StringFinder {\n",
        "    public static void main(String[] args) {\n",
        "        String word = \"iterate\";\n",
        "        String sub = \"era\";\n",
        "        boolean found = false; // will be set to true once substring is found\n",
        "\n",
        "        // I FIXED IT HERE\n",
        "        for (int i = 0; i <= (word.length() - sub.length()); i++) { //iterating forwards: starting at first index (0) and going to the length of the word.. let's try word.length\n",
        "            String portion = word.substring(i, i + sub.length());\n",
        "            if (portion.equals(sub)) // make sure you use .equals!!\n",
        "                found = true;\n",
        "        }\n",
        "\n",
        "        if (found)\n",
        "            System.out.println(\"substring is found within string!\");\n",
        "        else\n",
        "            System.out.println(\"substring is NOT within string\");\n",
        "    }\n",
        "\n",
        "    }\n",
        "\n",
        "    StringFinder.main(null);"
      ]
    },
    {
      "cell_type": "markdown",
      "metadata": {
        "id": "bWGMnmK6iFbT"
      },
      "source": [
        "<h4> POPCORN HACK: Run the code...what happened? How can we fix it?</h4>\n",
        "\n",
        "Tell us below!\n",
        "\n",
        "<mark>It threw an out-of-bounds exception because the loop ends up trying to grab indexes beyond the length of the word because it adds the length of `sub`. This can be fixed by changing the conditional to `i < (word.length() - sub.length() + 1);`. This prevents out of bounds indexes from being called. The +1 corrects for the offset of the lengths, allowing for the last letters of the word to be tested. They would otherwise be untested because the loop ends early.</mark>\n",
        "\n",
        "<h4> Another issue:</h4>\n",
        "\n",
        "<h3> I T E R A T E </h3>\n",
        "What if our substring was the word \"RATE\"? Note that RATE is at the end of the whole string\n",
        "\n",
        "<mark>With the fix I made above, it finds the substring \"RATE\" as long as it's lowercase.</mark>"
      ]
    },
    {
      "cell_type": "code",
      "execution_count": 11,
      "metadata": {
        "vscode": {
          "languageId": "java"
        }
      },
      "outputs": [
        {
          "name": "stdout",
          "output_type": "stream",
          "text": [
            "substring is found within string!\n"
          ]
        }
      ],
      "source": [
        "public class StringFinder2 {\n",
        "    public static void main(String[] args) {\n",
        "        String word = \"iterate\";\n",
        "        String sub = \"rate\";\n",
        "        boolean found = false; // will be set to true once substring is found\n",
        "\n",
        "        // I FIXED IT HERE\n",
        "        for (int i = 0; i <= (word.length() - sub.length()); i++) { //iterating forwards: starting at first index (0) and going to the length of the word.. let's try word.length\n",
        "            String portion = word.substring(i, i + sub.length());\n",
        "            if (portion.equals(sub)) // make sure you use .equals!!\n",
        "                found = true;\n",
        "        }\n",
        "\n",
        "        if (found)\n",
        "            System.out.println(\"substring is found within string!\");\n",
        "        else\n",
        "            System.out.println(\"substring is NOT within string\");\n",
        "    }\n",
        "}\n",
        "\n",
        "StringFinder2.main(null);"
      ]
    },
    {
      "cell_type": "markdown",
      "metadata": {},
      "source": [
        "<h3> HACKS </h3>\n",
        "\n",
        "**Create a algorithm similar to the one above. Except this time, use iteration to count the number of vowels within the main string.**\n",
        "\n",
        "HINT: Use the boolean expressions we have learned in previous lessons. Which would you use when comparing your \"window\" with multiple options of substrings?\n",
        "\n",
        "<mark>I did that below. It also asks for the user to input the string. I did it efficiently with the `.contains()` list method. It can also check more than one word for vowels if you input a whole sentence.</mark>"
      ]
    },
    {
      "cell_type": "code",
      "execution_count": 35,
      "metadata": {
        "vscode": {
          "languageId": "java"
        }
      },
      "outputs": [
        {
          "name": "stdout",
          "output_type": "stream",
          "text": [
            "Which word(s) would you like to parse for vowels?\n"
          ]
        },
        {
          "name": "stdout",
          "output_type": "stream",
          "text": [
            "3 vowel(s) were found in the word(s) \"this phrase\".\n"
          ]
        }
      ],
      "source": [
        "public class VowelFinder {\n",
        "    public static void main(String[] args) {\n",
        "        // initializing\n",
        "        String[] vowels = {\"a\", \"e\", \"i\", \"o\", \"u\"};\n",
        "        int numberOfVowels = 0;\n",
        "\n",
        "        // user input\n",
        "        Scanner scanner = new Scanner(System.in);\n",
        "        System.out.println(\"Which word(s) would you like to parse for vowels?\");\n",
        "        String word = scanner.nextLine();\n",
        "\n",
        "        // looping through for vowels\n",
        "        for (int i = 0; i < word.length(); i++) { // iterating forward through the word\n",
        "            String character = word.substring(i, i+1); // keeps it a string so that I can make it lowercase\n",
        "            if (Arrays.asList(vowels).contains(character.toLowerCase())) numberOfVowels += 1; // incrementing if vowel\n",
        "        }\n",
        "\n",
        "        // final statement\n",
        "        System.out.println(numberOfVowels + \" vowel(s) were found in the word(s) \\\"\" + word + \"\\\".\");\n",
        "        scanner.close();\n",
        "    }\n",
        "}\n",
        "\n",
        "VowelFinder.main(null);"
      ]
    },
    {
      "cell_type": "markdown",
      "metadata": {
        "id": "gQ5Aei3eiFbT"
      },
      "source": [
        "# 4.4 Nested Iteration"
      ]
    },
    {
      "cell_type": "markdown",
      "metadata": {
        "id": "sdYSe47hiFbT"
      },
      "source": [
        "**nested iteration**\n",
        "<details>occurs when we have a loop inside of another loop, similar to nested conditional statements in unit 3"
      ]
    },
    {
      "cell_type": "markdown",
      "metadata": {
        "id": "8qx7m09piFbT"
      },
      "source": [
        "When you have one loop inside another, the inner loop has to finish all its rounds before the outer loop moves to the next round. If the inner loop has a \"stop\" command, it only stops for that round of the outer loop. The next time the outer loop starts a new round, the inner loop starts over.\n",
        "\n",
        "If you have two nested loops without stops, and the outer one runs n times while the inner one runs m times each time the outer one goes around, the inner loop will run m times n times, which is m * n times in total. This rule also applies if you have more than two nested loops. To find the total number of times the innermost loop runs, just multiply how many times each loop runs per round."
      ]
    },
    {
      "cell_type": "code",
      "execution_count": 12,
      "metadata": {
        "id": "SE-EnFk5iFbU",
        "vscode": {
          "languageId": "java"
        }
      },
      "outputs": [
        {
          "name": "stdout",
          "output_type": "stream",
          "text": [
            "Outer loop iteration: 1\n",
            "Inner loop iteration: 1\n",
            "Inner loop iteration: 2\n",
            "Outer loop iteration: 2\n",
            "Inner loop iteration: 1\n",
            "Inner loop iteration: 2\n",
            "Outer loop iteration: 3\n",
            "Inner loop iteration: 1\n",
            "Inner loop iteration: 2\n"
          ]
        }
      ],
      "source": [
        "public class NestedLoopsDemo {\n",
        "    public static void main(String[] args) {\n",
        "        int n = 3; //numb of times the outside loop runs\n",
        "        int m = 2; //numb of times the inside loop runs\n",
        "\n",
        "        //the nested loops\n",
        "        for (int i = 1; i <= n; i++) {\n",
        "            System.out.println(\"Outer loop iteration: \" + i);\n",
        "            for (int j = 1; j <= m; j++) {\n",
        "                System.out.println(\"Inner loop iteration: \" + j);\n",
        "            }\n",
        "        }\n",
        "    }\n",
        "}\n",
        "NestedLoopsDemo.main(null)"
      ]
    },
    {
      "cell_type": "markdown",
      "metadata": {
        "id": "2tGuZ6sliFbU"
      },
      "source": [
        "### Break Statement\n",
        "\n",
        "**break statement**\n",
        "<details>is used to exit a loop prematurely, typically when a certain condition is met. In the case of nested loops, it can be used to break out of the innermost loop."
      ]
    },
    {
      "cell_type": "code",
      "execution_count": null,
      "metadata": {
        "id": "WYOiIZ0hiFbU",
        "vscode": {
          "languageId": "java"
        }
      },
      "outputs": [],
      "source": [
        "public class BreakExample {\n",
        "    public static void main(String[] args) {\n",
        "        for (int i = 1; i <= 3; i++) {\n",
        "            System.out.println(\"Outer loop iteration \" + i);\n",
        "\n",
        "            for (int j = 1; j <= 3; j++) {\n",
        "                System.out.println(\"Inner loop iteration \" + j);\n",
        "\n",
        "                if (i == 2 && j == 2) {\n",
        "                    System.out.println(\"Breaking inner loop\");\n",
        "                    break; //break out of the inside loop when i is 2 and j is 2.\n",
        "                }\n",
        "            }\n",
        "        }\n",
        "    }\n",
        "}\n",
        "BreakExample.main(null)"
      ]
    },
    {
      "cell_type": "markdown",
      "metadata": {
        "id": "07CqREosiFbU"
      },
      "source": [
        "### Popcorn HACK\n",
        "\n",
        "When the targetNumber is found, you can print a message and use the break statement to exit the loop. When it's not found, you can print a message indicating that the number was not found.\n",
        "\n",
        "<mark>I did that below.</mark>"
      ]
    },
    {
      "cell_type": "code",
      "execution_count": 31,
      "metadata": {
        "id": "mvD8YS8giFbU",
        "vscode": {
          "languageId": "java"
        }
      },
      "outputs": [
        {
          "name": "stdout",
          "output_type": "stream",
          "text": [
            "The number was not found.\n"
          ]
        }
      ],
      "source": [
        "public class BreakHack {\n",
        "    public static void main(String[] args) {\n",
        "        int targetNumber = 42; //numb we want\n",
        "        int[] numbers = {10, 20, 30, 40, 50, 60, 70}; //numb array\n",
        "        boolean numberFound = false; // i added this for the code to function correctly\n",
        "\n",
        "        for (int number : numbers) {\n",
        "            if (number == targetNumber) {\n",
        "                System.out.println(\"The target number \" + targetNumber + \" was found!\");\n",
        "                numberFound = true;\n",
        "                break;\n",
        "            }\n",
        "        }\n",
        "        if (!numberFound) {System.out.println(\"The number was not found.\");}\n",
        "    }\n",
        "}\n",
        "\n",
        "BreakHack.main(null);"
      ]
    },
    {
      "cell_type": "markdown",
      "metadata": {
        "id": "Uu9qDRhriFbU"
      },
      "source": [
        "### Continue Statement\n",
        "\n",
        "**continue statement**\n",
        "<details>is used to skip the current iteration of a loop and move to the next iteration. In the case of nested loops, it applies to the innermost loop."
      ]
    },
    {
      "cell_type": "code",
      "execution_count": null,
      "metadata": {
        "id": "LBzvnBikiFbU",
        "vscode": {
          "languageId": "java"
        }
      },
      "outputs": [],
      "source": [
        "public class ContinueExample {\n",
        "    public static void main(String[] args) {\n",
        "        for (int i = 1; i <= 3; i++) {\n",
        "            System.out.println(\"Outer loop iteration \" + i);\n",
        "\n",
        "            for (int j = 1; j <= 3; j++) {\n",
        "                if (i == 2 && j == 2) {\n",
        "                    System.out.println(\"Skipping inner loop iteration \" + j);\n",
        "                    continue; //skip the iteration when i is 2 and j is 2.\n",
        "                }\n",
        "                System.out.println(\"Inner loop iteration \" + j);\n",
        "            }\n",
        "        }\n",
        "    }\n",
        "}\n",
        "ContinueExample.main(null)"
      ]
    },
    {
      "cell_type": "markdown",
      "metadata": {
        "id": "_CMN4mGIiFbU"
      },
      "source": [
        "### Patterns and Shapes"
      ]
    },
    {
      "cell_type": "code",
      "execution_count": 18,
      "metadata": {
        "id": "i3FAExO2iFbV",
        "vscode": {
          "languageId": "java"
        }
      },
      "outputs": [
        {
          "name": "stdout",
          "output_type": "stream",
          "text": [
            "Enter the symbol you want to use: "
          ]
        },
        {
          "name": "stdout",
          "output_type": "stream",
          "text": [
            "Enter the number of rows for the pyramid:     B\n",
            "   BBB\n",
            "  BBBBB\n",
            " BBBBBBB\n",
            "BBBBBBBBB\n"
          ]
        }
      ],
      "source": [
        "import java.util.Scanner;\n",
        "\n",
        "public class InteractivePyramid {\n",
        "    public static void main(String[] args) {\n",
        "        Scanner scanner = new Scanner(System.in);\n",
        "\n",
        "        System.out.print(\"Enter the symbol you want to use: \");\n",
        "        char symbol = scanner.next().charAt(0);\n",
        "\n",
        "        System.out.print(\"Enter the number of rows for the pyramid: \");\n",
        "        int numRows = scanner.nextInt();\n",
        "\n",
        "        for (int i = 1; i <= numRows; i++) {\n",
        "            //print space before the symbol\n",
        "            for (int j = 1; j <= numRows - i; j++) {\n",
        "                System.out.print(\" \");\n",
        "            }\n",
        "\n",
        "            //print\n",
        "            for (int k = 1; k <= 2 * i - 1; k++) {\n",
        "                System.out.print(symbol);\n",
        "            }\n",
        "\n",
        "            System.out.println(); //next line\n",
        "        }\n",
        "        scanner.close();\n",
        "    }\n",
        "}\n",
        "InteractivePyramid.main(null);"
      ]
    },
    {
      "cell_type": "markdown",
      "metadata": {
        "id": "WKNmFknwiFbV"
      },
      "source": [
        "## Hacks\n",
        "\n",
        "1. **Modify pyramid code:**\n",
        "\n",
        "- Create different patterns (other then pyramid) by modifying nested loop structure\n",
        "\n",
        "<mark>I'm not very artistic, so I made a grid pattern with nested loops.</mark>"
      ]
    },
    {
      "cell_type": "code",
      "execution_count": 40,
      "metadata": {
        "vscode": {
          "languageId": "java"
        }
      },
      "outputs": [
        {
          "name": "stdout",
          "output_type": "stream",
          "text": [
            "Enter the symbol you want to use: \n"
          ]
        },
        {
          "name": "stdout",
          "output_type": "stream",
          "text": [
            "Enter the height of the grid: \n",
            "Enter the width of the grid: \n",
            "# | # | # | # | # | # | # | #\n",
            " | # | # | # | # | # | # | # | \n",
            "# | # | # | # | # | # | # | #\n",
            " | # | # | # | # | # | # | # | \n",
            "# | # | # | # | # | # | # | #\n"
          ]
        }
      ],
      "source": [
        "// grid pattern\n",
        "public class InteractiveGrid {\n",
        "    public static void main(String[] args) {\n",
        "        Scanner scanner = new Scanner(System.in);\n",
        "\n",
        "        System.out.print(\"Enter the symbol you want to use: \\n\");\n",
        "        char symbol = scanner.next().charAt(0);\n",
        "\n",
        "        System.out.print(\"Enter the height of the grid: \\n\");\n",
        "        int gridHeight = scanner.nextInt();\n",
        "\n",
        "        System.out.print(\"Enter the width of the grid: \\n\");\n",
        "        int gridWidth = scanner.nextInt();\n",
        "\n",
        "        for (int i = 1; i <= gridHeight; i++) {\n",
        "            // nested loop for alternating pattern\n",
        "            for (int j = 1; j <= gridWidth; j++) {\n",
        "                if ((i + j) % 2 == 0) {\n",
        "                    System.out.print(symbol);\n",
        "                } else {\n",
        "                    System.out.print(\" | \");\n",
        "                }\n",
        "            }\n",
        "            System.out.println(); //next line\n",
        "        }\n",
        "        scanner.close();\n",
        "    }\n",
        "}\n",
        "InteractiveGrid.main(null);"
      ]
    },
    {
      "cell_type": "markdown",
      "metadata": {},
      "source": [
        "2. **Questions**\n",
        "\n",
        "- What is a nested iteration, continue statement, and break statement (in your own words)?\n",
        "\n",
        "<mark><b>Nested iteration</b> is when a loop/loops are used within another loop to add another layer of iteration to a process. They can be used for things like repeating iteration processes multiple times across multiple variables/values and iterating through multi-dimensional arrays/hashmaps.</mark>\n",
        "\n",
        "<mark><b>Continue statements</b> skip to the next iteration of a loop. They can be used to, for example, skip over a process if not necessary under certain conditions in a loop.</mark>\n",
        "\n",
        "<mark><b>Break statements</b> can be used to break out of a loop early. They can be used to stop an iteration process if a certain goal has already been achieved or act as a means of leaving an infinite loop.</mark>\n",
        "\n",
        "- Create a simple example of a continue statement **or** break statement\n",
        "\n",
        "<mark>I gave examples of both below.</mark>"
      ]
    },
    {
      "cell_type": "code",
      "execution_count": 49,
      "metadata": {
        "vscode": {
          "languageId": "java"
        }
      },
      "outputs": [
        {
          "name": "stdout",
          "output_type": "stream",
          "text": [
            "Input a phrase with numbers. The numbers within the phrase will be added up.\n"
          ]
        },
        {
          "name": "stdout",
          "output_type": "stream",
          "text": [
            "Sum of numbers in the phrase \"f0f8d370k5748f73kkh3\": 55\n"
          ]
        }
      ],
      "source": [
        "// setup for statements\n",
        "Scanner scanner = new Scanner(System.in);\n",
        "\n",
        "System.out.println(\"Input a phrase with numbers. The numbers within the phrase will be added up.\");\n",
        "String numberPhrase = scanner.nextLine();\n",
        "\n",
        "// continue statement\n",
        "int numberSum = 0;\n",
        "for (int i = 0; i < numberPhrase.length(); i++) {\n",
        "    char currentChar = numberPhrase.charAt(i);\n",
        "    if (!(Character.isDigit(currentChar))) {\n",
        "        continue; // HERE IT IS\n",
        "    }\n",
        "    numberSum += Integer.parseInt(String.valueOf(currentChar));\n",
        "}\n",
        "\n",
        "System.out.println(\"Sum of numbers in the phrase \\\"\" + numberPhrase + \"\\\": \" + numberSum);"
      ]
    },
    {
      "cell_type": "code",
      "execution_count": 53,
      "metadata": {
        "vscode": {
          "languageId": "java"
        }
      },
      "outputs": [
        {
          "name": "stdout",
          "output_type": "stream",
          "text": [
            "Guess a number between 1 and 10!\n"
          ]
        },
        {
          "name": "stdout",
          "output_type": "stream",
          "text": [
            "Your guess was less than the actual number.\n",
            "Congrats! You guessed the number: 7\n"
          ]
        }
      ],
      "source": [
        "// setup for guessing game\n",
        "Scanner scanner = new Scanner(System.in);\n",
        "Random random = new Random();\n",
        "int randomNumber = random.nextInt(10) + 1;\n",
        "System.out.println(\"Guess a number between 1 and 10!\");\n",
        "\n",
        "// use of break in a loop\n",
        "while (true) {\n",
        "    int guess = scanner.nextInt();\n",
        "    if (guess == randomNumber) {\n",
        "        System.out.println(\"Congrats! You guessed the number: \" + randomNumber);\n",
        "        break; // here's the break\n",
        "    } else if (guess > randomNumber) {\n",
        "        System.out.println(\"Your guess was greater than the actual number.\");\n",
        "    } else {\n",
        "        System.out.println(\"Your guess was less than the actual number.\");\n",
        "    }\n",
        "}"
      ]
    },
    {
      "cell_type": "markdown",
      "metadata": {
        "id": "1cP_yN3jiFbV"
      },
      "source": [
        "---"
      ]
    },
    {
      "cell_type": "markdown",
      "metadata": {
        "id": "BuoyimRViFbV"
      },
      "source": [
        "# 4.5 Informal Code Analysis\n",
        "\n",
        "<b>Learning objective</b>: Compute statement execution counts & informal run-time comparison of iterative statements\n",
        "\n",
        "<b>Essential Knowledge</b>: A statement execution count indicates the number of times a statement is executed by the program"
      ]
    },
    {
      "cell_type": "markdown",
      "metadata": {
        "id": "i6lNhfE5iFbV"
      },
      "source": [
        "<h3> What IS informal code analysis? </h3>\n",
        "\n",
        "Answer: <mark>Computing the informal runtime based on the number of times the statement is executed.</mark>"
      ]
    },
    {
      "cell_type": "code",
      "execution_count": 20,
      "metadata": {
        "id": "u-8M605aiFbV",
        "vscode": {
          "languageId": "java"
        }
      },
      "outputs": [],
      "source": [
        "// CODE EXAMPLE #1 (for loop)\n",
        "public class InformalCodeAnalysis {\n",
        "    public static void main(String[] args) {\n",
        "        int count = 0;\n",
        "        for (int k = 0; k < 30; k++)\n",
        "        {\n",
        "            if (k % 3 == 0) // statement 1\n",
        "            {\n",
        "                count++; // statement 2\n",
        "            }\n",
        "        }\n",
        "    }\n",
        "}"
      ]
    },
    {
      "cell_type": "markdown",
      "metadata": {
        "id": "mG7oXy_SiFbW"
      },
      "source": [
        "<b>How many times will statement 1 execute? </b>\n",
        "\n",
        "Answer: <mark>30 times.</mark>\n",
        "\n",
        "<b>How many times will statement 2 execute?</b>\n",
        "\n",
        "Answer: <mark>10 times, since 10 numbers between 0 and 29 (inclusive) are divisible by 3 (including 0).</mark>"
      ]
    },
    {
      "cell_type": "code",
      "execution_count": null,
      "metadata": {
        "id": "QVPEF82jiFbW",
        "vscode": {
          "languageId": "java"
        }
      },
      "outputs": [],
      "source": [
        "// CODE EXAMPLE #2 (for loop)\n",
        "public class InformalCodeAnalysis {\n",
        "    public static void main(String[] args) {\n",
        "        int count = 0;\n",
        "        for (int k = 4; k < 30; k+=3)\n",
        "        {\n",
        "            count++; // statement 3\n",
        "        }\n",
        "    }\n",
        "}"
      ]
    },
    {
      "cell_type": "markdown",
      "metadata": {
        "id": "ZfFLuOHqiFbW"
      },
      "source": [
        "<b>How many times will statement 3 execute?</b>\n",
        "\n",
        "Answer: <mark>9 times, starting with 4 and then 8 more times as k becomes 7, 10, 13..., and finally 28.</mark>\n",
        "\n",
        "<mark>I made the code below more efficient by incrementing k by 5 each time and getting rid of the modulo divsion.</mark>"
      ]
    },
    {
      "cell_type": "code",
      "execution_count": null,
      "metadata": {
        "id": "fv6VvS8AiFbW",
        "vscode": {
          "languageId": "java"
        }
      },
      "outputs": [],
      "source": [
        "// Rewrite the code segment below to have a faster run-time based on statement execution counts\n",
        "for (int k = 0; k < 135; k+=5)\n",
        "{\n",
        "    System.out.println(k);\n",
        "}"
      ]
    },
    {
      "cell_type": "code",
      "execution_count": null,
      "metadata": {
        "id": "PAtLyFjKiFbX",
        "vscode": {
          "languageId": "java"
        }
      },
      "outputs": [],
      "source": [
        "// CODE EXAMPLE #3 (while loop)\n",
        "\n",
        "int num = (int)(Math.random() * 10);\n",
        "while (num % 2 != 0)\n",
        "{\n",
        "    num = (int)(Math.random() * 10) // statement 4\n",
        "}"
      ]
    },
    {
      "cell_type": "markdown",
      "metadata": {
        "id": "AaMr4kc3iFbX"
      },
      "source": [
        "<b>What is the min/max number of times statement 4 will execute?</b>\n",
        "\n",
        "Answer: <mark>The minimum is 0 if the random generator generates a number divisible by 2 first. If it never generates one somehow, the maximum number of times is theoretically infinite.</mark>"
      ]
    },
    {
      "cell_type": "code",
      "execution_count": null,
      "metadata": {
        "id": "87I7g-oKiFbg",
        "vscode": {
          "languageId": "java"
        }
      },
      "outputs": [],
      "source": [
        "// CODE EXAMPLE #4 (nested loop)\n",
        "\n",
        "for (int outer = 0; outer < 3; outer++)\n",
        "{\n",
        "    for (int inner = 0; inner < 4; inner++)\n",
        "    {\n",
        "        // statement #5\n",
        "    }\n",
        "}"
      ]
    },
    {
      "cell_type": "markdown",
      "metadata": {
        "id": "QjD7iRJbiFbg"
      },
      "source": [
        "<b>How many times will statement #5 execute?</b>\n",
        "\n",
        "Answer: <mark>It will execute 12 times (4 times in all 3 of the outer loops).</mark>"
      ]
    },
    {
      "cell_type": "code",
      "execution_count": null,
      "metadata": {
        "id": "vHEVqsx3iFbh",
        "vscode": {
          "languageId": "java"
        }
      },
      "outputs": [],
      "source": [
        "// CODE EXAMPLE #5 (nested loop)\n",
        "\n",
        "int k = 0;\n",
        "while (k < 5)\n",
        "{\n",
        "    int x = (int)(Math.random() * 6) + 1;\n",
        "    while (x != 6)\n",
        "    {\n",
        "        // statement #6\n",
        "        x = (int)(Math.random() * 6) + 1;\n",
        "    }\n",
        "    k++;\n",
        "}"
      ]
    },
    {
      "cell_type": "markdown",
      "metadata": {
        "id": "2-bB9MoEiFbh"
      },
      "source": [
        "<b>How many times will statement #6 execute?</b>\n",
        "\n",
        "Answer: <mark>We have no way of knowing because it's based on a random condition. It could theoretically execute an infinite number of times or 0 times.</mark>"
      ]
    },
    {
      "cell_type": "markdown",
      "metadata": {
        "id": "ovHrQpRYiFbh"
      },
      "source": [
        "# 4.5 Hacks"
      ]
    },
    {
      "cell_type": "markdown",
      "metadata": {
        "id": "o7wKf8YpiFbh"
      },
      "source": [
        "\n",
        "<b>#1 How many times will statement #1 and statement #2 execute in the code segments below? </b>\n",
        "\n",
        "<mark>Statement #1 will execute 1000 times. Statement #2 will execute 44 times.</mark>"
      ]
    },
    {
      "cell_type": "code",
      "execution_count": null,
      "metadata": {
        "id": "4Xv5tRjViFbh",
        "vscode": {
          "languageId": "java"
        }
      },
      "outputs": [],
      "source": [
        "for (int k = 0; k < 1000; k++)\n",
        "{\n",
        "    // statement #1\n",
        "}"
      ]
    },
    {
      "cell_type": "code",
      "execution_count": null,
      "metadata": {
        "id": "klZimcf_iFbh",
        "vscode": {
          "languageId": "java"
        }
      },
      "outputs": [],
      "source": [
        "for (int k = 6; k < 50; k++)\n",
        "{\n",
        "    // statement #2\n",
        "}"
      ]
    },
    {
      "cell_type": "markdown",
      "metadata": {
        "id": "8rDcCOqoiFbh"
      },
      "source": [
        "<b>#2 How many times will statement #3 execute for the code segment below?</b>\n",
        "\n",
        "<mark>7 * 4 = 28, so statement #3 will execute 28 times.</mark>"
      ]
    },
    {
      "cell_type": "code",
      "execution_count": null,
      "metadata": {
        "id": "J7zbFi5tiFbh",
        "vscode": {
          "languageId": "java"
        }
      },
      "outputs": [],
      "source": [
        "int k = 1;\n",
        "while (k <=7)\n",
        "{\n",
        "    for (int z = 0; z < 4; z++)\n",
        "    {\n",
        "        // statement #3\n",
        "    }\n",
        "    k++;\n",
        "}"
      ]
    },
    {
      "cell_type": "markdown",
      "metadata": {
        "id": "SkYq79_HiFbh"
      },
      "source": [
        "<b>#3 Create 3 seperate code segments that execute a statement 10 times using: </b>\n",
        "\n",
        "(a) a for loop\n",
        "\n",
        "(b) a while loop\n",
        "\n",
        "(c) a nested loop"
      ]
    },
    {
      "cell_type": "code",
      "execution_count": 24,
      "metadata": {
        "id": "KyXT2RyMiFbh",
        "vscode": {
          "languageId": "java"
        }
      },
      "outputs": [
        {
          "name": "stdout",
          "output_type": "stream",
          "text": [
            "The statement has executed 1 time(s).\n",
            "The statement has executed 2 time(s).\n",
            "The statement has executed 3 time(s).\n",
            "The statement has executed 4 time(s).\n",
            "The statement has executed 5 time(s).\n",
            "The statement has executed 6 time(s).\n",
            "The statement has executed 7 time(s).\n",
            "The statement has executed 8 time(s).\n",
            "The statement has executed 9 time(s).\n",
            "The statement has executed 10 time(s).\n"
          ]
        }
      ],
      "source": [
        "// 3a code (for loop)\n",
        "for (int i = 0; i < 10; i++) {\n",
        "    // the statement in question\n",
        "    System.out.println(\"The statement has executed \" + (i + 1) + \" time(s).\");\n",
        "}"
      ]
    },
    {
      "cell_type": "code",
      "execution_count": 26,
      "metadata": {
        "id": "9gSAz_D9iFbi",
        "vscode": {
          "languageId": "java"
        }
      },
      "outputs": [
        {
          "name": "stdout",
          "output_type": "stream",
          "text": [
            "The statement has executed 1 time(s).\n",
            "The statement has executed 2 time(s).\n",
            "The statement has executed 3 time(s).\n",
            "The statement has executed 4 time(s).\n",
            "The statement has executed 5 time(s).\n",
            "The statement has executed 6 time(s).\n",
            "The statement has executed 7 time(s).\n",
            "The statement has executed 8 time(s).\n",
            "The statement has executed 9 time(s).\n",
            "The statement has executed 10 time(s).\n"
          ]
        }
      ],
      "source": [
        "// 3b code (while loop)\n",
        "int i = 0;\n",
        "while (i < 10) {\n",
        "    // the statement in question\n",
        "    i++;\n",
        "    System.out.println(\"The statement has executed \" + i + \" time(s).\");\n",
        "}"
      ]
    },
    {
      "cell_type": "code",
      "execution_count": 27,
      "metadata": {
        "id": "DFKyyHdiiFbi",
        "vscode": {
          "languageId": "java"
        }
      },
      "outputs": [
        {
          "name": "stdout",
          "output_type": "stream",
          "text": [
            "The statement has executed 1 time(s).\n",
            "The statement has executed 2 time(s).\n",
            "The statement has executed 3 time(s).\n",
            "The statement has executed 4 time(s).\n",
            "The statement has executed 5 time(s).\n",
            "The statement has executed 6 time(s).\n",
            "The statement has executed 7 time(s).\n",
            "The statement has executed 8 time(s).\n",
            "The statement has executed 9 time(s).\n",
            "The statement has executed 10 time(s).\n"
          ]
        }
      ],
      "source": [
        "// 3c code (nested loops)\n",
        "int executions = 0;\n",
        "for (int i = 0; i < 5; i++) {\n",
        "    int j = 0;\n",
        "    while (j < 2) {\n",
        "        // the statement in question\n",
        "        executions++;\n",
        "        System.out.println(\"The statement has executed \" + executions + \" time(s).\");\n",
        "        j++;\n",
        "    }\n",
        "}\n",
        "// I nested a while loop within a for loop"
      ]
    }
  ],
  "metadata": {
    "colab": {
      "provenance": []
    },
    "kernelspec": {
      "display_name": "Java",
      "language": "java",
      "name": "java"
    },
    "language_info": {
      "codemirror_mode": "java",
      "file_extension": ".jshell",
      "mimetype": "text/x-java-source",
      "name": "Java",
      "pygments_lexer": "java",
      "version": "11.0.20.1+0"
    }
  },
  "nbformat": 4,
  "nbformat_minor": 0
}
