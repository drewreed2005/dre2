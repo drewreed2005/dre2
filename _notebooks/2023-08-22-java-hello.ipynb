{
 "cells": [
  {
   "attachments": {},
   "cell_type": "markdown",
   "metadata": {},
   "source": [
    "---\n",
    "layout: post\n",
    "title: Java Hello\n",
    "description: A progressive journey through Java basics starting with the classic \"Hello, World!\" example.\n",
    "courses: { csa: {week: 1} }\n",
    "type: hacks # either plans, hacks, or tangible\n",
    "---"
   ]
  },
  {
   "attachments": {},
   "cell_type": "markdown",
   "metadata": {},
   "source": [
    "## Hello, World!\n",
    "This article shows the basic language structures and constructs of Java (aka anatomy).  In async order, it is critical to understand these examples and learn vocab for OOP and Creating Objects: \n",
    "- [Object Oriented Programming](https://youtu.be/Wok4Xw_5cyY) \n",
    "- [Creating Objects](https://youtu.be/C5Ks_u87Ltg)\n",
    "- [Calling Methods](https://youtu.be/CPE_lYGCw3A)"
   ]
  },
  {
   "attachments": {},
   "cell_type": "markdown",
   "metadata": {},
   "source": [
    "### Static example\n",
    "The class HelloStatic contains the classic \"Hello, World!\" message that is often used as an introduction to a programming language.  The \"public static void main(String[] args)\", or main method, is the default runtime method in Java and has a very specific and ordered definition (signature). \n",
    "\n",
    "The key terms in HelloStatic introduction:\n",
    "- \"class\" is a blueprint for code, it is the code definition and must be called to run\n",
    "- \"method\" or \"static method\" in this case, is the code to be run/executed, similar to a procedure\n",
    "- \"method definition\" or \"signature\" are the keywords \"public static void\" in front of the name \"main\" and the parameters \"String[] args\" after the name.\n",
    "- \"method call\" is the means in which we run the defined code\n"
   ]
  },
  {
   "cell_type": "code",
   "execution_count": 2,
   "metadata": {
    "vscode": {
     "languageId": "java"
    }
   },
   "outputs": [
    {
     "name": "stdout",
     "output_type": "stream",
     "text": [
      "Hello World!\n"
     ]
    }
   ],
   "source": [
    "// Define Static Method within a Class\n",
    "public class HelloStatic {\n",
    "    // Java standard runtime entry point\n",
    "    public static void main(String[] args) {    \n",
    "        System.out.println(\"Hello World!\");\n",
    "    }\n",
    "}\n",
    "// A method call allows us to execute code that is wrapped in Class\n",
    "HelloStatic.main(null);   // Class prefix allows reference of Static Method"
   ]
  },
  {
   "attachments": {},
   "cell_type": "markdown",
   "metadata": {},
   "source": [
    "### Dynamic Example\n",
    "This example starts to use Java in its natural manner, using an object within the main method. This example is a very basic illustration of Object Oriente Programming (OOP). The main method is now used as a driver/tester, by making an instance of the class.  Thus, it creates an Object using the HelloObject() constructor.  Also, this Class contains a getter method called getHello() which returns the value with the \"String hello\".\n",
    "\n",
    "The key terms in HelloStatic introduction:\n",
    "- \"Object Oriented Programming\" focuses software design around data, or objects.\n",
    "- \"object\" contains both methods and data\n",
    "- \"instance of a class\" is the process of making an object, unique or instances of variables are created within the object\n",
    "- \"constructor\" special method in class, code that is used to initialize the data within the object\n",
    "- \"getter\" is a method that is used to extract or reference data from within the object. "
   ]
  },
  {
   "cell_type": "code",
   "execution_count": 3,
   "metadata": {
    "vscode": {
     "languageId": "java"
    }
   },
   "outputs": [
    {
     "name": "stdout",
     "output_type": "stream",
     "text": [
      "Hello, World!\n"
     ]
    }
   ],
   "source": [
    "// Define Class with Constructor returning Object\n",
    "public class HelloObject {\n",
    "    private String hello;   // instance attribute or variable\n",
    "    public HelloObject() {  // constructor\n",
    "        hello = \"Hello, World!\";\n",
    "    }\n",
    "    public String getHello() {  // getter, returns value from inside the object\n",
    "        return this.hello;  // return String from object\n",
    "    }\n",
    "    public static void main(String[] args) {    \n",
    "        HelloObject ho = new HelloObject(); // Instance of Class (ho) is an Object via \"new HelloObject()\"\n",
    "        System.out.println(ho.getHello()); // Object allows reference to public methods and data\n",
    "    }\n",
    "}\n",
    "// IJava activation\n",
    "HelloObject.main(null);"
   ]
  },
  {
   "attachments": {},
   "cell_type": "markdown",
   "metadata": {},
   "source": [
    "### Dynamic Example with two constructors\n",
    "This last example adds to the basics of the Java anatomy.  The Class now contains two constructors and a setter to go with the getter.  Also, observe the driver/tester now contains two objects that are initialized differently, 0 and 1 argument constructor.  Look at the usage of the \"this\" prefix.  The \"this\" keyword helps in clarification between instance and local variable.\n",
    "\n",
    "The key terms in HelloDynamic introduction:\n",
    "- \"0 argument constructor\" constructor method with no parameter ()\n",
    "- \"1 argument constructor\" construct method with a parameter (String hello)\n",
    "- \"this keyword\" allows you to clear reference something that is part of the object, data or method\n",
    "- \"local variable\" is a variable that is passed to the method in this example, see the 1 argument constructor as it has a local variable \"String hello\"\n",
    "- \"dynamic\" versus \"static\" is something that has option to change, static never changes.  A class (blueprint) and objects (instance of blueprint) are generally intended to be dynamic.  Constructors and Setters are used to dynamically change the content of an object.\n",
    "- \"Java OOP, Java Classes/Objects, Java Class Attributes, Java Class Methods, Java Constructors\" are explained if more complete detail in W3 Schools: https://www.w3schools.com/java/java_oop.asp"
   ]
  },
  {
   "cell_type": "code",
   "execution_count": 10,
   "metadata": {
    "vscode": {
     "languageId": "java"
    }
   },
   "outputs": [
    {
     "name": "stdout",
     "output_type": "stream",
     "text": [
      "Hello, World!\n",
      "Hello, Nighthawk Coding Society!\n"
     ]
    }
   ],
   "source": [
    "// Define Class\n",
    "public class HelloDynamic { // name the first letter of class as capitalized, note camel case\n",
    "    // instance variable have access modifier (private is most common), data type, and name\n",
    "    private String hello;\n",
    "    // constructor signature 1, public and zero arguments, constructors do not have return type\n",
    "    public HelloDynamic() {  // 0 argument constructor\n",
    "        this.setHello(\"Hello, World!\");  // using setter with static string\n",
    "    }\n",
    "    // constructor signature, public and one argument\n",
    "    public HelloDynamic(String hello) { // 1 argument constructor\n",
    "        this.setHello(hello);   // using setter with local variable passed into constructor\n",
    "    }\n",
    "    // setter/mutator, setter have void return type and a parameter\n",
    "    public void setHello(String hello) { // setter\n",
    "        this.hello = hello;     // instance variable on the left, local variable on the right\n",
    "    }\n",
    "    // getter/accessor, getter used to return private instance variable (encapsulated), return type is String\n",
    "    public String getHello() {  // getter\n",
    "        return this.hello;\n",
    "    }\n",
    "    // public static void main(String[] args) is signature for main/drivers/tester method\n",
    "    // a driver/tester method is singular or called a class method, it is never part of an object\n",
    "    public static void main(String[] args) {  \n",
    "        HelloDynamic hd1 = new HelloDynamic(); // no argument constructor\n",
    "        HelloDynamic hd2 = new HelloDynamic(\"Hello, Nighthawk Coding Society!\"); // one argument constructor\n",
    "        System.out.println(hd1.getHello()); // accessing getter\n",
    "        System.out.println(hd2.getHello()); \n",
    "    }\n",
    "}\n",
    "// IJava activation\n",
    "HelloDynamic.main(null);"
   ]
  },
  {
   "attachments": {},
   "cell_type": "markdown",
   "metadata": {},
   "source": [
    "## Hacks\n",
    "\n",
    "I address all of the listed hacks in the code below. I decided to make a program that resembles the one I did to introduce myself to Python, being a survey.\n",
    "\n",
    "- Explain Anatomy of a Class in comments of a program (Diagram key parts of the class).\n",
    "- Comment in code where there is a definition of a Class and an instance of a Class (ie object)\n",
    "- Comment in code where there are constructors and highlight the signature difference in the signature\n",
    "- Call an object method with parameter (ie setters).\n",
    "\n",
    "Additional requirements (Pick something)\n",
    "1. Go through code progression of understanding Class usage and generating an Instance of a Class (Object). \n",
    "    a. Build a purposeful dynamic Class, using an Object, generate multiple instances: \n",
    "        - Person: Name and Age\n",
    "        - Dessert: Type and Cost\n",
    "        - Location: City, State, Zip\n",
    "    b. Create a static void main tester method to generate objects of the class.\n",
    "    c. In tester method, show how setters/mutators can be used to make the data in the Object dynamically change\n",
    "3. Go through progression of understanding a Static Class.  Build a purposeful static Class, no Objects.\n",
    "    - Calculate common operations on a Date field, age since date, older of two dates, number of seconds since date\n",
    "    - Calculate stats functions on an array of values: mean, median, mode."
   ]
  },
  {
   "cell_type": "code",
   "execution_count": 19,
   "metadata": {
    "vscode": {
     "languageId": "java"
    }
   },
   "outputs": [
    {
     "name": "stdout",
     "output_type": "stream",
     "text": [
      "Welcome to the Rich People Luxury Paradise database!\n",
      "There are already three people signed up for attendance this year.\n",
      "This list is now set in stone. (Unless...)\n",
      "\t1. See the list\n",
      "\t2. HACK THE DATABASE (CHOOSE THIS ONE)\n",
      "\t3. Hear a short description of Rich People Luxury Paradise\n",
      "\t4. Exit\n",
      "\n",
      "The Rich People Luxury Paradise is a luxury resort that can only be attended by three (incredibly) rich people per year.\n",
      "Once the payment has been processed, the rich person is added to the database. This includes first name, age and favorite dessert.\n",
      "The only way for this to change would be for someone to input someone else's information into the database by hacking...but that'll never happen!\n",
      "\n",
      "\t1. See the list\n",
      "\t2. HACK THE DATABASE (CHOOSE THIS ONE)\n",
      "\t3. Hear a short description of Rich People Luxury Paradise\n",
      "\t4. Exit\n",
      "\n",
      "Which user would you like to hack? (Enter their attendee number as an integer.)\n",
      "\tAttendee 1: John\n",
      "\tAttendee 2: Timothee\n",
      "\tAttendee 3: Lebron\n",
      "What would you like to do with this user?\n",
      "\t1. Change Name\n",
      "\t2. Change Age\n",
      "\t3. Change Favorite Desert\n",
      "\t4. Replace User\n",
      "What would you like the new name to be?\n",
      "What would you like the new age to be? (Input an integer, please.)\n",
      "What would you like the new favorite dessert to be?\n",
      "Excellent work, hacker. A new person can now attend the Rich People Luxury Paradise.\n",
      "\t1. See the list\n",
      "\t2. HACK THE DATABASE (CHOOSE THIS ONE)\n",
      "\t3. Hear a short description of Rich People Luxury Paradise\n",
      "\t4. Exit\n",
      "\n",
      "Attendee 1:\n",
      "\tName: John\n",
      "\tAge: 30\n",
      "\tFavorite Dessert: Ice Cream\n",
      "Attendee 2:\n",
      "\tName: Timothee\n",
      "\tAge: 25\n",
      "\tFavorite Dessert: Chocolate\n",
      "Attendee 3:\n",
      "\tName: Drew\n",
      "\tAge: 17\n",
      "\tFavorite Dessert: Donuts\n",
      "\n",
      "\t1. See the list\n",
      "\t2. HACK THE DATABASE (CHOOSE THIS ONE)\n",
      "\t3. Hear a short description of Rich People Luxury Paradise\n",
      "\t4. Exit\n",
      "\n",
      "Thank you for using the Rich People Luxury Paradise database!\n"
     ]
    }
   ],
   "source": [
    "// person Class\n",
    "public class Person {\n",
    "    // creating private object variables\n",
    "    private String name;\n",
    "    private int age;\n",
    "    private String koubutsu;\n",
    "    // private Object location;\n",
    "    // THIS IS THE CONSTRUCTOR\n",
    "    public Person(String name, int age, String koubutsu) {\n",
    "        this.name = name;\n",
    "        this.age = age;\n",
    "        this.koubutsu = koubutsu;\n",
    "    }\n",
    "    // SETTERS AND GETTERS\n",
    "    public String getName() {\n",
    "        return name;\n",
    "    }\n",
    "    public void setName(String name) {\n",
    "        this.name = name;\n",
    "    }\n",
    "    public int getAge() {\n",
    "        return age;\n",
    "    }\n",
    "    public void setAge(int age) {\n",
    "        this.age = age;\n",
    "    }\n",
    "    public String getKoubutsu() {\n",
    "        return koubutsu;\n",
    "    }\n",
    "    public void setKoubutsu(String koubutsu) {\n",
    "        this.koubutsu = koubutsu;\n",
    "    }\n",
    "    public static Person[] makePeople() {\n",
    "        // create a new people in an array\n",
    "        Person[] people = new Person[3];\n",
    "        people[0] = new Person(\"John\", 30, \"Ice Cream\");\n",
    "        people[1] = new Person(\"Timothee\", 25, \"Chocolate\");\n",
    "        people[2] = new Person(\"Lebron\", 38, \"Crème brûlée\");\n",
    "        // return the people array\n",
    "        return people;\n",
    "    }\n",
    "    // main method\n",
    "    public static void main(String[] args) {\n",
    "        // creating the people database\n",
    "        Person[] database = makePeople();\n",
    "        // making the system active baby woooooooo\n",
    "        boolean active = true;\n",
    "        // introduction text\n",
    "        System.out.println(\"Welcome to the Rich People Luxury Paradise database!\\nThere are already three people signed up for attendance this year.\\nThis list is now set in stone. (Unless...)\");\n",
    "        // to be repeated while active\n",
    "        while (active) {\n",
    "            Scanner input = new Scanner(System.in);  // create a Scanner object\n",
    "            System.out.println(\"\\t1. See the list\\n\\t2. HACK THE DATABASE (CHOOSE THIS ONE)\\n\\t3. Hear a short description of Rich People Luxury Paradise\\n\\t4. Exit\");\n",
    "            String selection = input.nextLine();  // read user input\n",
    "            if (\"1\".equals(selection)) {\n",
    "                System.out.println(\"\");\n",
    "                for (int i = 0; i < database.length; i++) {\n",
    "                    System.out.println(\"Attendee \" + Integer.toString(i + 1) + \":\");\n",
    "                    System.out.println(\"\\tName: \" + database[i].getName());\n",
    "                    System.out.println(\"\\tAge: \" + database[i].getAge());\n",
    "                    System.out.println(\"\\tFavorite Dessert: \" + database[i].getKoubutsu());\n",
    "                }\n",
    "                System.out.println(\"\");\n",
    "            } else if (\"2\".equals(selection)) {\n",
    "                System.out.println(\"\\nWhich user would you like to hack? (Enter their attendee number as an integer.)\");\n",
    "                for (int i = 0; i < database.length; i++) {\n",
    "                    System.out.println(\"\\tAttendee \" + Integer.toString(i + 1) + \": \" + database[i].getName());\n",
    "                }\n",
    "                String hackee = input.nextLine(); // read user input again\n",
    "                int dataIndex = Integer.parseInt(hackee) - 1; // turn the string into an integer\n",
    "                Person selectedPerson = database[dataIndex];\n",
    "                // options setup\n",
    "                System.out.println(\"What would you like to do with this user?\\n\\t1. Change Name\\n\\t2. Change Age\\n\\t3. Change Favorite Desert\\n\\t4. Replace User\");\n",
    "                String hackSelection = input.nextLine(); // hack selection from input line\n",
    "                if (\"1\".equals(hackSelection)) {\n",
    "                    System.out.println(\"What would you like the new name to be?\");\n",
    "                    String nameSelection = input.nextLine();\n",
    "                    selectedPerson.setName(nameSelection); // USING SETNAME\n",
    "                    System.out.println(\"Excellent choice, hacker. This person's name is now \" + nameSelection + \".\");\n",
    "                } else if (\"2\".equals(hackSelection)) {\n",
    "                    System.out.println(\"What would you like the new age to be? (Input an integer, please.)\");\n",
    "                    String ageSelection = input.nextLine();\n",
    "                    int newAge = Integer.parseInt(ageSelection);\n",
    "                    selectedPerson.setAge(newAge); // USING SETAGE\n",
    "                    System.out.println(\"Excellent choice, hacker. This person's age is now \" + ageSelection + \".\");\n",
    "                } else if (\"3\".equals(hackSelection)) {\n",
    "                    System.out.println(\"What would you like the new favorite dessert to be?\");\n",
    "                    String koubutsuSelection = input.nextLine();\n",
    "                    selectedPerson.setKoubutsu(koubutsuSelection); // USING SETKOUBUTSU\n",
    "                    System.out.println(\"Excellent choice, hacker. This person's favorite dessert is now \" + koubutsuSelection + \".\");\n",
    "                } else if (\"4\".equals(hackSelection)) {\n",
    "                    // combination of all other selections\n",
    "                    System.out.println(\"What would you like the new name to be?\");\n",
    "                    String nameSelection = input.nextLine();\n",
    "                    selectedPerson.setName(nameSelection); // USING SETNAME\n",
    "                    System.out.println(\"What would you like the new age to be? (Input an integer, please.)\");\n",
    "                    String ageSelection = input.nextLine();\n",
    "                    int newAge = Integer.parseInt(ageSelection);\n",
    "                    selectedPerson.setAge(newAge); // USING SETAGE\n",
    "                    System.out.println(\"What would you like the new favorite dessert to be?\");\n",
    "                    String koubutsuSelection = input.nextLine();\n",
    "                    selectedPerson.setKoubutsu(koubutsuSelection); // USING SETKOUBUTSU\n",
    "                    System.out.println(\"Excellent work, hacker. A new person can now attend the Rich People Luxury Paradise.\");\n",
    "                } else {\n",
    "                    System.out.println(\"Invalid input. The system has crashed. Great, NOW look what you've done...\\nERROR CODE 80085: IDIOT USING DATABASE\");\n",
    "                    input.close();\n",
    "                    return;\n",
    "                }\n",
    "            } else if (\"3\".equals(selection)) {\n",
    "                //describe the paradise yo\n",
    "                System.out.println(\"\\nThe Rich People Luxury Paradise is a luxury resort that can only be attended by three (incredibly) rich people per year.\");\n",
    "                System.out.println(\"Once the payment has been processed, the rich person is added to the database. This includes first name, age and favorite dessert.\");\n",
    "                System.out.println(\"The only way for this to change would be for someone to input someone else's information into the database by hacking...but that'll never happen!\\n\");\n",
    "            } else if (\"4\".equals(selection)) {\n",
    "                System.out.println(\"\\nThank you for using the Rich People Luxury Paradise database!\");\n",
    "                input.close();\n",
    "                return;\n",
    "            } else {\n",
    "                System.out.println(\"Invalid input. The system has crashed. Great, NOW look what you've done...\\n\\u001B[31mERROR CODE 80085: IDIOT USING DATABASE\");\n",
    "                input.close();\n",
    "                return;\n",
    "            }\n",
    "        }\n",
    "    }\n",
    "}\n",
    "\n",
    "Person.main(null)"
   ]
  }
 ],
 "metadata": {
  "kernelspec": {
   "display_name": "Java",
   "language": "java",
   "name": "java"
  },
  "language_info": {
   "codemirror_mode": "java",
   "file_extension": ".jshell",
   "mimetype": "text/x-java-source",
   "name": "Java",
   "pygments_lexer": "java",
   "version": "11.0.20.1+0"
  },
  "orig_nbformat": 4
 },
 "nbformat": 4,
 "nbformat_minor": 2
}
