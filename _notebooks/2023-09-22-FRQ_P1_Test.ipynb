{
 "cells": [
  {
   "cell_type": "markdown",
   "metadata": {},
   "source": [
    "---\n",
    "toc: true\n",
    "comments: true\n",
    "layout: post\n",
    "title: FRQ Test (Period 1) \n",
    "description: Sudden FRQ test? How fun.\n",
    "courses: { csa: {week: 5} }\n",
    "---"
   ]
  },
  {
   "cell_type": "markdown",
   "metadata": {},
   "source": [
    "## Initialize a Numerical Keypad\n",
    "\n",
    "We wrote a Java method called `initializedKeypad` that initializes a 2D array to represent a numerical keypad."
   ]
  },
  {
   "cell_type": "code",
   "execution_count": 35,
   "metadata": {
    "vscode": {
     "languageId": "java"
    }
   },
   "outputs": [
    {
     "name": "stdout",
     "output_type": "stream",
     "text": [
      "1 2 3 \n",
      "4 5 6 \n",
      "7 8 9 \n",
      "  0 \n"
     ]
    }
   ],
   "source": [
    "class NumericalKeypad {\n",
    "    private static int[][] keypad = //had to be removed because of liquid error but it would normally be the keypad;\n",
    "    \n",
    "    public static void main(String args[]) {\n",
    "        for (int i = 0; i < 4; i++) {\n",
    "            for (int j = 0; j < 3; j++) {\n",
    "                if (keypad[i][j] >= 0) {\n",
    "                    System.out.print(keypad[i][j] + \" \");\n",
    "                } else {\n",
    "                    System.out.print(\"  \");\n",
    "                }\n",
    "                \n",
    "                if (keypad[i][j] == 0) {\n",
    "                    break;\n",
    "                }\n",
    "            }\n",
    "            System.out.println();\n",
    "        }\n",
    "    }\n",
    "}\n",
    "\n",
    "NumericalKeypad test = new NumericalKeypad();\n",
    "NumericalKeypad.main(null);"
   ]
  },
  {
   "cell_type": "markdown",
   "metadata": {},
   "source": [
    "## Reverse an Array"
   ]
  },
  {
   "cell_type": "code",
   "execution_count": 33,
   "metadata": {
    "vscode": {
     "languageId": "java"
    }
   },
   "outputs": [
    {
     "name": "stdout",
     "output_type": "stream",
     "text": [
      "10 9 8 7 6 5 4 3 2 1 1 2 3 4 5 6 7 8 9 10 "
     ]
    }
   ],
   "source": [
    "class ArrayReversal {\n",
    "    public static void reverseArray(int[] numberArray) {\n",
    "        for (int i = 0; i < 10; i++) {\n",
    "            System.out.print(numberArray[i] + \" \");\n",
    "        }\n",
    "        for (int i = 0; i < 10; i++) {\n",
    "            System.out.print(numberArray[9-i] + \" \");\n",
    "        }\n",
    "    }\n",
    "\n",
    "    public static void main(String[] args) {\n",
    "        int[] numbers = {10, 9, 8, 7, 6, 5, 4, 3, 2, 1};\n",
    "        reverseArray(numbers);\n",
    "    }\n",
    "}\n",
    "\n",
    "ArrayReversal.main(null);"
   ]
  },
  {
   "cell_type": "code",
   "execution_count": 25,
   "metadata": {
    "vscode": {
     "languageId": "java"
    }
   },
   "outputs": [
    {
     "name": "stdout",
     "output_type": "stream",
     "text": [
      "[2, 2, 4, 3, 2]\n",
      "[49, 29, 29, 90, 73, 38, 85, 86, 29, 47]\n",
      "[82352, 30836, 86627]\n"
     ]
    }
   ],
   "source": [
    "class RandomIntegers {\n",
    "    private static ArrayList<Integer> initializeRandomList(int n, int min, int max) {\n",
    "        ArrayList<Integer> randomList = new ArrayList<Integer>(); // initialize ArrayList\n",
    "        for (int i = 0; i < n; i++) {\n",
    "            int randomNumber = (int) (Math.random() * (max - min + 1)) + min;\n",
    "            randomList.add(randomNumber);\n",
    "        }\n",
    "        return randomList;\n",
    "    }\n",
    "\n",
    "    public static void main(String[] args) {\n",
    "        System.out.println(initializeRandomList(5, 1, 7));\n",
    "        System.out.println(initializeRandomList(10, 20, 100));\n",
    "        System.out.println(initializeRandomList(3, 3000, 100000));\n",
    "    }\n",
    "}\n",
    "\n",
    "RandomIntegers.main(null);"
   ]
  }
 ],
 "metadata": {
  "kernelspec": {
   "display_name": "Java",
   "language": "java",
   "name": "java"
  },
  "language_info": {
   "codemirror_mode": "java",
   "file_extension": ".jshell",
   "mimetype": "text/x-java-source",
   "name": "Java",
   "pygments_lexer": "java",
   "version": "11.0.20.1+0"
  },
  "orig_nbformat": 4
 },
 "nbformat": 4,
 "nbformat_minor": 2
}
