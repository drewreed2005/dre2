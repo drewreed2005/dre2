{
 "cells": [
  {
   "cell_type": "markdown",
   "metadata": {},
   "source": [
    "---\n",
    "layout: post\n",
    "title: U3 Booleans, If Statements and Binary Logic Hacks\n",
    "description: A collection of hacks for the two lessons.\n",
    "comments: true\n",
    "courses: { csa: {week: 8} }\n",
    "type: hacks\n",
    "---"
   ]
  },
  {
   "cell_type": "markdown",
   "metadata": {},
   "source": [
    "## Warm Up\n",
    "\n",
    "Answer the following questions as a group or individually. Write down your answers in your hacks notebook.\n",
    "\n",
    "- What is a boolean?\n",
    "\n",
    "<mark>A binary `true` or `false` value.</mark>\n",
    "\n",
    "- What values can a boolean represent? How many?\n",
    "\n",
    "<mark>It can represent `true` and `false`, so 2 values.</mark>\n",
    "\n",
    "- What is an example of when we'd use a boolean?\n",
    "\n",
    "<mark>If we wanted the application to know if a certain process has already occurred, a variable `processOccurred` could be set to `true`, which could affect a conditional statement later.</mark>\n",
    "\n",
    "### Setup Class"
   ]
  },
  {
   "cell_type": "code",
   "execution_count": 1,
   "metadata": {
    "vscode": {
     "languageId": "java"
    }
   },
   "outputs": [],
   "source": [
    "public class ComparisonExample implements Comparable<ComparisonExample> { // uses Comparable to implement comparisons\n",
    "    private int comp; // initializing variables\n",
    "    private int comp2;\n",
    "    // constructor for the comparisonExample class\n",
    "    public ComparisonExample(int _comp, int _comp2) {\n",
    "        this.comp = _comp;\n",
    "        this.comp2 = _comp2;\n",
    "    }\n",
    "    // using @Override to override the automatic compareTo method\n",
    "    @Override\n",
    "    public int compareTo(ComparisonExample s) {\n",
    "        // the comp attribute of both objects are compared\n",
    "        return Integer.compare(this.comp, s.comp);\n",
    "    }\n",
    "    // compare method\n",
    "    public static int compare(ComparisonExample a, ComparisonExample b)\n",
    "    {\n",
    "        if(Integer.compare(a.comp, b.comp)==0){ // starts by checking if the comps of the 2 objects are the same\n",
    "            return Integer.compare(a.comp2, b.comp2); // ends up checking the second comp if the first are the same\n",
    "        }\n",
    "        else {\n",
    "            return Integer.compare(a.comp, b.comp);\n",
    "        }\n",
    "    }\n",
    "}"
   ]
  },
  {
   "cell_type": "markdown",
   "metadata": {},
   "source": [
    "Describe this code and the code above using comments. Talk about how we define the `compareTo` in the class definition and how that compares each instance of a class using a certain comparison variables.\n",
    "\n",
    "<mark>See my code comments on both the above and below cells.</mark>\n",
    "\n",
    "**In your notes** Compare and contrast `Comparator<>` and `compareTo`\n",
    "\n",
    "`compareTo`:\n",
    "- It's a method inside a class.\n",
    "- Used to define a primary way of comparing objects.\n",
    "- Ideal for natural ordering and sorting.\n",
    "- Objects implement this method themselves.\n",
    "\n",
    "`Comparator`:\n",
    "- It's a separate class.\n",
    "- Used to define custom or multiple ways of comparing objects.\n",
    "- Ideal for flexible sorting.\n",
    "- External class defines comparison logic."
   ]
  },
  {
   "cell_type": "code",
   "execution_count": 2,
   "metadata": {
    "vscode": {
     "languageId": "java"
    }
   },
   "outputs": [
    {
     "name": "stdout",
     "output_type": "stream",
     "text": [
      "0\n",
      "-1\n",
      "This is less than!\n"
     ]
    }
   ],
   "source": [
    "ComparisonExample c = new ComparisonExample(2, 2); // different second comp values\n",
    "ComparisonExample v = new ComparisonExample(2, 3);\n",
    "System.out.println(c.compareTo(v)); // Allows comparison of these two instances of a class\n",
    "System.out.println(ComparisonExample.compare(c, v)); // Also allows for the instances\n",
    "\n",
    "if(ComparisonExample.compare(c, v) < 0){ // using the custom comparison method\n",
    "    System.out.println(\"This is less than!\"); // result because of the second comp value of c\n",
    "}\n",
    "else { System.out.println(\"it is not\"); }"
   ]
  },
  {
   "cell_type": "markdown",
   "metadata": {},
   "source": [
    "## Challenge!"
   ]
  },
  {
   "cell_type": "code",
   "execution_count": 3,
   "metadata": {
    "vscode": {
     "languageId": "java"
    }
   },
   "outputs": [
    {
     "name": "stdout",
     "output_type": "stream",
     "text": [
      "Guess my name!\n",
      "Your guess: John\n",
      "true\n"
     ]
    }
   ],
   "source": [
    "public class Challenge {\n",
    "\n",
    "    private static boolean isName = false;\n",
    "    private static String name = new String(\"John\");\n",
    "\n",
    "    public static void main(String [] args){\n",
    "\n",
    "        Scanner sc = new Scanner(System.in);\n",
    "\n",
    "        System.out.println(\"Guess my name!\");\n",
    "\n",
    "        String guess = sc.nextLine();\n",
    "        System.out.println(\"Your guess: \" + guess);\n",
    "    \n",
    "        if(guess.equals(name)){ // the problem was with the equality statement here\n",
    "            isName = true;\n",
    "        } else {\n",
    "            System.out.println(\"Wrong! L Cope\");\n",
    "        }\n",
    "\n",
    "        System.out.println(isName);\n",
    "\n",
    "    }\n",
    "}\n",
    "\n",
    "Challenge.main(null);"
   ]
  },
  {
   "cell_type": "markdown",
   "metadata": {},
   "source": [
    "<mark>I fixed it by changing the `==` equality statement to the `.equals` statement because these are not boolean conditions and thus they cannot be compared this way.</mark>\n",
    "\n",
    "# Your Homework\n",
    "\n",
    "Now that you know what boolean expressions are and how to write them, as well as several comparison methods, your task is to write a class that uses either the compareTo or comparator and compare. Then create two instances of these classes and demonstrate using if statements. \n",
    "\n",
    "BONUS: Create a program that checks if a year is a leap year or not.\n",
    "\n",
    "Here is how the method should work: \n",
    "\n",
    "(1) Prompt the user to input any year that they would like <br>\n",
    "(2) Determine if the year is a leap year or not <br>\n",
    "(3) Print the necessary dialogue (ex. [year] is/is not a leap year) AND return the value of any boolean(s) used\n",
    "\n",
    "<mark>I created a class to compare the information of a real celebrity and the information of someone who is suspected to be going undercover as that same celebrity. If their birth years, countries of residence and blood type are the same, they are considered likely matches.</mark>\n",
    "\n",
    "<mark>To incorporate the leap year checker, I added a checker for if the birthday of either of the two people being compared is a leap year.</mark>"
   ]
  },
  {
   "cell_type": "code",
   "execution_count": 5,
   "metadata": {
    "vscode": {
     "languageId": "java"
    }
   },
   "outputs": [
    {
     "name": "stdout",
     "output_type": "stream",
     "text": [
      "What is the name of this suspected celebrity (suspected Keanu Reeves)?\n",
      "In what country does the suspect live?\n",
      "What is the blood type of this suspected celebrity?\n",
      "What is this person's birth year?\n",
      "\n",
      "Keanu Reeves and Frankie Roosevelt might be the same person!\n",
      "1964 is a leap year.\n"
     ]
    }
   ],
   "source": [
    "public class UndercoverSuspect {\n",
    "    private int birthYear;\n",
    "    private String countryOfResidence;\n",
    "    private String bloodType;\n",
    "    private String name;\n",
    "\n",
    "    // constructor\n",
    "    public UndercoverSuspect(int birthYear, String countryOfResidence, String bloodType, String name) {\n",
    "        this.birthYear = birthYear;\n",
    "        this.countryOfResidence = countryOfResidence;\n",
    "        this.bloodType = bloodType;\n",
    "        this.name = name;\n",
    "    }\n",
    "\n",
    "    // compareTo function\n",
    "    public boolean compareTo(UndercoverSuspect other) {\n",
    "        // important variables\n",
    "        int yearComparison = Integer.compare(this.birthYear, other.birthYear);\n",
    "        boolean countryComparison = this.countryOfResidence.equals(other.countryOfResidence);\n",
    "        boolean bloodTypeComparison = this.bloodType.equals(other.bloodType);\n",
    "\n",
    "        // using boolean logic\n",
    "        if ((yearComparison == 0) && countryComparison && bloodTypeComparison) {\n",
    "            return true;\n",
    "        } else {return false;}\n",
    "    }\n",
    "\n",
    "    // bonus leap year function\n",
    "    public boolean isLeapYear() {\n",
    "        return (birthYear % 4 == 0 && birthYear % 100 != 0) || (birthYear % 400 == 0);\n",
    "    }\n",
    "\n",
    "    // main demonstration\n",
    "    public static void main(String[] args) {\n",
    "        Scanner scanner = new Scanner(System.in);\n",
    "\n",
    "        // receiving suspect's info\n",
    "        System.out.println(\"What is the name of this suspected celebrity (suspected Keanu Reeves)?\");\n",
    "        String suspectName = scanner.nextLine();\n",
    "        System.out.println(\"In what country does the suspect live?\");\n",
    "        String suspectLocation = scanner.nextLine();\n",
    "        System.out.println(\"What is the blood type of this suspected celebrity?\");\n",
    "        String suspectBloodType = scanner.nextLine();\n",
    "        System.out.println(\"What is this person's birth year?\\n\");\n",
    "        int suspectBirthYear = scanner.nextInt();\n",
    "\n",
    "        // examples\n",
    "        UndercoverSuspect celebrity = new UndercoverSuspect(1964, \"USA\", \"A+\", \"Keanu Reeves\");\n",
    "        UndercoverSuspect suspect = new UndercoverSuspect(suspectBirthYear, suspectLocation, suspectBloodType, suspectName);\n",
    "        boolean comparisonResult = celebrity.compareTo(suspect);\n",
    "\n",
    "        if (comparisonResult) {\n",
    "            System.out.println(celebrity.name + \" and \" + suspect.name + \" might be the same person!\");\n",
    "        } else {\n",
    "            System.out.println(celebrity.name + \" and \" + suspect.name + \" are probably different people.\");\n",
    "        }\n",
    "\n",
    "        if (suspect.isLeapYear()) {\n",
    "            System.out.println(suspect.birthYear + \" is a leap year.\");\n",
    "        } else {\n",
    "            System.out.println(suspect.birthYear + \" is not a leap year.\");\n",
    "        }\n",
    "\n",
    "        scanner.close();\n",
    "    }\n",
    "}\n",
    "\n",
    "UndercoverSuspect.main(null);"
   ]
  },
  {
   "cell_type": "markdown",
   "metadata": {},
   "source": [
    "# Binary Logic Hacks\n",
    "\n",
    "### NOT\n",
    "\n",
    "The **NOT** operator inverses whatever it is affecting. \n",
    "\n",
    "The most basic operation is one that does\n",
    "\n",
    "**Question: What NOT(true)**\n",
    "\n",
    "<mark>`false`</mark>\n",
    "\n",
    "### Inhibition\n",
    "\n",
    "**Question: What would 1(0) be? What about (1)(0)'? What about true&&false?**\n",
    "\n",
    "<mark>(1)(0) is 0.</mark>\n",
    "<mark>(1)(0)'</mark>\n",
    "\n",
    "### Nor\n",
    "\n",
    "**Question: What would 1+0 be? What about !(true||false)**\n",
    "\n",
    "<mark>`1 + 0` is `1`.</mark>\n",
    "<mark>`!(true || false)` is `false`.</mark>\n",
    "\n",
    "### XNOR\n",
    "\n",
    "**Question: what would true^false be? what would !(false^false) be?**\n",
    "\n",
    "<mark>`true^false` is `true`.</mark>\n",
    "<mark>A `!(false^false)` is `true`.</mark>\n",
    "\n",
    "## Hacks \n",
    "\n",
    "Complete the weird questions below.\n",
    "\n",
    "### Weird questions\n",
    "\n",
    "1. !(true)&&(false) = ? what in boolean values?\n",
    "\n",
    "!(true) -> false\n",
    "false && false -> false\n",
    "\n",
    "<mark>`false`</mark>\n",
    "\n",
    "2. not ((((true and not (false)) ^ false) ^ true) && false) (remember PEMDASNAO!)\n",
    "\n",
    "(true and not (false)) -> true and true -> true\n",
    "true ^ false -> true\n",
    "true ^ true -> false\n",
    "false && false -> false\n",
    "not (false) -> true\n",
    "\n",
    "<mark>`true`</mark>\n",
    "\n",
    "3. Prove the following: !A * !(B + !C) = !A * (!B * !C)\n",
    "\n",
    "<mark>If you apply De Morgan's Law:\n",
    "\n",
    "!(B + !C) = (!B * C)\n",
    "\n",
    "So !A  * !(B + !C) = !A * (!B * C).\n",
    "\n",
    "I think that last C in the right hand side is supposed to be `C` and not `!C` but I'm not sure. If it stays at `!C`, it cannot be proven.</mark>\n",
    "\n",
    "4. 420 && 66 (Hint, convert to binary, then perform the operation)\n",
    "   a. If you got this one, try 89 OR 42\n",
    "\n",
    "<mark>Here's 420 && 66.</mark>\n",
    "\n",
    "```\n",
    "420: 110100100\n",
    "66:  001000010\n",
    "\n",
    "---OUTPUT---\n",
    "     000000000 = 0\n",
    "```\n",
    "\n",
    "<mark>And here's 89 || 42.</mark>\n",
    "\n",
    "```\n",
    "89: 01011001\n",
    "42: 00101010\n",
    "\n",
    "---OUTPUT---\n",
    "    01111011 = 123\n",
    "```"
   ]
  }
 ],
 "metadata": {
  "kernelspec": {
   "display_name": "Java",
   "language": "java",
   "name": "java"
  },
  "language_info": {
   "codemirror_mode": "java",
   "file_extension": ".jshell",
   "mimetype": "text/x-java-source",
   "name": "Java",
   "pygments_lexer": "java",
   "version": "11.0.20.1+0"
  },
  "orig_nbformat": 4
 },
 "nbformat": 4,
 "nbformat_minor": 2
}
