{
 "cells": [
  {
   "cell_type": "markdown",
   "metadata": {},
   "source": [
    "---\n",
    "layout: post\n",
    "title: 9.2 and 9.3 Lesson Content\n",
    "description: Going over content for 9.2 (Writing Constructors for Subclasses) and 9.3 (Overriding Methods).\n",
    "courses: { csa: {week: 8} }\n",
    "type: hacks\n",
    "---"
   ]
  },
  {
   "cell_type": "markdown",
   "metadata": {},
   "source": [
    "## Learning Objectives\n",
    "\n",
    "### 9.2 and 9.3\n",
    "\n",
    "- Create the inheritence relationship between the subclass and the superclass.\n",
    "\n",
    "## Essential Knowledge\n",
    "\n",
    "### 9.2\n",
    "\n",
    "- Constructors are not inherited\n",
    "- When a subclass's constructor doesn't explicitly call a superclass's constructor using `super`, Java inserts a call to the superclass's no-argument constructor.\n",
    "- The actual parameters passed in the call to the superclass constructor provide values that the constructor can use to initialize the object's instance variables.\n",
    "- Regardless of whether the superclass constructor is called implicitly or explicitly, the process of calling superclass constructors continues until the Object constructor is called. At this point, all of the constructors within the hierarchy execute beginning with the Object constructor.\n",
    "\n",
    "### 9.3\n",
    "\n",
    "- Method overriding occurs when a public method in a subclass has the same method signature as a public method in the superclass.\n",
    "- Any method that is called must be defined within its own class or its superclass.\n",
    "- A subclass is usually designed to have modified (overwritten) or additional methods or instance variables.\n",
    "- A subclass will inherit all public methods from the superclass; these methods remain public in the subclass.\n",
    "\n",
    "## Lesson Content\n",
    "\n",
    "### 9.2 - Writing Constructors for Subclasses\n",
    "\n",
    "**Important note:** Constructors are NOT inherited by the subclass. See this in action below."
   ]
  },
  {
   "cell_type": "code",
   "execution_count": 14,
   "metadata": {
    "vscode": {
     "languageId": "java"
    }
   },
   "outputs": [
    {
     "name": "stdout",
     "output_type": "stream",
     "text": [
      "Year: 2000\n",
      "Manufacturer: Unknown\n",
      "Model: Altima\n"
     ]
    }
   ],
   "source": [
    "class Vehicle {\n",
    "    public int year;\n",
    "    public String manufacturer;\n",
    "\n",
    "    public Vehicle(int year, String manufacturer) { // constructor for parent class\n",
    "        this.year = year;\n",
    "        this.manufacturer = manufacturer;\n",
    "    }\n",
    "\n",
    "    public Vehicle() {\n",
    "        this.year = 2000;\n",
    "        this.manufacturer = \"Unknown\";\n",
    "    }\n",
    "\n",
    "    // method to be used later\n",
    "    public void drive() {\n",
    "        System.out.println(\"The driver is driving the car.\");\n",
    "    }\n",
    "}\n",
    "\n",
    "class Car extends Vehicle {\n",
    "    public String model;\n",
    "\n",
    "    public Car(String model) {\n",
    "        this.model = model;\n",
    "    }\n",
    "}\n",
    "\n",
    "public class VehicleDemonstration {\n",
    "    public static void main(String[] args) {\n",
    "        Car myCar = new Car(\"Altima\");\n",
    "        System.out.println(\"Year: \" + myCar.year);\n",
    "        System.out.println(\"Manufacturer: \" + myCar.manufacturer);\n",
    "        System.out.println(\"Model: \" + myCar.model);\n",
    "    }\n",
    "}\n",
    "\n",
    "VehicleDemonstration.main(null);"
   ]
  },
  {
   "cell_type": "markdown",
   "metadata": {},
   "source": [
    "As you can see, the output uses the no-argument construction info from the base `Vehicle` constructor.\n",
    "\n",
    "The `super` keyword can be used to change parent constructor values."
   ]
  },
  {
   "cell_type": "code",
   "execution_count": 15,
   "metadata": {
    "vscode": {
     "languageId": "java"
    }
   },
   "outputs": [
    {
     "name": "stdout",
     "output_type": "stream",
     "text": [
      "Year: 2016\n",
      "Manufacturer: Nissan\n",
      "Model: Altima\n"
     ]
    }
   ],
   "source": [
    "class NewCar extends Vehicle {\n",
    "    public String model;\n",
    "\n",
    "    public NewCar(int year, String manufacturer, String model) {\n",
    "        super(year, manufacturer); // see the use of super here\n",
    "        // what happens if you use no arguments with super()? see reminders below\n",
    "        this.model = model;\n",
    "    }\n",
    "}\n",
    "\n",
    "public class VehicleDemonstration2 {\n",
    "    public static void main(String[] args) {\n",
    "        NewCar myCar = new NewCar(2016, \"Nissan\", \"Altima\");\n",
    "        System.out.println(\"Year: \" + myCar.year);\n",
    "        System.out.println(\"Manufacturer: \" + myCar.manufacturer);\n",
    "        System.out.println(\"Model: \" + myCar.model);\n",
    "    }\n",
    "}\n",
    "\n",
    "VehicleDemonstration2.main(null);"
   ]
  },
  {
   "cell_type": "markdown",
   "metadata": {},
   "source": [
    "#### Key Reminders:\n",
    "\n",
    "1. If you do call `super()` in your constructor, it <mark>has to be the first line of the constructor</mark>.\n",
    "2. You cannot assign values to parent attributes/variables without using `super()`.\n",
    "3. If you call `super()` with no arguments, it will use the no-argument parent constructor. This also happens automatically if you don't include any `super()` call.\n",
    "\n",
    "### 9.3 - Overriding Methods\n",
    "\n",
    "There are three options for methods to be used by subclasses:\n",
    "\n",
    "1. Methods inherited from the parent class\n",
    "2. Unique methods written for the subclass\n",
    "3. Override parent methods to modify its implementation\n",
    "\n",
    "The first two should make sense. Let's see an example of overriding parent methods below."
   ]
  },
  {
   "cell_type": "code",
   "execution_count": 17,
   "metadata": {
    "vscode": {
     "languageId": "java"
    }
   },
   "outputs": [
    {
     "name": "stdout",
     "output_type": "stream",
     "text": [
      "This car is driving itself!\n"
     ]
    }
   ],
   "source": [
    "public class NuroCar extends Vehicle {\n",
    "    private String deliveryItem;\n",
    "\n",
    "    // unique constructor\n",
    "    public NuroCar(int year, String manufacturer, String deliveryItem) {\n",
    "        super(year, manufacturer); // see the use of super here\n",
    "        this.deliveryItem = deliveryItem;\n",
    "    }\n",
    "\n",
    "    // HERE is the override function\n",
    "    public void drive() {\n",
    "        System.out.println(\"This car is driving itself!\");\n",
    "    }\n",
    "}\n",
    "\n",
    "public class VehicleDemonstration3 {\n",
    "    public static void main(String[] args) {\n",
    "        NuroCar pizzaCar = new NuroCar(2023, \"Nuro\", \"Pizza\");\n",
    "        // here's the call to the overridden function\n",
    "        pizzaCar.drive();\n",
    "    }\n",
    "}\n",
    "\n",
    "VehicleDemonstration3.main(null);"
   ]
  }
 ],
 "metadata": {
  "kernelspec": {
   "display_name": "Java",
   "language": "java",
   "name": "java"
  },
  "language_info": {
   "codemirror_mode": "java",
   "file_extension": ".jshell",
   "mimetype": "text/x-java-source",
   "name": "Java",
   "pygments_lexer": "java",
   "version": "11.0.20.1+0"
  },
  "orig_nbformat": 4
 },
 "nbformat": 4,
 "nbformat_minor": 2
}
