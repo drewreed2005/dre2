{
 "cells": [
  {
   "cell_type": "markdown",
   "metadata": {},
   "source": [
    "---\n",
    "layout: post\n",
    "title: 9.2 and 9.3 Lesson Content\n",
    "description: Going over content for 9.2 (Writing Constructors for Subclasses) and 9.3 (Overriding Method).\n",
    "courses: { csa: {week: 8} }\n",
    "type: hacks\n",
    "---"
   ]
  },
  {
   "cell_type": "markdown",
   "metadata": {},
   "source": [
    "## Learning Objectives\n",
    "\n",
    "### 9.2\n",
    "\n",
    "- Create the inheritence relationship between the subclass and the superclass.\n",
    "\n",
    "### 9.3\n",
    "\n",
    "## Essential Knowledge\n",
    "\n",
    "### 9.2\n",
    "\n",
    "- Constructors are not inherited\n",
    "- When a subclass's constructor doesn't explicitly call a superclass's constructor using `super`, Java inserts a call to the superclass's no-argument constructor.\n",
    "\n",
    "### 9.3\n",
    "\n",
    "## Lesson Content\n",
    "\n",
    "### 9.2 - Writing Constructors for Subclasses\n",
    "\n",
    "**Important note:** Constructors are NOT inherited by the subclass. See this in action below."
   ]
  },
  {
   "cell_type": "code",
   "execution_count": null,
   "metadata": {},
   "outputs": [],
   "source": [
    "public class "
   ]
  }
 ],
 "metadata": {
  "kernelspec": {
   "display_name": "Java",
   "language": "java",
   "name": "java"
  },
  "language_info": {
   "name": "java"
  },
  "orig_nbformat": 4
 },
 "nbformat": 4,
 "nbformat_minor": 2
}
