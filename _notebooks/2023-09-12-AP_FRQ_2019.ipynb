{
 "cells": [
  {
   "cell_type": "markdown",
   "metadata": {},
   "source": [
    "---\n",
    "layout: post\n",
    "title: AP FRQ Mini-Lab Project Q1\n",
    "description: Answering Q1 (Methods and Control Structures) from the 2019 College Board FRQ.\n",
    "courses: { csa: {week: 4} }\n",
    "type: hacks\n",
    "---"
   ]
  },
  {
   "cell_type": "markdown",
   "metadata": {},
   "source": [
    "## Question 1 (Methods and Control Structures)\n",
    "\n",
    "The `APCalendar` class contains methods used to calculate information about a calendar. You will write two\n",
    "methods of the class."
   ]
  },
  {
   "cell_type": "code",
   "execution_count": null,
   "metadata": {
    "vscode": {
     "languageId": "java"
    }
   },
   "outputs": [],
   "source": [
    "public class APCalendar\n",
    "{\n",
    "    /** Returns true if year is a leap year and false otherwise. */\n",
    "    private static boolean isLeapYear(int year)\n",
    "    { /* implementation not shown */ }\n",
    "    /** Returns the number of leap years between year1 and year2, inclusive.\n",
    "     * Precondition: 0 <= year1 <= year2\n",
    "     */\n",
    "    public static int numberOfLeapYears(int year1, int year2)\n",
    "    { /* to be implemented in part (a) */ }\n",
    "    /** Returns the value representing the day of the week for the first day of year,\n",
    "     * where 0 denotes Sunday, 1 denotes Monday, ..., and 6 denotes Saturday.\n",
    "     */\n",
    "    private static int firstDayOfYear(int year)\n",
    "    { /* implementation not shown */ }\n",
    "    /** Returns n, where month, day, and year specify the nth day of the year.\n",
    "     * Returns 1 for January 1 (month = 1, day = 1) of any year.\n",
    "     * Precondition: The date represented by month, day, year is a valid date.\n",
    "     */\n",
    "    private static int dayOfYear(int month, int day, int year)\n",
    "    { /* implementation not shown */ }\n",
    "    /** Returns the value representing the day of the week for the given date\n",
    "     * (month, day, year), where 0 denotes Sunday, 1 denotes Monday, ...,\n",
    "     * and 6 denotes Saturday.\n",
    "     * Precondition: The date represented by month, day, year is a valid date.\n",
    "     */\n",
    "    public static int dayOfWeek(int month, int day, int year)\n",
    "    { /* to be implemented in part (b) */ }\n",
    "    // There may be instance variables, constructors, and other methods not shown.\n",
    "}"
   ]
  },
  {
   "cell_type": "markdown",
   "metadata": {},
   "source": [
    "### Part (a)\n",
    "\n",
    "Write the static method `numberOfLeapYears`, which returns the number of leap years between\n",
    "`year1` and `year2`, inclusive.\n",
    "\n",
    "In order to calculate this value, a helper method is provided for you.\n",
    "\n",
    "- `isLeapYear(year)` returns `true` if `year` is a leap year and `false` otherwise.\n",
    "\n",
    "Complete method `numberOfLeapYears` below. You must use `isLeapYear` appropriately to\n",
    "receive full credit.\n",
    "\n",
    "#### Answer"
   ]
  },
  {
   "cell_type": "code",
   "execution_count": null,
   "metadata": {
    "vscode": {
     "languageId": "java"
    }
   },
   "outputs": [],
   "source": [
    "/** Returns the number of leap years between year1 and year2, inclusive.\n",
    "* Precondition: 0 <= year1 <= year2 */\n",
    "public static int numberOfLeapYears(int year1, int year2) {\n",
    "    int currentYears = 0; // initializing integer leap year count variable\n",
    "    for (int year = year1; year <= year2; year++) { // looping through years within range\n",
    "        if (isLeapYear(year)) currentYears++; // incrementing currentYears per leap year\n",
    "    }\n",
    "    return currentYears;\n",
    "}"
   ]
  },
  {
   "cell_type": "markdown",
   "metadata": {},
   "source": [
    "See the code comments for explanations of each step of the process.\n",
    "\n",
    "### Part (b)\n",
    "\n",
    "Write the static method `dayOfWeek`, which returns the integer value representing the day of the week for the given date (`month`, `day`, `year`), where `0` denotes Sunday, `1` denotes Monday, ..., and `6` denotes Saturday. For example, 2019 began on a Tuesday, and January 5 is the fifth day of 2019. As a result, January 5, 2019, fell on a Saturday, and the method call `dayOfWeek(1, 5, 2019)` returns `6`.\n",
    "\n",
    "As another example, January 10 is the tenth day of 2019. As a result, January 10, 2019, fell on a Thursday,\n",
    "and the method call `dayOfWeek(1, 10, 2019)` returns `4`.\n",
    "\n",
    "In order to calculate this value, two helper methods are provided for you.\n",
    "\n",
    "- `firstDayOfYear(year)` returns the integer value representing the day of the week for the first day of year, where `0` denotes Sunday, 1 denotes Monday, ..., and 6 denotes Saturday. For example, since 2019 began on a Tuesday, `firstDayOfYear(2019)` returns 2.\n",
    "- `dayOfYear(month, day, year)` returns `n`, where month, day, and year specify the <i>n</i>th day of the year. For the first day of the year, January 1 (`month = 1`, `day = 1`), the value `1` is returned. This method accounts for whether year is a leap year. For example, `dayOfYear(3, 1, 2017)` returns `60`, since 2017 is not a leap year, while `dayOfYear(3, 1, 2016)` returns 61, since 2016 is a leap year.\n",
    "\n",
    "#### Answer"
   ]
  },
  {
   "cell_type": "code",
   "execution_count": null,
   "metadata": {
    "vscode": {
     "languageId": "java"
    }
   },
   "outputs": [],
   "source": [
    "/** Returns the value representing the day of the week for the given date\n",
    "* (month, day, year), where 0 denotes Sunday, 1 denotes Monday, ...,\n",
    "* and 6 denotes Saturday.\n",
    "* Precondition: The date represented by month, day, year is a valid date.\n",
    "*/\n",
    "public static int dayOfWeek(int month, int day, int year) {\n",
    "    return (firstDayOfYear(year) + dayOfYear(month, day, year) - 1) % 7;\n",
    "}"
   ]
  },
  {
   "cell_type": "markdown",
   "metadata": {},
   "source": [
    "#### Explanation\n",
    "\n",
    "Despite being all one line, this statement has quite a bit of complexity.\n",
    "\n",
    "I figured out that the most efficient way to determine the current day of the week is to use modulo division, combining the day of the week of the first day of the year and the day that's being tested.\n",
    "\n",
    "If you were to modulo divide the day of the week of the first day of the year by 7, you would get the same corresponding day of the year. However, if you were to add the <i>n</i>th day of the year to that number, the number corresponding to the day of the week would be offset forward by one day. If the first day of the year is a Sunday, the operation would be to add 1, <i>n</i> in this case, to the day of the week, 0, and the system would think the first day of the week was 1, or Monday. This is a day forward, so I corrected for this by subtracting 1.\n",
    "\n",
    "### Finished Code\n",
    "\n",
    "I finished the class's code below."
   ]
  },
  {
   "cell_type": "code",
   "execution_count": 3,
   "metadata": {
    "vscode": {
     "languageId": "java"
    }
   },
   "outputs": [
    {
     "name": "stdout",
     "output_type": "stream",
     "text": [
      "Test Date: Wednesday, September 20th, 2023\n",
      "\n",
      "Leap year: No\n",
      "Number of leap years since 1800: 54\n",
      "Day of the week of January 1st, 2023: Sunday\n",
      "Day of the year of September 20th, 2023: 263\n",
      "Day of the week of September 20th, 2023: 3\n"
     ]
    }
   ],
   "source": [
    "public class APCalendar\n",
    "{\n",
    "    /** Returns true if year is a leap year and false otherwise. */\n",
    "    private static boolean isLeapYear(int year)\n",
    "    {\n",
    "        return (year % 4 == 0 && year % 100 != 0) || (year % 400 == 0);\n",
    "    }\n",
    "    /** Returns the number of leap years between year1 and year2, inclusive.\n",
    "     * Precondition: 0 <= year1 <= year2\n",
    "     */\n",
    "    public static int numberOfLeapYears(int year1, int year2)\n",
    "    {\n",
    "        int currentYears = 0; // initializing integer leap year count variable\n",
    "        for (int year = year1; year <= year2; year++) { // looping through years within range\n",
    "            if (isLeapYear(year)) currentYears++; // incrementing currentYears per leap year\n",
    "        }\n",
    "        return currentYears;\n",
    "    }\n",
    "    /** Returns the value representing the day of the week for the first day of year,\n",
    "     * where 0 denotes Sunday, 1 denotes Monday, ..., and 6 denotes Saturday.\n",
    "     */\n",
    "    private static int firstDayOfYear(int year)\n",
    "    {\n",
    "        // references for year and day of the week on Y2K\n",
    "        int referenceYear = 2000;\n",
    "        int referenceDayOfWeek = 6; // saturday\n",
    "        int dayCount = 0;\n",
    "        for (int y = referenceYear; y < year; y++) {\n",
    "            dayCount += isLeapYear(y) ? 366 : 365; // calculating day count, each year since reference year\n",
    "        }\n",
    "        return (referenceDayOfWeek + dayCount) % 7; //calculating day of the week\n",
    "    }\n",
    "    /** Returns n, where month, day, and year specify the nth day of the year.\n",
    "     * Returns 1 for January 1 (month = 1, day = 1) of any year.\n",
    "     * Precondition: The date represented by month, day, year is a valid date.\n",
    "     */\n",
    "    private static int dayOfYear(int month, int day, int year)\n",
    "    {\n",
    "        int[] daysInMonth = {0, 31, 28, 31, 30, 31, 30, 31, 31, 30, 31, 30, 31}; // array of month length\n",
    "        if (isLeapYear(year)) {\n",
    "            daysInMonth[2] = 29; // check for leap year\n",
    "        }\n",
    "        int dayOfYear = 0;\n",
    "        for (int i = 1; i < month; i++) {\n",
    "            dayOfYear += daysInMonth[i];\n",
    "        }\n",
    "        dayOfYear += day; // add the remaining days in the current month\n",
    "        return dayOfYear;\n",
    "    }\n",
    "    /** Returns the value representing the day of the week for the given date\n",
    "     * (month, day, year), where 0 denotes Sunday, 1 denotes Monday, ...,\n",
    "     * and 6 denotes Saturday.\n",
    "     * Precondition: The date represented by month, day, year is a valid date.\n",
    "     */\n",
    "    public static int dayOfWeek(int month, int day, int year)\n",
    "    {\n",
    "        return (firstDayOfYear(year) + dayOfYear(month, day, year) - 1) % 7;\n",
    "    }\n",
    "    // There may be instance variables, constructors, and other methods not shown.\n",
    "\n",
    "    public static void main(String[] args) {\n",
    "        String[] daysOfTheWeek = {\"Sunday\", \"Monday\", \"Tuesday\", \"Wednesday\", \"Thursday\", \"Friday\", \"Saturday\"};\n",
    "        System.out.println(\"Test Date: Wednesday, September 20th, 2023\\n\");\n",
    "        // testing isLeapYear\n",
    "        System.out.println(\"Leap year: \" + (isLeapYear(2023) ? \"Yes\" : \"No\"));\n",
    "        // testing number of leap years\n",
    "        System.out.println(\"Number of leap years since 1800: \" + numberOfLeapYears(1800, 2023));\n",
    "        // testing first day of year; should be 0 for Sunday\n",
    "        System.out.println(\"Day of the week of January 1st, 2023: \" + daysOfTheWeek[firstDayOfYear(2023)]);\n",
    "        // testing day of year of test date\n",
    "        System.out.println(\"Day of the year of September 20th, 2023: \" + dayOfYear(9, 20, 2023));\n",
    "        // testing the day of the week of September 20th, 2023 (should be Wednesday)\n",
    "        System.out.println(\"Day of the week of September 20th, 2023: \" + dayOfWeek(9, 20, 2023));\n",
    "    }\n",
    "}\n",
    "\n",
    "APCalendar.main(null);"
   ]
  }
 ],
 "metadata": {
  "kernelspec": {
   "display_name": "Java",
   "language": "java",
   "name": "java"
  },
  "language_info": {
   "codemirror_mode": "java",
   "file_extension": ".jshell",
   "mimetype": "text/x-java-source",
   "name": "Java",
   "pygments_lexer": "java",
   "version": "11.0.20.1+0"
  },
  "orig_nbformat": 4
 },
 "nbformat": 4,
 "nbformat_minor": 2
}
