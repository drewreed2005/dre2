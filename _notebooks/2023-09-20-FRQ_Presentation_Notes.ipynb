{
 "cells": [
  {
   "cell_type": "markdown",
   "metadata": {},
   "source": [
    "---\n",
    "layout: post\n",
    "title: FRQ Mini-Lab Notes on Presentations\n",
    "description: Taking notes on the other groups' presentations during the mini-lab.\n",
    "courses: { csa: {week: 5} }\n",
    "type: hacks\n",
    "---"
   ]
  },
  {
   "cell_type": "markdown",
   "metadata": {},
   "source": [
    "## Group 1: DAD-DJ\n",
    "\n",
    "### David\n",
    "\n",
    "His project was related to Latin squares. He checked for duplicates when looping through his arrays and explains his code's functions well.\n",
    "\n",
    "### Alex\n",
    "\n",
    "His problem went over a full set of code covering a \"liteboard\". It incorporates randomization in turning on and off lights through iteration in arrays.\n",
    "\n",
    "He uses nested for loops to increment liteboard variables and had a clear final output that showed the functionality of his program.\n",
    "\n",
    "### Derrik\n",
    "\n",
    "Derrik goes over methods that count and interpret step count in a given day. He goes into great detail to explain how his methods function.\n",
    "\n",
    "### Me\n",
    "\n",
    "I went over my very easy question.\n",
    "\n",
    "### Jishnu\n",
    "\n",
    "Jishnu went over code that will check for unclosed HTML delimiters\n",
    "\n",
    "## Group 2: Code Monkeys\n",
    "\n",
    "### (Classes, 2022)\n",
    "\n",
    "He goes over creating a Book class with constructors. He extended it in a Textbook class and accurately used `@Override` to override the parent class's aspects.\n",
    "- This is useful from when \n",
    "\n",
    "He implements methods smoothly and adds extra methods to show understanding (price getting, etc.).\n",
    "\n",
    "He reflects on the subject matter of the question and shows understanding of `super` and other Object-based operations and methods. He shows clear understanding of his subject. He also shows strong understanding of `public` and `private` scope.\n",
    "\n",
    "Definitely deserving of 1.0.\n",
    "\n",
    "### (Methods and Control Structures, 2022)\n",
    "\n",
    "He shows understanding of using nested `if` statements that make certain condition checks exclusive to certain previous conditions are met.\n",
    "\n",
    "He created additional methods to demonstrate functionality with a custom `scoreDisplay` method and proof in the game's `main` class. The addition of these functions for checking shows some additional effort.\n",
    "\n",
    "### Haseeb (Array/ArrayList, 2022)\n",
    "\n",
    "He clarifies certain College Board rubric points beforehand that show consideration of the conditions before making code. He did not make the code work in runtime (slash slash slash).\n",
    "\n",
    "His question talked about a movie review site with 5-point review scale. He understood the assignment to average out the movie review scores. He goes into great detail about very basic concepts like Java for loops.\n",
    "\n",
    "He shows understanding of iterating through Arrays and manipulating/analyzing an array of data.\n",
    "\n",
    "### (, 2016)\n",
    "\n",
    "It looks like the young mister's code was not fully committed by the time of the presentation (slash slash slash). Had to be postponed.\n",
    "\n",
    "### Tirth (, 2022)\n",
    "\n",
    "Didn't go."
   ]
  }
 ],
 "metadata": {
  "kernelspec": {
   "display_name": "Java",
   "language": "java",
   "name": "java"
  },
  "language_info": {
   "name": "java"
  },
  "orig_nbformat": 4
 },
 "nbformat": 4,
 "nbformat_minor": 2
}
