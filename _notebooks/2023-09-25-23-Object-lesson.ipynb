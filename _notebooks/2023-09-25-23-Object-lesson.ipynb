{
 "cells": [
  {
   "cell_type": "markdown",
   "metadata": {},
   "source": [
    "---\n",
    "## Object Classes\n",
    "toc: true\n",
    "layout: post\n",
    "title: U2 Object Classes\n",
    "description: Notes from the U2 Object Classes lesson.\n",
    "courses: { csa: {week: 7} }\n",
    "type: hacks\n",
    "---"
   ]
  },
  {
   "cell_type": "markdown",
   "metadata": {},
   "source": [
    "### Java objects\n",
    "-  In Java, objects are essentially instances of classes. They represent real-world entities or concepts and contain both data and behaviors, facilitating organized and modular software design."
   ]
  },
  {
   "cell_type": "markdown",
   "metadata": {},
   "source": [
    "### Common Types of Java Classes\n",
    "In Java, classes are the fundamental building blocks of Object-Oriented Programming (OOP). They define the structure and behavior of objects, serving as templates or blueprints from which objects are created. Java programs typically consist of multiple classes, each designed to fulfill a specific role. One Java class that you should be familliar with is: \n",
    "\n",
    "\n",
    "1. Utility Classes: Utility classes contain static methods that provide common utility functions. These classes are not meant to be instantiated, and they often involve operations such as mathematical calculations, string manipulation, or date formatting. The Math class is an example of a utility class.\n",
    "    - Java Arrays Class\n",
    "    - Java HashMap Class\n",
    "    - Java LinkedList Class"
   ]
  },
  {
   "cell_type": "code",
   "execution_count": 11,
   "metadata": {
    "vscode": {
     "languageId": "java"
    }
   },
   "outputs": [
    {
     "name": "stdout",
     "output_type": "stream",
     "text": [
      "[1, 2, 5, 5, 6, 9]\n"
     ]
    }
   ],
   "source": [
    "import java.util.Arrays;\n",
    "\n",
    "public class ArraySortExample {\n",
    "    public static void main(String[] args) {\n",
    "        int[] numbers = {5, 2, 9, 1, 5, 6};\n",
    "        Arrays.sort(numbers);\n",
    "        System.out.println(Arrays.toString(numbers));\n",
    "    }\n",
    "}\n",
    "String[] words = {\"main\"};\n",
    "ArraySortExample.main(words);"
   ]
  },
  {
   "cell_type": "markdown",
   "metadata": {},
   "source": [
    "#### Java Objects\n",
    "An object in Java is a basic unit of Object-Oriented Programming and represents real-life entities. `Objects are the instances of a class that are created to use the attributes and methods of a class.`  A typical Java program creates many objects, which as you know, interact by invoking methods. An object consists of : \n",
    "\n",
    "1. State: It is represented by attributes of an object. It also reflects the properties of an object.\n",
    "2. Behavior: It is represented by the methods of an object. It also reflects the response of an object with other objects."
   ]
  },
  {
   "cell_type": "markdown",
   "metadata": {},
   "source": [
    "### Declaring Objects \n",
    "\n",
    "When an object of a class is created, the class is said to be instantiated. All the instances share the attributes and the behavior of the class. But the values of those attributes, i.e. the state are unique for each object. A single class may have any number of instances.\n",
    "\n",
    "As we declare variables like (type name;). This notifies the compiler that we will use the name to refer to data whose type is type. With a primitive variable, this declaration also reserves the proper amount of memory for the variable. So for reference variables , the type must be strictly a concrete class name. In general, we can’t create objects of an abstract class or an interface.\n",
    "\n",
    "### Initializing a Java Object \n",
    "The new operator instantiates a class by allocating memory for a new object and returning a reference to that memory. The new operator also invokes the class constructor. "
   ]
  },
  {
   "cell_type": "code",
   "execution_count": 8,
   "metadata": {
    "vscode": {
     "languageId": "java"
    }
   },
   "outputs": [
    {
     "name": "stdout",
     "output_type": "stream",
     "text": [
      "Bark\n",
      "Bark\n",
      "Bark\n",
      "Bark\n",
      "Bark\n"
     ]
    }
   ],
   "source": [
    "public class Dog {\n",
    "    public String Name; \n",
    "    public int Age;\n",
    "\n",
    "    public void Bark(int times) {\n",
    "        for (int i = 0; i < times; i++) {\n",
    "            System.out.println(\"Bark\"); \n",
    "        }\n",
    "    }\n",
    "\n",
    "    public static void main(String[] args) { \n",
    "        Dog dog = new Dog();\n",
    "\n",
    "        dog.Bark(5);\n",
    "    }\n",
    "}\n",
    "Dog.main(words);\n"
   ]
  },
  {
   "cell_type": "markdown",
   "metadata": {},
   "source": [
    "### Calling a non-void method\n",
    "It's possible to call a non-void method on an object so that it returns a value, the type of which is specified with the method."
   ]
  },
  {
   "cell_type": "code",
   "execution_count": 8,
   "metadata": {
    "vscode": {
     "languageId": "java"
    }
   },
   "outputs": [
    {
     "name": "stdout",
     "output_type": "stream",
     "text": [
      "Larry\n"
     ]
    }
   ],
   "source": [
    "public class Dog {\n",
    "    public String Name; //instance variables\n",
    "    public int Age;\n",
    "\n",
    "    public Dog(String name, int age) { //construction method\n",
    "        Name = name;\n",
    "        Age = age;\n",
    "    }\n",
    "\n",
    "    public String getName() { //non-void method that returns a String\n",
    "        return Name;\n",
    "    }\n",
    "\n",
    "    public static void main(String[] args) { //main code\n",
    "        Dog d = new Dog(\"Larry\", 4);\n",
    "        System.out.println(d.getName());\n",
    "    }\n",
    "}\n",
    "\n",
    "Dog.main(null);"
   ]
  },
  {
   "cell_type": "markdown",
   "metadata": {},
   "source": [
    "#### Popcorn Hacks\n",
    "Modify the code below (the same code as above) to demonstrate one of the following:\n",
    "- An additional Non-void method\n",
    "- Multiple uses of the same Non-void method on different objects\n",
    "\n",
    "<mark>I added a new age getter `getAge()` as a non-void method and created multiple dogs in the `main()` method to call it. I also rewrote the code to include the use of `this.[variable]` to show understanding of unique object attributes.</mark>"
   ]
  },
  {
   "cell_type": "code",
   "execution_count": 3,
   "metadata": {
    "vscode": {
     "languageId": "java"
    }
   },
   "outputs": [
    {
     "name": "stdout",
     "output_type": "stream",
     "text": [
      "Larry is 4 years old.\n",
      "Fred is 11 years old.\n",
      "Polly is 2 years old.\n",
      "Spot is 52 years old.\n"
     ]
    }
   ],
   "source": [
    "public class Dog {\n",
    "    public String name; //instance variables\n",
    "    public int age;\n",
    "\n",
    "    public Dog(String name, int age) { //construction method\n",
    "        this.name = name;\n",
    "        this.age = age;\n",
    "    }\n",
    "\n",
    "    public String getName() { //non-void method that returns a String\n",
    "        return this.name;\n",
    "    }\n",
    "\n",
    "    // NEW NON-VOID METHOD\n",
    "    public int getAge() {\n",
    "        return this.age;\n",
    "    }\n",
    "\n",
    "    public static void main(String[] args) { //main code\n",
    "        Dog[] dogArray = {new Dog(\"Larry\", 4), new Dog(\"Fred\", 11), new Dog(\"Polly\", 2), new Dog(\"Spot\", 52)};\n",
    "        for (Dog dog : dogArray) {\n",
    "            System.out.println(dog.getName() + \" is \" + dog.getAge() + \" years old.\");\n",
    "        }\n",
    "    }\n",
    "}\n",
    "\n",
    "Dog.main(null);"
   ]
  },
  {
   "cell_type": "markdown",
   "metadata": {},
   "source": [
    "### String Objects\n",
    "String objects are built-in objects in Java that you're probably pretty familiar with, but it also functions like a class, with the following properties:\n",
    "- String objects can be initialized with the new keyword\n",
    "- Method that acts upon String objects can't change the String itself, it is <b>inmmutable</b>. \n",
    "- String objects can be concatenated using the + operator, creating a new string that is the combination of the other two strings\n",
    "- Escape sequences can be used to print characters that are otherwise unavailable, using the \"\\\" (backslash) symbol\n",
    "    - \\\" creates a double quote\n",
    "    - \\\\\\\\ creates a regular backslash (I actually had to use 4 backslashes for this since markdown also recognizes this combination)\n",
    "    - \\n creates a newline\n"
   ]
  },
  {
   "cell_type": "code",
   "execution_count": 15,
   "metadata": {
    "vscode": {
     "languageId": "java"
    }
   },
   "outputs": [
    {
     "name": "stdout",
     "output_type": "stream",
     "text": [
      "hello\n",
      "hello\n",
      "hellohello\n",
      "hello\n",
      "In order to type out a \\\\ string in Java String, you need 4 \\'s \n",
      " You need 3 \\ and 1 \" to type out a \\\"\n"
     ]
    }
   ],
   "source": [
    "public class Strings_demo {\n",
    "    public static void main(String[] args) { //main code\n",
    "        String s1 = \"hello\"; // The way you are probably used to for string objects\n",
    "        String s2 = new String(\"hello\"); // an alternate method to create the same string variable\n",
    "        System.out.println(s1);// these two println statements should print the same thing\n",
    "        System.out.println(s2);\n",
    "\n",
    "        String s3 = s1+s2; // s3 is a concatenation of s1 and s2\n",
    "        System.out.println(s3);\n",
    "        System.out.println(s1); // the method doesn't actually change the String itself\n",
    "\n",
    "        String s4 = new String(\"In order to type out a \\\\\\\\ string in Java String, you need 4 \\\\'s \\n You need 3 \\\\'s and 1 \\\" to type out a \\\\\\\"\"); // a demonstration of the escape sequences\n",
    "        System.out.println(s4);\n",
    "    }\n",
    "}\n",
    "Strings_demo.main(null);"
   ]
  },
  {
   "cell_type": "markdown",
   "metadata": {},
   "source": [
    "Here are some of the String methods we use:\n",
    "|Syntax|Definition|\n",
    "|-|-|\n",
    "|String(String str)|Constructs a new String object with the same sequence of characters as str|\n",
    "|int length()|Returns the number of characters in the String|\n",
    "|String substring(int from, in to)|Returns the substring beginning at from to one before to|\n",
    "|String substring(int from)|Returns the substring beginning at from to the end|\n",
    "|int indexOf(String str)|Returns the first occurence of str, returns -1 if not found|\n",
    "|boolean equals(String other)|Returns true if this is equal to other and vice versa|\n",
    "|int compareTo(String other)|Returns a value <0 if this is less than other, 0 if they are equal and a value >- if this is greater than other|"
   ]
  },
  {
   "cell_type": "code",
   "execution_count": 23,
   "metadata": {
    "vscode": {
     "languageId": "java"
    }
   },
   "outputs": [
    {
     "name": "stdout",
     "output_type": "stream",
     "text": [
      "14\n",
      "hello\n",
      "hello\n",
      "4\n",
      "false\n",
      "4\n",
      "-4\n",
      "true\n",
      "0\n",
      "hello\n",
      "hihihellothere\n",
      "hello\n"
     ]
    }
   ],
   "source": [
    "public class Strings_demo_2 {\n",
    "    public static void main(String[] args) { //main code\n",
    "        String s1 = \"hello\"; // Strings for demonstration\n",
    "        String s2 = new String(\"hihihellothere\"); // Construction using the method\n",
    "        System.out.println(s2.length());\n",
    "\n",
    "        String s3 = s2.substring(4,9); // creating a substring of s1 from index 4 to 9-1\n",
    "        System.out.println(s3);\n",
    "        System.out.println(s1); // these should be the same\n",
    "\n",
    "        System.out.println(s2.indexOf(s1)); //returns the first occurence of hello in hihihellothere (4)\n",
    "\n",
    "        System.out.println(s2.equals(s1)); // returns if hello is the same as hihihellothere (it's not)\n",
    "        System.out.println(s2.compareTo(s1)); // compares hihihellothere to hello, since it greater since h=h and i>e, this returns a positive number\n",
    "        System.out.println(s1.compareTo(s2)); // the reversal of the above, returns a negative number\n",
    "        System.out.println(s3.equals(s1)); // returns if hello is the same as hello (it's)\n",
    "        System.out.println(s3.compareTo(s1)); // compares hello to hello, since they are the same, this returns a 0\n",
    "\n",
    "        System.out.println(s1);// none of these methods affect the original strings, since Strings are immutatble\n",
    "        System.out.println(s2);\n",
    "        System.out.println(s3);\n",
    "    }\n",
    "}\n",
    "Strings_demo_2.main(null);"
   ]
  },
  {
   "cell_type": "markdown",
   "metadata": {},
   "source": [
    "#### Popcorn Hacks\n",
    "Using the methods above, create a method that is able to return the position of a substring in a string and use s.o.pl to prove it.\n",
    "\n",
    "<mark>I did this below.</mark>"
   ]
  },
  {
   "cell_type": "code",
   "execution_count": 12,
   "metadata": {
    "vscode": {
     "languageId": "java"
    }
   },
   "outputs": [
    {
     "name": "stdout",
     "output_type": "stream",
     "text": [
      "Input a string to be analyzed.\n"
     ]
    },
    {
     "name": "stdout",
     "output_type": "stream",
     "text": [
      "\"Hello World!\"\n",
      "Input a substring to be found.\n",
      "\"World\"\n",
      "The substring was located at index 6.\n"
     ]
    }
   ],
   "source": [
    "public class SubstringFinder {\n",
    "    public static String[] stringInput() {\n",
    "        Scanner scanner = new Scanner(System.in);\n",
    "        System.out.println(\"Input a string to be analyzed.\");\n",
    "        String chosenString = scanner.nextLine();\n",
    "        System.out.println('\"' + chosenString + '\"');\n",
    "        System.out.println(\"Input a substring to be found.\");\n",
    "        String chosenSubstring = scanner.nextLine();\n",
    "        System.out.println('\"' + chosenSubstring + '\"');\n",
    "        scanner.close();\n",
    "        String[] choices = {chosenString, chosenSubstring};\n",
    "        return choices;\n",
    "    }\n",
    "\n",
    "    public static int substringPositionFinder(String[] stringThenSubstring) {\n",
    "        int outcome = stringThenSubstring[0].indexOf(stringThenSubstring[1]);\n",
    "        return outcome;\n",
    "    }\n",
    "\n",
    "    public static void main(String[] args) {\n",
    "        String[] stringInputs = stringInput();\n",
    "        int indexPosition = substringPositionFinder(stringInputs);\n",
    "        if (indexPosition >= 0) {\n",
    "            System.out.println(\"The substring was located at index \" + indexPosition + \".\");\n",
    "        } else {\n",
    "            System.out.println(\"The substring could not be located in the provided string.\");\n",
    "        }\n",
    "    }\n",
    "}\n",
    "\n",
    "SubstringFinder.main(null);"
   ]
  },
  {
   "cell_type": "markdown",
   "metadata": {},
   "source": [
    "### Wrapper Classes\n",
    "You may remember the Wrapper classes from before, this will present two additional wrapper classes - Integer and Double\n",
    "\n",
    "- Integer (not int - notice the non-shortend word and capitalization)\n",
    "    - int is a primitive data type, and Integer is a wrapper class\n",
    "\n",
    "|Syntax|Definition|\n",
    "|-|-|\n",
    "|Integer(int value)|Constructs a new Integer object representing the value|\n",
    "|Integer.MIN_VALUE|the minimum  value represented by a int or Integer|\n",
    "|Integer.MAX_VALUE|the maximum  value represented by a int or Integer|\n",
    "|int intValue()|Returns the value of Integer as int|\n",
    "\n",
    "- Double (not double)\n",
    "    - double is a primitive data type, Double is a wrapper class\n",
    "\n",
    "|Syntax|Definition|\n",
    "|-|-|\n",
    "|Double(double value)|Constructs a new Double object representing the value|\n",
    "|double doubleValue()|Returns the value of the Double as a double|\n",
    "\n",
    "(not the most exciting thing I know)\n",
    "\n",
    "#### ok but why\n",
    "In Java, Wrapper classes are used to convert between primitive data types (int, boolean) and only store a single value and Reference types (String, ArrayList).\n",
    "It provides a way for us to use primitive datas as objects\n",
    "\n",
    "#### Autoboxing and Unboxing\n",
    "As of Java 5.0, autoboxing and unboxing are added\n",
    "\n",
    "Autoboxing is the automatic process that Java compiler uses to convert primitive types and their respective Wrapper classes\n",
    "\n",
    "Unboxing is the opposite, comverting Wrapper classes to primitive types\n"
   ]
  },
  {
   "cell_type": "code",
   "execution_count": 33,
   "metadata": {
    "vscode": {
     "languageId": "java"
    }
   },
   "outputs": [
    {
     "name": "stdout",
     "output_type": "stream",
     "text": [
      "10\n",
      "10\n",
      "25.5\n",
      "25.5\n",
      "15\n",
      "23.7\n",
      "-2147483648\n",
      "2147483647\n",
      "10\n",
      "25.5\n",
      "20\n",
      "24.2\n"
     ]
    }
   ],
   "source": [
    "public class Unboxing_stream {\n",
    "    public static void main(String[] args) { //main code\n",
    "        int i1 = 10; // primitive data types\n",
    "        double d1 = 25.5;\n",
    "\n",
    "        Integer I1 = new Integer(i1); // Construction of the Wrapper classes version (superior)\n",
    "        Double D1 = new Double(d1);\n",
    "\n",
    "        System.out.println(i1); // The values correspond to their original values\n",
    "        System.out.println(I1);\n",
    "        System.out.println(d1);\n",
    "        System.out.println(D1);\n",
    "\n",
    "        int i2 = I1.intValue()+5; //usage of the intValue function\n",
    "        System.out.println(i2);\n",
    "        double d2 = D1.intValue()-1.3; //usage of the doubleValue function\n",
    "        System.out.println(d2);\n",
    "\n",
    "        System.out.println(Integer.MIN_VALUE); // the actual values of the MIN_VALUE and MAX_VALUE\n",
    "        System.out.println(Integer.MAX_VALUE);\n",
    "\n",
    "        Integer I2 = i1; // autoboxing bypasses the need for contructor methods\n",
    "        Double D2 = d1;\n",
    "        System.out.println(I2);\n",
    "        System.out.println(D2);\n",
    "\n",
    "        int i3 = I2+10; // unboxing without using any methods\n",
    "        double d3 = D2-1.3;\n",
    "        System.out.println(i3);\n",
    "        System.out.println(d3);\n",
    "    }\n",
    "}\n",
    "Unboxing_stream.main(null);"
   ]
  },
  {
   "cell_type": "markdown",
   "metadata": {},
   "source": [
    "### the Math class\n",
    "Talking about the java object here, math offers several useful method for mathmatical usages.\n",
    "- Math methods are static, they belong to the class instead of an object and can be used without creating an object\n",
    "- the Math class is already imported as part of java.lane.Math\n",
    "    - However, you can use the methods without using the Math prefix with the import command import static java.lang.Math.*\n",
    "\n",
    "|Syntax|Definition|\n",
    "|-|-|\n",
    "|static int abs(int x)|Returns the absolute value of a int|\n",
    "|static double abs(double x)|Returns the absolute value of a double|\n",
    "|static double pow(double base, double exponent)|Returns the value of base to the exponent power|\n",
    "|static double random()|Returns a random double between 0.0 and 1.0|\n"
   ]
  },
  {
   "cell_type": "code",
   "execution_count": 14,
   "metadata": {
    "vscode": {
     "languageId": "java"
    }
   },
   "outputs": [
    {
     "name": "stdout",
     "output_type": "stream",
     "text": [
      "12.5\n",
      "5\n",
      "625.0\n",
      "true\n"
     ]
    }
   ],
   "source": [
    "import static java.lang.Math.*; // implicit importation \n",
    "\n",
    "public class maths_demo {\n",
    "    public static void main(String[] args) { //main code\n",
    "        double a=12.5; // ints we will use\n",
    "        int b=-5;\n",
    "        int c=4;\n",
    "\n",
    "        System.out.println(abs(a)); // prints the absolute values of a and b\n",
    "        System.out.println(abs(b)); // should have no effect on a but b should be turned to its opposite (the positive number)\n",
    "\n",
    "        System.out.println(pow(b,c)); // prints the result of b to c\n",
    "\n",
    "        System.out.println(random()*10>4); // returns true if a random number from 0 to 10 is greater than 4, this should return different values with different runs.\n",
    "    }\n",
    "}\n",
    "\n",
    "maths_demo.main(null);"
   ]
  },
  {
   "cell_type": "markdown",
   "metadata": {},
   "source": [
    "#### Popcorn hacks\n",
    "Create a variation of the number guessing game and try to use these methods in. Bonus points for creativity.\n",
    "\n",
    "<mark>To make the game more interesting, you're now asked to guess 2 put to a power between 0 and 10. This means that the possible options are 1, 2, 4, 8, 16, 32, 64, 128, 256, 512, and 1024. This can help people remember powers of 2, I guess.<br><br>I also made it so that you can replay it as many times as you want.</mark>"
   ]
  },
  {
   "cell_type": "code",
   "execution_count": 23,
   "metadata": {
    "vscode": {
     "languageId": "java"
    }
   },
   "outputs": [
    {
     "name": "stdout",
     "output_type": "stream",
     "text": [
      "Welcome to the Power-of-2 guessing game! You'll have three tries to guess the number.\n",
      "\n",
      "Guess a power of two! (2 is put to a power between 0 and 10, inclusive.)\n",
      "The random power is LESS than 256...\n",
      "Guess a power of two! (2 is put to a power between 0 and 10, inclusive.)\n",
      "The random power is LESS than 128...\n",
      "Guess a power of two! (2 is put to a power between 0 and 10, inclusive.)\n",
      "The random power is GREATER than 4...\n",
      "Too bad! The random power of 2 was 64.\n",
      "Would you like to play again? (y or n)\n",
      "\n",
      "Guess a power of two! (2 is put to a power between 0 and 10, inclusive.)\n",
      "The random power is LESS than 256...\n",
      "Guess a power of two! (2 is put to a power between 0 and 10, inclusive.)\n",
      "The random power is GREATER than 8...\n",
      "Guess a power of two! (2 is put to a power between 0 and 10, inclusive.)\n",
      "Congratulations! You guessed the random power of 2: 32.\n",
      "Would you like to play again? (y or n)\n",
      "\n",
      "Guess a power of two! (2 is put to a power between 0 and 10, inclusive.)\n",
      "The random power is LESS than 1024...\n",
      "Guess a power of two! (2 is put to a power between 0 and 10, inclusive.)\n",
      "The random power is LESS than 4...\n",
      "Guess a power of two! (2 is put to a power between 0 and 10, inclusive.)\n",
      "Congratulations! You guessed the random power of 2: 2.\n",
      "Would you like to play again? (y or n)\n",
      "Thanks for playing! You won a total of 2 time(s).\n"
     ]
    }
   ],
   "source": [
    "public class PowerGuessingGame {\n",
    "    public static int randomPowerGenerator() {\n",
    "        Random random = new Random();\n",
    "        int randomNumber = random.nextInt(11);\n",
    "        return (int) pow(2, randomNumber);\n",
    "    }\n",
    "\n",
    "    public static int powerInput() {\n",
    "        Scanner scanner = new Scanner(System.in);\n",
    "        System.out.println(\"Guess a power of two! (2 is put to a power between 0 and 10, inclusive.)\");\n",
    "        int userInput = scanner.nextInt();\n",
    "        scanner.close();\n",
    "        return userInput;\n",
    "    }\n",
    "\n",
    "    public static int guessingGame() {\n",
    "        System.out.println(\"\");\n",
    "        int randomPower = randomPowerGenerator();\n",
    "        for (int i = 3; i > 0; i--) {\n",
    "            int userChoice = powerInput();\n",
    "            if (userChoice > randomPower) {\n",
    "                System.out.println(\"The random power is LESS than \" + userChoice + \"...\");\n",
    "            } else if (userChoice < randomPower) {\n",
    "                System.out.println(\"The random power is GREATER than \" + userChoice + \"...\");\n",
    "            } else {\n",
    "                System.out.println(\"Congratulations! You guessed the random power of 2: \" + randomPower + \".\");\n",
    "                return 1;\n",
    "            }\n",
    "        }\n",
    "        System.out.println(\"Too bad! The random power of 2 was \" + randomPower + \".\");\n",
    "        return 0;\n",
    "    }\n",
    "\n",
    "    public static void main(String[] args) {\n",
    "        System.out.println(\"Welcome to the Power-of-2 guessing game! You'll have three tries to guess the number.\");\n",
    "        boolean playing = true;\n",
    "        int results = 0;\n",
    "        while (playing) {\n",
    "            results += guessingGame();\n",
    "            Scanner scanner = new Scanner(System.in);\n",
    "            System.out.println(\"Would you like to play again? (y or n)\");\n",
    "            String response = scanner.nextLine();\n",
    "            if (!(response.equals(\"y\"))) {playing = false;}\n",
    "        }\n",
    "        System.out.println(\"Thanks for playing! You won a total of \" + results + \" time(s).\");\n",
    "    }\n",
    "}\n",
    "\n",
    "PowerGuessingGame.main(null);"
   ]
  },
  {
   "cell_type": "markdown",
   "metadata": {},
   "source": [
    "## Hacks\n",
    "> Complete all popcorn hacks\n",
    "> ### [Quiz](https://docs.google.com/forms/d/e/1FAIpQLScr-jf31aGlkrNUrgu_xyyq29GOfruPDv7_YKKYyWpWqWH_9Q/viewform?usp=sf_link)\n",
    "\n",
    "### Additional Notes\n",
    "\n",
    "Remember that \"autoboxing\" can include objects, such as Strings.\n",
    "\n",
    "### Quiz Code Blocks\n",
    "\n",
    "#### First FRQ\n",
    "\n",
    "Create a program that manages a list of students' scores using the ArrayList class from the java.util package. Write Java code to perform the following tasks:\n",
    "\n",
    "a. Create an empty ArrayList of integers called studentScores.\n",
    "\n",
    "b. Add the following scores to the studentScores list: 85, 92, 78, 95, 88, and 91.\n",
    "\n",
    "c. Calculate and print the average score of the students.\n",
    "\n",
    "d. Remove any scores that are below 80 from the list.\n",
    "\n",
    "e. Add a new score of 89 to the list.\n",
    "\n",
    "f. Print the updated contents of the studentScores list.\n",
    "\n",
    "<mark>I completed the process in the cell below.</mark>"
   ]
  },
  {
   "cell_type": "code",
   "execution_count": 26,
   "metadata": {
    "vscode": {
     "languageId": "java"
    }
   },
   "outputs": [
    {
     "name": "stdout",
     "output_type": "stream",
     "text": [
      "Average Score: 88.16666666666667\n",
      "Final ArrayList contents: [85, 92, 95, 88, 91, 89]\n"
     ]
    }
   ],
   "source": [
    "import java.util.ArrayList;\n",
    "import java.util.Arrays;\n",
    "\n",
    "public class ScoreQuestion {\n",
    "    public static double calculateAverageScore(ArrayList<Integer> scores) {\n",
    "        // method for calculating average student scores\n",
    "        double total = 0.0;\n",
    "        for (int score : scores) {\n",
    "            total += (double) score;\n",
    "        }\n",
    "        double average = total / scores.size();\n",
    "        return average;\n",
    "    }\n",
    "\n",
    "    public static void main(String[] args) {\n",
    "        // new ArrayList of integers called studentScores\n",
    "        ArrayList<Integer> studentScores = new ArrayList<Integer>();\n",
    "        \n",
    "        // adding 85, 92, 78, 95, 88, 91\n",
    "        studentScores.addAll(Arrays.asList(85, 92, 78, 95, 88, 91));\n",
    "\n",
    "        // calculating average score (see method above)\n",
    "        double averageScore = calculateAverageScore(studentScores);\n",
    "        System.out.println(\"Average Score: \" + averageScore);\n",
    "\n",
    "        // removing all scores below 80\n",
    "        for (int i = 0; i < studentScores.size(); i++) {\n",
    "            if (studentScores.get(i) < 80) {\n",
    "                studentScores.remove(i);\n",
    "                i--; // decrementing i to account for decreased ArrayList size\n",
    "            }\n",
    "        }\n",
    "\n",
    "        // adding the new score 89\n",
    "        studentScores.add(89);\n",
    "\n",
    "        // printing the updated studentScores\n",
    "        System.out.println(\"Final ArrayList contents: \" + studentScores);\n",
    "    }\n",
    "}\n",
    "\n",
    "ScoreQuestion.main(null);"
   ]
  },
  {
   "cell_type": "markdown",
   "metadata": {},
   "source": [
    "### FRQ Question 2\n",
    "\n",
    "Generate"
   ]
  },
  {
   "cell_type": "code",
   "execution_count": 28,
   "metadata": {
    "vscode": {
     "languageId": "java"
    }
   },
   "outputs": [
    {
     "name": "stdout",
     "output_type": "stream",
     "text": [
      "Randomly generated number #1: 3\n",
      "Randomly generated number #2: 53\n",
      "Randomly generated number #3: 71\n",
      "Randomly generated number #4: 98\n",
      "Randomly generated number #5: 51\n"
     ]
    }
   ],
   "source": [
    "import java.util.Random;\n",
    "\n",
    "public class RandomQuestion {\n",
    "    public static void main(String[] args) {\n",
    "        // making an instance of the random object\n",
    "        Random random = new Random();\n",
    "\n",
    "        // printing the 5 numbers (using for loop)\n",
    "        for (int i = 0; i < 5; i++) {\n",
    "            int randomNumber = random.nextInt(100) + 1; // random between 0 and 99, with 1 added to offset\n",
    "            System.out.println(\"Randomly generated number #\" + (i + 1) + \": \" + randomNumber);\n",
    "        }\n",
    "    }\n",
    "}\n",
    "\n",
    "RandomQuestion.main(null);"
   ]
  }
 ],
 "metadata": {
  "kernelspec": {
   "display_name": "Java",
   "language": "java",
   "name": "java"
  },
  "language_info": {
   "codemirror_mode": "java",
   "file_extension": ".jshell",
   "mimetype": "text/x-java-source",
   "name": "Java",
   "pygments_lexer": "java",
   "version": "11.0.20.1+0"
  },
  "orig_nbformat": 4
 },
 "nbformat": 4,
 "nbformat_minor": 2
}
